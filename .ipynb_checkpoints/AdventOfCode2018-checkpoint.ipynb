{
 "cells": [
  {
   "cell_type": "markdown",
   "metadata": {},
   "source": [
    "# Day 0\n",
    "\n",
    "Import commonly used modules."
   ]
  },
  {
   "cell_type": "code",
   "execution_count": 323,
   "metadata": {},
   "outputs": [],
   "source": [
    "using DelimitedFiles\n",
    "using Base.Iterators\n",
    "using Combinatorics"
   ]
  },
  {
   "cell_type": "markdown",
   "metadata": {},
   "source": [
    "# Day 1\n",
    "\n",
    "## Part 1\n",
    "\n",
    "After feeling like you've been falling for a few minutes, you look at the device's tiny screen. \"Error: Device must be calibrated before first use. Frequency drift detected. Cannot maintain destination lock.\" Below the message, the device shows a sequence of changes in frequency (your puzzle input). A value like +6 means the current frequency increases by 6; a value like -3 means the current frequency decreases by 3.\n",
    "\n",
    "For example, if the device displays frequency changes of +1, -2, +3, +1, then starting from a frequency of zero, the following changes would occur:\n",
    "\n",
    "Current frequency  0, change of +1; resulting frequency  1.\n",
    "Current frequency  1, change of -2; resulting frequency -1.\n",
    "Current frequency -1, change of +3; resulting frequency  2.\n",
    "Current frequency  2, change of +1; resulting frequency  3.\n",
    "In this example, the resulting frequency is 3.\n",
    "\n",
    "Here are other example situations:\n",
    "\n",
    "+1, +1, +1 results in  3\n",
    "+1, +1, -2 results in  0\n",
    "-1, -2, -3 results in -6\n",
    "Starting with a frequency of zero, what is the resulting frequency after all of the changes in frequency have been applied?\n",
    "\n",
    "Inputs saved in day1/input1.txt"
   ]
  },
  {
   "cell_type": "code",
   "execution_count": 324,
   "metadata": {},
   "outputs": [
    {
     "name": "stdout",
     "output_type": "stream",
     "text": [
      "Final resulting frequency: 595"
     ]
    }
   ],
   "source": [
    "open(\"day1input.txt\") do f\n",
    "    global d1inputs = readdlm(f, Int64)\n",
    "end\n",
    "\n",
    "pos = sum(d1inputs)\n",
    "print(\"Final resulting frequency: $pos\")"
   ]
  },
  {
   "cell_type": "markdown",
   "metadata": {},
   "source": [
    "## Part Two\n",
    "\n",
    "You notice that the device repeats the same frequency change list over and over. To calibrate the device, you need to find the first frequency it reaches twice.\n",
    "\n",
    "For example, using the same list of changes above, the device would loop as follows:\n",
    "\n",
    "Current frequency  0, change of +1; resulting frequency  1.\n",
    "Current frequency  1, change of -2; resulting frequency -1.\n",
    "Current frequency -1, change of +3; resulting frequency  2.\n",
    "Current frequency  2, change of +1; resulting frequency  3.\n",
    "(At this point, the device continues from the start of the list.)\n",
    "Current frequency  3, change of +1; resulting frequency  4.\n",
    "Current frequency  4, change of -2; resulting frequency  2, which has already been seen.\n",
    "In this example, the first frequency reached twice is 2. Note that your device might need to repeat its list of frequency changes many times before a duplicate frequency is found, and that duplicates might be found while in the middle of processing the list.\n",
    "\n",
    "Here are other examples:\n",
    "\n",
    "+1, -1 first reaches 0 twice.\n",
    "+3, +3, +4, -2, -4 first reaches 10 twice.\n",
    "-6, +3, +8, +5, -6 first reaches 5 twice.\n",
    "+7, +7, -2, -7, -4 first reaches 14 twice.\n",
    "\n",
    "What is the first frequency your device reaches twice?"
   ]
  },
  {
   "cell_type": "code",
   "execution_count": 325,
   "metadata": {
    "scrolled": true
   },
   "outputs": [
    {
     "name": "stdout",
     "output_type": "stream",
     "text": [
      "First frequency reached twice is: 80598"
     ]
    }
   ],
   "source": [
    "using Base.Iterators\n",
    "\n",
    "visited = Set{Int64}()\n",
    "pos = 0\n",
    "push!(visited, pos)\n",
    "\n",
    "for input in cycle(d1inputs)\n",
    "    pos += input\n",
    "    if in(pos, visited)\n",
    "        break\n",
    "    end\n",
    "    push!(visited, pos)\n",
    "end\n",
    "\n",
    "print(\"First frequency reached twice is: $pos\")"
   ]
  },
  {
   "cell_type": "markdown",
   "metadata": {},
   "source": [
    "# Day 2: Inventory Management System\n",
    "\n",
    "You stop falling through time, catch your breath, and check the screen on the device. \"Destination reached. Current Year: 1518. Current Location: North Pole Utility Closet 83N10.\" You made it! Now, to find those anomalies.\n",
    "\n",
    "Outside the utility closet, you hear footsteps and a voice. \"...I'm not sure either. But now that so many people have chimneys, maybe he could sneak in that way?\" Another voice responds, \"Actually, we've been working on a new kind of suit that would let him fit through tight spaces like that. But, I heard that a few days ago, they lost the prototype fabric, the design plans, everything! Nobody on the team can even seem to remember important details of the project!\"\n",
    "\n",
    "\"Wouldn't they have had enough fabric to fill several boxes in the warehouse? They'd be stored together, so the box IDs should be similar. Too bad it would take forever to search the warehouse for two similar box IDs...\" They walk too far away to hear any more.\n",
    "\n",
    "Late at night, you sneak to the warehouse - who knows what kinds of paradoxes you could cause if you were discovered - and use your fancy wrist device to quickly scan every box and produce a list of the likely candidates (your puzzle input).\n",
    "\n",
    "To make sure you didn't miss any, you scan the likely candidate boxes again, counting the number that have an ID containing exactly two of any letter and then separately counting those with exactly three of any letter. You can multiply those two counts together to get a rudimentary checksum and compare it to what your device predicts.\n",
    "\n",
    "For example, if you see the following box IDs:\n",
    "\n",
    "- `abcdef` contains no letters that appear exactly two or three times.\n",
    "- `bababc` contains two a and three b, so it counts for both.\n",
    "- `abbcde` contains two b, but no letter appears exactly three times.\n",
    "- `abcccd` contains three c, but no letter appears exactly two times.\n",
    "- `aabcdd` contains two a and two d, but it only counts once.\n",
    "- `abcdee` contains two e.\n",
    "- `ababab` contains three a and three b, but it only counts once.\n",
    "\n",
    "Of these box IDs, four of them contain a letter which appears exactly twice, and three of them contain a letter which appears exactly three times. Multiplying these together produces a checksum of 4 * 3 = 12.\n",
    "\n",
    "What is the checksum for your list of box IDs?"
   ]
  },
  {
   "cell_type": "code",
   "execution_count": 326,
   "metadata": {},
   "outputs": [],
   "source": [
    "function getLetterCounts(s)\n",
    "    counts = Dict()\n",
    "    for c in s\n",
    "        counts[c] = get(counts, c, 0) + 1\n",
    "    end\n",
    "    return counts\n",
    "end\n",
    "\n",
    "# Example function input (remove ';' to show output)\n",
    "getLetterCounts(\"bababc\");"
   ]
  },
  {
   "cell_type": "code",
   "execution_count": 327,
   "metadata": {},
   "outputs": [],
   "source": [
    "function numCodesWithNRepeats(n, inputs)\n",
    "    letters = Char[]\n",
    "    num = 0\n",
    "    for code in inputs\n",
    "        counts = getLetterCounts(code)\n",
    "        if n in values(counts)\n",
    "            num +=1\n",
    "        end\n",
    "    end\n",
    "    return num\n",
    "end\n",
    "\n",
    "# Example function input (remove ';' to show output)\n",
    "numCodesWithNRepeats(2, [\"abbcde\", \"bababc\", \"abcdef\"]);"
   ]
  },
  {
   "cell_type": "code",
   "execution_count": 328,
   "metadata": {},
   "outputs": [
    {
     "data": {
      "text/plain": [
       "6370"
      ]
     },
     "execution_count": 328,
     "metadata": {},
     "output_type": "execute_result"
    }
   ],
   "source": [
    "open(\"day2input.txt\") do f\n",
    "    global d2inputs = readdlm(f, String)\n",
    "end\n",
    "\n",
    "function checksum(inputs)\n",
    "    repeat2 = numCodesWithNRepeats(2, inputs)\n",
    "    repeat3 = numCodesWithNRepeats(3, inputs)\n",
    "    return repeat2 * repeat3\n",
    "end\n",
    "\n",
    "checksum(d2inputs)"
   ]
  },
  {
   "cell_type": "markdown",
   "metadata": {},
   "source": [
    "## Part Two\n",
    "\n",
    "Confident that your list of box IDs is complete, you're ready to find the boxes full of prototype fabric.\n",
    "\n",
    "The boxes will have IDs which differ by exactly one character at the same position in both strings. For example, given the following box IDs:\n",
    "\n",
    "abcde\n",
    "fghij\n",
    "klmno\n",
    "pqrst\n",
    "fguij\n",
    "axcye\n",
    "wvxyz\n",
    "The IDs abcde and axcye are close, but they differ by two characters (the second and fourth). However, the IDs fghij and fguij differ by exactly one character, the third (h and u). Those must be the correct boxes.\n",
    "\n",
    "What letters are common between the two correct box IDs? (In the example above, this is found by removing the differing character from either ID, producing fgij.)"
   ]
  },
  {
   "cell_type": "code",
   "execution_count": 329,
   "metadata": {},
   "outputs": [],
   "source": [
    "function numChanges(a, b)\n",
    "    n = 0\n",
    "    for (c1, c2) in zip(a, b)\n",
    "        if c1 != c2\n",
    "            n +=1\n",
    "        end\n",
    "    end\n",
    "    return n\n",
    "end\n",
    "\n",
    "numChanges(\"fghij\", \"fguij\");"
   ]
  },
  {
   "cell_type": "code",
   "execution_count": 330,
   "metadata": {},
   "outputs": [],
   "source": [
    "function pairsWithOneChange(inputs)\n",
    "    pairs = []\n",
    "    for (s1, s2) in combinations(inputs, 2)\n",
    "        if numChanges(s1, s2) == 1\n",
    "            push!(pairs, (s1, s2))\n",
    "        end\n",
    "    end\n",
    "    return pairs\n",
    "end\n",
    "\n",
    "pairsWithOneChange([\"abc\", \"acd\", \"adc\", \"aec\"]);"
   ]
  },
  {
   "cell_type": "code",
   "execution_count": 331,
   "metadata": {},
   "outputs": [],
   "source": [
    "function commonLetters(s1, s2)\n",
    "    output = []\n",
    "    for (c1, c2) in zip(s1, s2)\n",
    "        if c1 == c2\n",
    "            push!(output, c1)\n",
    "        end\n",
    "    end\n",
    "    return join(output)\n",
    "end\n",
    "\n",
    "commonLetters(\"123456789\", \"123356789\");"
   ]
  },
  {
   "cell_type": "code",
   "execution_count": 332,
   "metadata": {},
   "outputs": [
    {
     "data": {
      "text/plain": [
       "\"rmyxgdlihczskunpfijqcebtv\""
      ]
     },
     "execution_count": 332,
     "metadata": {},
     "output_type": "execute_result"
    }
   ],
   "source": [
    "function commonOfCorrect(inputs)\n",
    "    oneChange = pairsWithOneChange(inputs)\n",
    "    commonLetters(oneChange[1]...)\n",
    "end\n",
    "\n",
    "commonOfCorrect(d2inputs)"
   ]
  },
  {
   "cell_type": "markdown",
   "metadata": {},
   "source": [
    "# Day 3: No Matter How You Slice It\n",
    "\n",
    "The Elves managed to locate the chimney-squeeze prototype fabric for Santa's suit (thanks to someone who helpfully wrote its box IDs on the wall of the warehouse in the middle of the night). Unfortunately, anomalies are still affecting them - nobody can even agree on how to cut the fabric.\n",
    "\n",
    "The whole piece of fabric they're working on is a very large square - at least 1000 inches on each side.\n",
    "\n",
    "Each Elf has made a claim about which area of fabric would be ideal for Santa's suit. All claims have an ID and consist of a single rectangle with edges parallel to the edges of the fabric. Each claim's rectangle is defined as follows:\n",
    "\n",
    "The number of inches between the left edge of the fabric and the left edge of the rectangle.\n",
    "The number of inches between the top edge of the fabric and the top edge of the rectangle.\n",
    "The width of the rectangle in inches.\n",
    "The height of the rectangle in inches.\n",
    "A claim like `#123 @ 3,2: 5x4` means that claim ID 123 specifies a rectangle 3 inches from the left edge, 2 inches from the top edge, 5 inches wide, and 4 inches tall. Visually, it claims the square inches of fabric represented by # (and ignores the square inches of fabric represented by .) in the diagram below:\n",
    "\n",
    "```...........\n",
    "...........\n",
    "...#####...\n",
    "...#####...\n",
    "...#####...\n",
    "...#####...\n",
    "...........\n",
    "...........\n",
    "...........```\n",
    "\n",
    "The problem is that many of the claims overlap, causing two or more claims to cover part of the same areas. For example, consider the following claims:\n",
    "\n",
    "`#1 @ 1,3: 4x4`\n",
    "\n",
    "`#2 @ 3,1: 4x4`\n",
    "\n",
    "`#3 @ 5,5: 2x2`\n",
    "\n",
    "Visually, these claim the following areas:\n",
    "\n",
    "```........\n",
    "...2222.\n",
    "...2222.\n",
    ".11XX22.\n",
    ".11XX22.\n",
    ".111133.\n",
    ".111133.\n",
    "........```\n",
    "\n",
    "The four square inches marked with X are claimed by both 1 and 2. (Claim 3, while adjacent to the others, does not overlap either of them.)\n",
    "\n",
    "If the Elves all proceed with their own plans, none of them will have enough fabric. How many square inches of fabric are within two or more claims?"
   ]
  },
  {
   "cell_type": "code",
   "execution_count": 333,
   "metadata": {},
   "outputs": [
    {
     "data": {
      "text/plain": [
       "parseClaim (generic function with 1 method)"
      ]
     },
     "execution_count": 333,
     "metadata": {},
     "output_type": "execute_result"
    }
   ],
   "source": [
    "function parseClaim(s)\n",
    "    split(s, r\"[^0-9]\") |>\n",
    "    parts -> filter(!isempty, parts) |>\n",
    "    nums -> map(n -> parse(Int64, n), nums)\n",
    "end"
   ]
  },
  {
   "cell_type": "code",
   "execution_count": 334,
   "metadata": {},
   "outputs": [
    {
     "ename": "UndefVarError",
     "evalue": "UndefVarError: getAffectedSquares not defined",
     "output_type": "error",
     "traceback": [
      "UndefVarError: getAffectedSquares not defined",
      "",
      "Stacktrace:",
      " [1] top-level scope at In[334]:4"
     ]
    }
   ],
   "source": [
    "function getAffectedSquaresIterator(_, x, y, w, h)\n",
    "    Iterators.product(x:x+w-1, y:y+h-1)\n",
    "end\n",
    "getAffectedSquares(parseClaim(\"#1 @ 1,3: 4x4\")...)"
   ]
  },
  {
   "cell_type": "code",
   "execution_count": 335,
   "metadata": {
    "scrolled": true
   },
   "outputs": [],
   "source": [
    "function getInput()\n",
    "    open(\"day3input.txt\") do f\n",
    "        readlines(f) |>\n",
    "        collect |>\n",
    "        lines -> map(line -> parseClaim(line), lines)\n",
    "    end\n",
    "end;"
   ]
  },
  {
   "cell_type": "code",
   "execution_count": 336,
   "metadata": {},
   "outputs": [
    {
     "data": {
      "text/plain": [
       "Dict{Any,Any} with 16 entries:\n",
       "  (4, 3) => 1\n",
       "  (1, 6) => 1\n",
       "  (3, 6) => 1\n",
       "  (2, 3) => 1\n",
       "  (2, 6) => 1\n",
       "  (4, 4) => 1\n",
       "  (4, 6) => 1\n",
       "  (2, 5) => 1\n",
       "  (1, 4) => 1\n",
       "  (3, 3) => 1\n",
       "  (1, 3) => 1\n",
       "  (4, 5) => 1\n",
       "  (2, 4) => 1\n",
       "  (1, 5) => 1\n",
       "  (3, 5) => 1\n",
       "  (3, 4) => 1"
      ]
     },
     "execution_count": 336,
     "metadata": {},
     "output_type": "execute_result"
    }
   ],
   "source": [
    "function addPointToDict!(dict, xy)\n",
    "    dict[(xy[1], xy[2])] = get(dict, (xy[1], xy[2]), 0) + 1\n",
    "end\n",
    "\n",
    "function addClaimToDict!(dict, claim)\n",
    "    getAffectedSquaresIterator(claim...) |>\n",
    "    iter -> foreach(xy -> addPointToDict!(dict, xy), iter)\n",
    "end\n",
    "dict = Dict()\n",
    "addClaimToDict!(dict, (1, 1, 3, 4, 4))\n",
    "dict"
   ]
  },
  {
   "cell_type": "code",
   "execution_count": 337,
   "metadata": {},
   "outputs": [
    {
     "name": "stdout",
     "output_type": "stream",
     "text": [
      "There are 101469 square inches of overlap."
     ]
    }
   ],
   "source": [
    "function part1()\n",
    "    claims = getInput()\n",
    "    coverage = Dict()\n",
    "    for claim in claims\n",
    "        addClaimToDict!(coverage, claim)\n",
    "    end\n",
    "    overlaps = 0\n",
    "    for (k, v) in coverage\n",
    "        if v > 1\n",
    "            overlaps += 1\n",
    "        end\n",
    "    end\n",
    "    return overlaps\n",
    "end\n",
    "print(\"There are \" * string(part1()) * \" square inches of overlap.\")"
   ]
  },
  {
   "cell_type": "code",
   "execution_count": 338,
   "metadata": {},
   "outputs": [
    {
     "ename": "UndefVarError",
     "evalue": "UndefVarError: getAffectedSquares not defined",
     "output_type": "error",
     "traceback": [
      "UndefVarError: getAffectedSquares not defined",
      "",
      "Stacktrace:",
      " [1] noOverlappingSquares(::Dict{Any,Any}, ::Array{Int64,1}) at ./In[338]:2",
      " [2] #295 at ./In[338]:18 [inlined]",
      " [3] mapfilter(::getfield(Main, Symbol(\"##295#296\")){Dict{Any,Any}}, ::typeof(push!), ::Array{Array{Int64,1},1}, ::Array{Array{Int64,1},1}) at ./abstractset.jl:336",
      " [4] filter at ./array.jl:2352 [inlined]",
      " [5] part2() at ./In[338]:18",
      " [6] top-level scope at In[338]:20"
     ]
    }
   ],
   "source": [
    "function noOverlappingSquares(dict, claim)\n",
    "    affectedSquares = getAffectedSquares(claim...)\n",
    "    for square in affectedSquares\n",
    "        if dict[square] > 1\n",
    "            return false\n",
    "        end\n",
    "    end\n",
    "    return true\n",
    "end\n",
    "        \n",
    "function part2()\n",
    "    claims = getInput()\n",
    "    overlappingSquareDict = Dict()\n",
    "    for claim in claims\n",
    "        addClaimToDict!(overlappingSquareDict, claim)\n",
    "    end\n",
    "    \n",
    "    filter(claim -> noOverlappingSquares(overlappingSquareDict, claim), claims)[1][1]\n",
    "end\n",
    "print(\"Claim #\" * string(part2()) * \" has no overlapping squares.\")"
   ]
  },
  {
   "cell_type": "markdown",
   "metadata": {},
   "source": [
    "# Day 4: Repose Record\n",
    "\n",
    "You've sneaked into another supply closet - this time, it's across from the prototype suit manufacturing lab. You need to sneak inside and fix the issues with the suit, but there's a guard stationed outside the lab, so this is as close as you can safely get.\n",
    "\n",
    "As you search the closet for anything that might help, you discover that you're not the first person to want to sneak in. Covering the walls, someone has spent an hour starting every midnight for the past few months secretly observing this guard post! They've been writing down the ID of the one guard on duty that night - the Elves seem to have decided that one guard was enough for the overnight shift - as well as when they fall asleep or wake up while at their post (your puzzle input).\n",
    "\n",
    "For example, consider the following records, which have already been organized into chronological order:\n",
    "\n",
    "```\n",
    "[1518-11-01 00:00] Guard #10 begins shift\n",
    "[1518-11-01 00:05] falls asleep\n",
    "[1518-11-01 00:25] wakes up\n",
    "[1518-11-01 00:30] falls asleep\n",
    "[1518-11-01 00:55] wakes up\n",
    "[1518-11-01 23:58] Guard #99 begins shift\n",
    "[1518-11-02 00:40] falls asleep\n",
    "[1518-11-02 00:50] wakes up\n",
    "[1518-11-03 00:05] Guard #10 begins shift\n",
    "[1518-11-03 00:24] falls asleep\n",
    "[1518-11-03 00:29] wakes up\n",
    "[1518-11-04 00:02] Guard #99 begins shift\n",
    "[1518-11-04 00:36] falls asleep\n",
    "[1518-11-04 00:46] wakes up\n",
    "[1518-11-05 00:03] Guard #99 begins shift\n",
    "[1518-11-05 00:45] falls asleep\n",
    "[1518-11-05 00:55] wakes up\n",
    "```\n",
    "\n",
    "Timestamps are written using year-month-day hour:minute format. The guard falling asleep or waking up is always the one whose shift most recently started. Because all asleep/awake times are during the midnight hour (00:00 - 00:59), only the minute portion (00 - 59) is relevant for those events.\n",
    "\n",
    "Visually, these records show that the guards are asleep at these times:\n",
    "\n",
    "```\n",
    "Date   ID   Minute\n",
    "            000000000011111111112222222222333333333344444444445555555555\n",
    "            012345678901234567890123456789012345678901234567890123456789\n",
    "11-01  #10  .....####################.....#########################.....\n",
    "11-02  #99  ........................................##########..........\n",
    "11-03  #10  ........................#####...............................\n",
    "11-04  #99  ....................................##########..............\n",
    "11-05  #99  .............................................##########.....\n",
    "```\n",
    "\n",
    "The columns are Date, which shows the month-day portion of the relevant day; ID, which shows the guard on duty that day; and Minute, which shows the minutes during which the guard was asleep within the midnight hour. (The Minute column's header shows the minute's ten's digit in the first row and the one's digit in the second row.) Awake is shown as ., and asleep is shown as #.\n",
    "\n",
    "Note that guards count as asleep on the minute they fall asleep, and they count as awake on the minute they wake up. For example, because Guard #10 wakes up at 00:25 on 1518-11-01, minute 25 is marked as awake.\n",
    "\n",
    "If you can figure out the guard most likely to be asleep at a specific time, you might be able to trick that guard into working tonight so you can have the best chance of sneaking in. You have two strategies for choosing the best guard/minute combination.\n",
    "\n",
    "Strategy 1: Find the guard that has the most minutes asleep. What minute does that guard spend asleep the most?\n",
    "\n",
    "In the example above, Guard #10 spent the most minutes asleep, a total of 50 minutes (20+25+5), while Guard #99 only slept for a total of 30 minutes (10+10+10). Guard #10 was asleep most during minute 24 (on two days, whereas any other minute the guard was asleep was only seen on one day).\n",
    "\n",
    "While this example listed the entries in chronological order, your entries are in the order you found them. You'll need to organize them before they can be analyzed.\n",
    "\n",
    "What is the ID of the guard you chose multiplied by the minute you chose? (In the above example, the answer would be 10 * 24 = 240.)"
   ]
  },
  {
   "cell_type": "code",
   "execution_count": 339,
   "metadata": {},
   "outputs": [],
   "source": [
    "function getSortedInput()\n",
    "    inputs = Array{String}(undef, 0)\n",
    "    open(\"day4input.txt\") do f\n",
    "        for line in eachline(f)\n",
    "            push!(inputs, string(line))\n",
    "        end\n",
    "    end\n",
    "    return sort(inputs)\n",
    "end;\n",
    "getSortedInput();"
   ]
  },
  {
   "cell_type": "code",
   "execution_count": 340,
   "metadata": {},
   "outputs": [
    {
     "data": {
      "text/plain": [
       "50"
      ]
     },
     "execution_count": 340,
     "metadata": {},
     "output_type": "execute_result"
    }
   ],
   "source": [
    "function extractMinute(line)\n",
    "    return parse(Int64, line[16:17])\n",
    "end\n",
    "\n",
    "function extractGuardId(lines)\n",
    "    split(lines[1])[4][2:end]\n",
    "end\n",
    "\n",
    "extractMinute(\"[1518-11-21 23:50] Guard #2953 begins shift\")\n",
    "# extractGuardId([\"[1518-11-21 23:50] Guard #2953 begins shift\"])"
   ]
  },
  {
   "cell_type": "code",
   "execution_count": 341,
   "metadata": {},
   "outputs": [
    {
     "data": {
      "text/plain": [
       "23-element Array{Any,1}:\n",
       " Any[\"[1518-10-31 00:00] Guard #683 begins shift\"]                                                                                                                                                                                                                                                                                                                                                                                                                                                                                                                                                                                                                                                                                                                             \n",
       " Any[\"[1518-03-27 00:01] Guard #647 begins shift\", \"[1518-03-27 00:08] falls asleep\", \"[1518-03-27 00:12] wakes up\", \"[1518-03-27 00:22] falls asleep\", \"[1518-03-27 00:35] wakes up\", \"[1518-04-22 00:00] Guard #647 begins shift\", \"[1518-04-22 00:52] falls asleep\", \"[1518-04-22 00:54] wakes up\", \"[1518-04-27 00:04] Guard #647 begins shift\", \"[1518-04-27 00:13] falls asleep\"  …  \"[1518-09-28 00:43] falls asleep\", \"[1518-09-28 00:49] wakes up\", \"[1518-09-28 00:52] falls asleep\", \"[1518-09-28 00:55] wakes up\", \"[1518-10-14 00:02] Guard #647 begins shift\", \"[1518-10-14 00:46] falls asleep\", \"[1518-10-14 00:51] wakes up\", \"[1518-10-18 23:59] Guard #647 begins shift\", \"[1518-10-19 00:06] falls asleep\", \"[1518-10-19 00:53] wakes up\"]                 \n",
       " Any[\"[1518-04-03 00:00] Guard #659 begins shift\", \"[1518-04-03 00:26] falls asleep\", \"[1518-04-03 00:38] wakes up\", \"[1518-04-20 00:01] Guard #659 begins shift\", \"[1518-04-20 00:11] falls asleep\", \"[1518-04-20 00:42] wakes up\", \"[1518-04-20 00:45] falls asleep\", \"[1518-04-20 00:58] wakes up\", \"[1518-05-01 00:04] Guard #659 begins shift\", \"[1518-05-01 00:13] falls asleep\"  …  \"[1518-09-26 00:00] falls asleep\", \"[1518-09-26 00:32] wakes up\", \"[1518-10-02 00:02] Guard #659 begins shift\", \"[1518-10-02 00:23] falls asleep\", \"[1518-10-02 00:25] wakes up\", \"[1518-10-02 00:30] falls asleep\", \"[1518-10-02 00:44] wakes up\", \"[1518-10-23 23:49] Guard #659 begins shift\", \"[1518-10-24 00:02] falls asleep\", \"[1518-10-24 00:33] wakes up\"]                 \n",
       " Any[\"[1518-04-14 23:59] Guard #2039 begins shift\", \"[1518-04-15 00:08] falls asleep\", \"[1518-04-15 00:11] wakes up\", \"[1518-04-15 00:37] falls asleep\", \"[1518-04-15 00:49] wakes up\", \"[1518-05-12 00:04] Guard #2039 begins shift\", \"[1518-05-12 00:11] falls asleep\", \"[1518-05-12 00:47] wakes up\", \"[1518-05-28 23:54] Guard #2039 begins shift\", \"[1518-05-29 00:04] falls asleep\"  …  \"[1518-09-05 00:48] wakes up\", \"[1518-09-20 23:59] Guard #2039 begins shift\", \"[1518-09-21 00:11] falls asleep\", \"[1518-09-21 00:49] wakes up\", \"[1518-10-08 00:01] Guard #2039 begins shift\", \"[1518-10-08 00:39] falls asleep\", \"[1518-10-08 00:48] wakes up\", \"[1518-11-16 00:00] Guard #2039 begins shift\", \"[1518-11-16 00:36] falls asleep\", \"[1518-11-16 00:55] wakes up\"]\n",
       " Any[\"[1518-04-30 00:03] Guard #401 begins shift\", \"[1518-04-30 00:15] falls asleep\", \"[1518-04-30 00:20] wakes up\", \"[1518-05-02 23:56] Guard #401 begins shift\", \"[1518-05-03 00:08] falls asleep\", \"[1518-05-03 00:35] wakes up\", \"[1518-05-03 00:54] falls asleep\", \"[1518-05-03 00:57] wakes up\", \"[1518-07-14 23:59] Guard #401 begins shift\", \"[1518-07-15 00:31] falls asleep\"  …  \"[1518-09-12 00:01] Guard #401 begins shift\", \"[1518-09-12 00:08] falls asleep\", \"[1518-09-12 00:38] wakes up\", \"[1518-09-12 00:45] falls asleep\", \"[1518-09-12 00:48] wakes up\", \"[1518-09-28 23:53] Guard #401 begins shift\", \"[1518-09-29 00:05] falls asleep\", \"[1518-09-29 00:14] wakes up\", \"[1518-09-29 00:18] falls asleep\", \"[1518-09-29 00:44] wakes up\"]                 \n",
       " Any[\"[1518-03-22 00:00] Guard #503 begins shift\", \"[1518-03-22 00:17] falls asleep\", \"[1518-03-22 00:36] wakes up\", \"[1518-04-08 00:02] Guard #503 begins shift\", \"[1518-04-08 00:19] falls asleep\", \"[1518-04-08 00:20] wakes up\", \"[1518-04-08 00:46] falls asleep\", \"[1518-04-08 00:58] wakes up\", \"[1518-06-21 00:00] Guard #503 begins shift\", \"[1518-06-21 00:21] falls asleep\"  …  \"[1518-09-09 00:02] Guard #503 begins shift\", \"[1518-09-09 00:33] falls asleep\", \"[1518-09-09 00:51] wakes up\", \"[1518-09-09 00:56] falls asleep\", \"[1518-09-09 00:58] wakes up\", \"[1518-09-23 23:50] Guard #503 begins shift\", \"[1518-09-24 00:03] falls asleep\", \"[1518-09-24 00:14] wakes up\", \"[1518-09-24 00:22] falls asleep\", \"[1518-09-24 00:57] wakes up\"]                 \n",
       " Any[\"[1518-03-27 23:58] Guard #2693 begins shift\", \"[1518-03-28 00:18] falls asleep\", \"[1518-03-28 00:42] wakes up\", \"[1518-03-28 00:56] falls asleep\", \"[1518-03-28 00:59] wakes up\", \"[1518-04-06 23:57] Guard #2693 begins shift\", \"[1518-04-07 00:25] falls asleep\", \"[1518-04-07 00:34] wakes up\", \"[1518-04-25 23:59] Guard #2693 begins shift\", \"[1518-04-26 00:24] falls asleep\"  …  \"[1518-09-30 00:00] Guard #2693 begins shift\", \"[1518-09-30 00:33] falls asleep\", \"[1518-09-30 00:40] wakes up\", \"[1518-09-30 00:46] falls asleep\", \"[1518-09-30 00:58] wakes up\", \"[1518-11-21 00:00] Guard #2693 begins shift\", \"[1518-11-21 00:14] falls asleep\", \"[1518-11-21 00:38] wakes up\", \"[1518-11-21 00:50] falls asleep\", \"[1518-11-21 00:54] wakes up\"]            \n",
       " Any[\"[1518-03-20 00:00] Guard #457 begins shift\", \"[1518-03-20 00:14] falls asleep\", \"[1518-03-20 00:26] wakes up\", \"[1518-03-30 00:03] Guard #457 begins shift\", \"[1518-03-30 00:23] falls asleep\", \"[1518-03-30 00:57] wakes up\", \"[1518-04-02 00:00] Guard #457 begins shift\", \"[1518-04-02 00:20] falls asleep\", \"[1518-04-02 00:57] wakes up\", \"[1518-04-11 00:03] Guard #457 begins shift\"  …  \"[1518-11-03 00:36] falls asleep\", \"[1518-11-03 00:59] wakes up\", \"[1518-11-09 00:04] Guard #457 begins shift\", \"[1518-11-09 00:25] falls asleep\", \"[1518-11-09 00:44] wakes up\", \"[1518-11-09 00:50] falls asleep\", \"[1518-11-09 00:57] wakes up\", \"[1518-11-10 23:58] Guard #457 begins shift\", \"[1518-11-11 00:20] falls asleep\", \"[1518-11-11 00:52] wakes up\"]      \n",
       " Any[\"[1518-03-21 00:03] Guard #691 begins shift\", \"[1518-03-21 00:31] falls asleep\", \"[1518-03-21 00:59] wakes up\", \"[1518-03-30 23:53] Guard #691 begins shift\", \"[1518-03-31 00:05] falls asleep\", \"[1518-03-31 00:22] wakes up\", \"[1518-03-31 00:26] falls asleep\", \"[1518-03-31 00:45] wakes up\", \"[1518-04-12 00:01] Guard #691 begins shift\", \"[1518-04-12 00:12] falls asleep\"  …  \"[1518-10-03 00:10] falls asleep\", \"[1518-10-03 00:25] wakes up\", \"[1518-10-03 00:33] falls asleep\", \"[1518-10-03 00:35] wakes up\", \"[1518-10-10 23:56] Guard #691 begins shift\", \"[1518-10-11 00:45] falls asleep\", \"[1518-10-11 00:51] wakes up\", \"[1518-11-13 23:57] Guard #691 begins shift\", \"[1518-11-14 00:27] falls asleep\", \"[1518-11-14 00:44] wakes up\"]                 \n",
       " Any[\"[1518-03-19 00:02] Guard #2953 begins shift\", \"[1518-03-19 00:37] falls asleep\", \"[1518-03-19 00:41] wakes up\", \"[1518-04-08 23:57] Guard #2953 begins shift\", \"[1518-04-09 00:31] falls asleep\", \"[1518-04-09 00:47] wakes up\", \"[1518-05-04 23:56] Guard #2953 begins shift\", \"[1518-05-05 00:07] falls asleep\", \"[1518-05-05 00:17] wakes up\", \"[1518-05-05 00:23] falls asleep\"  …  \"[1518-11-17 00:22] falls asleep\", \"[1518-11-17 00:41] wakes up\", \"[1518-11-18 23:58] Guard #2953 begins shift\", \"[1518-11-19 00:12] falls asleep\", \"[1518-11-19 00:59] wakes up\", \"[1518-11-21 23:50] Guard #2953 begins shift\", \"[1518-11-22 00:04] falls asleep\", \"[1518-11-22 00:37] wakes up\", \"[1518-11-22 00:51] falls asleep\", \"[1518-11-22 00:53] wakes up\"]            \n",
       " Any[\"[1518-03-26 00:03] Guard #1933 begins shift\", \"[1518-03-26 00:21] falls asleep\", \"[1518-03-26 00:47] wakes up\", \"[1518-03-26 00:56] falls asleep\", \"[1518-03-26 00:58] wakes up\", \"[1518-04-16 00:00] Guard #1933 begins shift\", \"[1518-04-16 00:25] falls asleep\", \"[1518-04-16 00:43] wakes up\", \"[1518-05-14 23:58] Guard #1933 begins shift\", \"[1518-05-15 00:15] falls asleep\"  …  \"[1518-06-27 00:46] falls asleep\", \"[1518-06-27 00:49] wakes up\", \"[1518-10-03 23:49] Guard #1933 begins shift\", \"[1518-10-04 00:05] falls asleep\", \"[1518-10-04 00:28] wakes up\", \"[1518-10-04 00:47] falls asleep\", \"[1518-10-04 00:55] wakes up\", \"[1518-10-18 00:00] Guard #1933 begins shift\", \"[1518-10-18 00:20] falls asleep\", \"[1518-10-18 00:53] wakes up\"]            \n",
       " Any[\"[1518-05-04 00:04] Guard #2753 begins shift\", \"[1518-05-04 00:24] falls asleep\", \"[1518-05-04 00:51] wakes up\", \"[1518-05-05 23:59] Guard #2753 begins shift\", \"[1518-05-06 00:43] falls asleep\", \"[1518-05-06 00:46] wakes up\", \"[1518-05-25 23:59] Guard #2753 begins shift\", \"[1518-05-26 00:10] falls asleep\", \"[1518-05-26 00:23] wakes up\", \"[1518-07-10 23:59] Guard #2753 begins shift\"  …  \"[1518-10-01 00:53] falls asleep\", \"[1518-10-01 00:58] wakes up\", \"[1518-10-06 00:04] Guard #2753 begins shift\", \"[1518-10-06 00:30] falls asleep\", \"[1518-10-06 00:31] wakes up\", \"[1518-10-06 00:36] falls asleep\", \"[1518-10-06 00:42] wakes up\", \"[1518-11-13 00:00] Guard #2753 begins shift\", \"[1518-11-13 00:41] falls asleep\", \"[1518-11-13 00:55] wakes up\"]\n",
       " Any[\"[1518-04-04 00:03] Guard #1637 begins shift\", \"[1518-08-31 00:04] Guard #1637 begins shift\"]                                                                                                                                                                                                                                                                                                                                                                                                                                                                                                                                                                                                                                                                             \n",
       " Any[\"[1518-05-16 23:59] Guard #1069 begins shift\", \"[1518-05-17 00:27] falls asleep\", \"[1518-05-17 00:32] wakes up\", \"[1518-05-17 00:47] falls asleep\", \"[1518-05-17 00:53] wakes up\", \"[1518-06-01 00:01] Guard #1069 begins shift\", \"[1518-06-01 00:14] falls asleep\", \"[1518-06-01 00:32] wakes up\", \"[1518-06-01 00:36] falls asleep\", \"[1518-06-01 00:47] wakes up\"  …  \"[1518-11-01 00:04] Guard #1069 begins shift\", \"[1518-11-01 00:13] falls asleep\", \"[1518-11-01 00:39] wakes up\", \"[1518-11-01 00:44] falls asleep\", \"[1518-11-01 00:49] wakes up\", \"[1518-11-14 23:59] Guard #1069 begins shift\", \"[1518-11-15 00:26] falls asleep\", \"[1518-11-15 00:31] wakes up\", \"[1518-11-15 00:41] falls asleep\", \"[1518-11-15 00:51] wakes up\"]                            \n",
       " Any[\"[1518-03-23 00:02] Guard #223 begins shift\", \"[1518-03-23 00:23] falls asleep\", \"[1518-03-23 00:55] wakes up\", \"[1518-03-24 00:03] Guard #223 begins shift\", \"[1518-03-24 00:24] falls asleep\", \"[1518-03-24 00:30] wakes up\", \"[1518-03-24 00:34] falls asleep\", \"[1518-03-24 00:59] wakes up\", \"[1518-04-04 23:59] Guard #223 begins shift\", \"[1518-04-05 00:43] falls asleep\"  …  \"[1518-10-12 00:00] Guard #223 begins shift\", \"[1518-10-12 00:16] falls asleep\", \"[1518-10-12 00:22] wakes up\", \"[1518-10-12 00:40] falls asleep\", \"[1518-10-12 00:48] wakes up\", \"[1518-10-12 00:52] falls asleep\", \"[1518-10-12 00:59] wakes up\", \"[1518-11-06 23:57] Guard #223 begins shift\", \"[1518-11-07 00:22] falls asleep\", \"[1518-11-07 00:55] wakes up\"]                 \n",
       " Any[\"[1518-05-25 00:04] Guard #409 begins shift\", \"[1518-05-25 00:37] falls asleep\", \"[1518-05-25 00:56] wakes up\", \"[1518-06-17 23:57] Guard #409 begins shift\", \"[1518-06-18 00:20] falls asleep\", \"[1518-06-18 00:55] wakes up\", \"[1518-08-06 23:59] Guard #409 begins shift\", \"[1518-08-07 00:45] falls asleep\", \"[1518-08-07 00:53] wakes up\", \"[1518-09-06 00:01] Guard #409 begins shift\"  …  \"[1518-10-17 00:43] wakes up\", \"[1518-10-17 00:50] falls asleep\", \"[1518-10-17 00:55] wakes up\", \"[1518-11-01 23:56] Guard #409 begins shift\", \"[1518-11-02 00:15] falls asleep\", \"[1518-11-02 00:16] wakes up\", \"[1518-11-02 00:30] falls asleep\", \"[1518-11-02 00:42] wakes up\", \"[1518-11-02 00:51] falls asleep\", \"[1518-11-02 00:55] wakes up\"]                     \n",
       " Any[\"[1518-03-28 23:50] Guard #419 begins shift\", \"[1518-03-29 00:01] falls asleep\", \"[1518-03-29 00:48] wakes up\", \"[1518-04-01 00:03] Guard #419 begins shift\", \"[1518-04-01 00:11] falls asleep\", \"[1518-04-01 00:23] wakes up\", \"[1518-04-01 00:35] falls asleep\", \"[1518-04-01 00:55] wakes up\", \"[1518-04-16 23:58] Guard #419 begins shift\", \"[1518-04-17 00:13] falls asleep\"  …  \"[1518-10-10 00:42] falls asleep\", \"[1518-10-10 00:45] wakes up\", \"[1518-10-10 00:50] falls asleep\", \"[1518-10-10 00:54] wakes up\", \"[1518-10-29 00:00] Guard #419 begins shift\", \"[1518-10-29 00:11] falls asleep\", \"[1518-10-29 00:42] wakes up\", \"[1518-11-10 00:00] Guard #419 begins shift\", \"[1518-11-10 00:21] falls asleep\", \"[1518-11-10 00:48] wakes up\"]                 \n",
       " Any[\"[1518-04-12 23:51] Guard #1699 begins shift\", \"[1518-04-13 00:05] falls asleep\", \"[1518-04-13 00:35] wakes up\", \"[1518-04-28 00:01] Guard #1699 begins shift\", \"[1518-04-28 00:09] falls asleep\", \"[1518-04-28 00:12] wakes up\", \"[1518-04-28 00:23] falls asleep\", \"[1518-04-28 00:53] wakes up\", \"[1518-05-07 00:01] Guard #1699 begins shift\", \"[1518-05-07 00:19] falls asleep\"  …  \"[1518-10-30 00:31] falls asleep\", \"[1518-10-30 00:48] wakes up\", \"[1518-11-08 00:00] Guard #1699 begins shift\", \"[1518-11-08 00:30] falls asleep\", \"[1518-11-08 00:43] wakes up\", \"[1518-11-20 00:00] Guard #1699 begins shift\", \"[1518-11-20 00:27] falls asleep\", \"[1518-11-20 00:51] wakes up\", \"[1518-11-20 00:56] falls asleep\", \"[1518-11-20 00:57] wakes up\"]            \n",
       " Any[\"[1518-07-31 23:58] Guard #3347 begins shift\", \"[1518-08-18 23:59] Guard #3347 begins shift\"]                                                                                                                                                                                                                                                                                                                                                                                                                                                                                                                                                                                                                                                                             \n",
       " Any[\"[1518-04-09 23:57] Guard #163 begins shift\", \"[1518-04-10 00:15] falls asleep\", \"[1518-04-10 00:18] wakes up\", \"[1518-04-10 00:25] falls asleep\", \"[1518-04-10 00:32] wakes up\", \"[1518-04-10 00:47] falls asleep\", \"[1518-04-10 00:50] wakes up\", \"[1518-06-25 00:00] Guard #163 begins shift\", \"[1518-06-25 00:10] falls asleep\", \"[1518-06-25 00:17] wakes up\"  …  \"[1518-10-13 00:04] falls asleep\", \"[1518-10-13 00:54] wakes up\", \"[1518-10-20 23:58] Guard #163 begins shift\", \"[1518-10-21 00:24] falls asleep\", \"[1518-10-21 00:25] wakes up\", \"[1518-10-21 00:38] falls asleep\", \"[1518-10-21 00:42] wakes up\", \"[1518-11-04 23:57] Guard #163 begins shift\", \"[1518-11-05 00:21] falls asleep\", \"[1518-11-05 00:51] wakes up\"]                                \n",
       " Any[\"[1518-03-25 00:02] Guard #1153 begins shift\", \"[1518-03-25 00:09] falls asleep\", \"[1518-03-25 00:51] wakes up\", \"[1518-04-13 23:57] Guard #1153 begins shift\", \"[1518-04-14 00:49] falls asleep\", \"[1518-04-14 00:57] wakes up\", \"[1518-04-25 00:03] Guard #1153 begins shift\", \"[1518-04-25 00:21] falls asleep\", \"[1518-04-25 00:48] wakes up\", \"[1518-06-04 00:00] Guard #1153 begins shift\"  …  \"[1518-08-29 00:37] falls asleep\", \"[1518-08-29 00:49] wakes up\", \"[1518-09-24 23:59] Guard #1153 begins shift\", \"[1518-09-25 00:10] falls asleep\", \"[1518-09-25 00:46] wakes up\", \"[1518-10-24 23:59] Guard #1153 begins shift\", \"[1518-10-25 00:16] falls asleep\", \"[1518-10-25 00:38] wakes up\", \"[1518-10-25 00:45] falls asleep\", \"[1518-10-25 00:59] wakes up\"]\n",
       " Any[\"[1518-04-06 00:03] Guard #179 begins shift\", \"[1518-04-06 00:41] falls asleep\", \"[1518-04-06 00:59] wakes up\", \"[1518-04-21 00:03] Guard #179 begins shift\", \"[1518-04-21 00:44] falls asleep\", \"[1518-04-21 00:52] wakes up\", \"[1518-04-28 23:58] Guard #179 begins shift\", \"[1518-04-29 00:16] falls asleep\", \"[1518-04-29 00:42] wakes up\", \"[1518-04-29 00:46] falls asleep\"  …  \"[1518-11-05 23:57] Guard #179 begins shift\", \"[1518-11-06 00:18] falls asleep\", \"[1518-11-06 00:31] wakes up\", \"[1518-11-06 00:42] falls asleep\", \"[1518-11-06 00:43] wakes up\", \"[1518-11-11 23:57] Guard #179 begins shift\", \"[1518-11-12 00:10] falls asleep\", \"[1518-11-12 00:13] wakes up\", \"[1518-11-12 00:33] falls asleep\", \"[1518-11-12 00:45] wakes up\"]                 \n",
       " Any[\"[1518-04-17 23:57] Guard #3547 begins shift\", \"[1518-04-18 00:08] falls asleep\", \"[1518-04-18 00:25] wakes up\", \"[1518-04-18 00:36] falls asleep\", \"[1518-04-18 00:39] wakes up\", \"[1518-04-18 00:44] falls asleep\", \"[1518-04-18 00:57] wakes up\", \"[1518-04-19 00:04] Guard #3547 begins shift\", \"[1518-04-19 00:57] falls asleep\", \"[1518-04-19 00:58] wakes up\"  …  \"[1518-10-05 00:07] falls asleep\", \"[1518-10-05 00:16] wakes up\", \"[1518-10-05 00:20] falls asleep\", \"[1518-10-05 00:34] wakes up\", \"[1518-10-26 00:01] Guard #3547 begins shift\", \"[1518-10-26 00:18] falls asleep\", \"[1518-10-26 00:40] wakes up\", \"[1518-11-17 23:53] Guard #3547 begins shift\", \"[1518-11-18 00:03] falls asleep\", \"[1518-11-18 00:16] wakes up\"]                            "
      ]
     },
     "execution_count": 341,
     "metadata": {},
     "output_type": "execute_result"
    }
   ],
   "source": [
    "function partitionByGuard(sortedInput)\n",
    "    guards = []\n",
    "    guard = []\n",
    "    for line in sortedInput\n",
    "        if occursin(\"Guard\", line) && length(guard) > 0\n",
    "            push!(guards, guard)\n",
    "            guard = []\n",
    "        end\n",
    "        push!(guard, line)\n",
    "    end\n",
    "    \n",
    "    dict = Dict()\n",
    "    for guard in guards\n",
    "        id = extractGuardId(guard)\n",
    "        dict[id] = append!(get(dict, id, []), guard)\n",
    "    end\n",
    "    return collect(values(dict))\n",
    "end\n",
    "\n",
    "partitionByGuard(getSortedInput())"
   ]
  },
  {
   "cell_type": "code",
   "execution_count": 342,
   "metadata": {},
   "outputs": [
    {
     "data": {
      "text/plain": [
       "lineContainsSleepOrWakeTime (generic function with 1 method)"
      ]
     },
     "execution_count": 342,
     "metadata": {},
     "output_type": "execute_result"
    }
   ],
   "source": [
    "function lineContainsSleepOrWakeTime(line)\n",
    "    occursin(r\"asleep|wakes\", line)\n",
    "end"
   ]
  },
  {
   "cell_type": "code",
   "execution_count": 343,
   "metadata": {},
   "outputs": [
    {
     "data": {
      "text/plain": [
       "(\"10\", 45)"
      ]
     },
     "execution_count": 343,
     "metadata": {},
     "output_type": "execute_result"
    }
   ],
   "source": [
    "function sumTimeAsleepForGuard(lines)\n",
    "    id = extractGuardId(lines)\n",
    "    sleepAndWakeMinutes = map(extractMinute, filter(lineContainsSleepOrWakeTime, lines))\n",
    "    minutesAsleep = Iterators.partition(sleepAndWakeMinutes, 2) |>\n",
    "        iter -> map(xy -> xy[2] - xy[1], iter) |>\n",
    "        iter -> reduce(+, iter)\n",
    "    return (id, minutesAsleep)\n",
    "end\n",
    "\n",
    "sumTimeAsleepForGuard([\"[1518-11-01 00:00] Guard #10 begins shift\";\n",
    "\"[1518-11-01 00:05] falls asleep\";\n",
    "\"[1518-11-01 00:25] wakes up\";\n",
    "\"[1518-11-01 00:30] falls asleep\";\n",
    "\"[1518-11-01 00:55] wakes up\"])"
   ]
  },
  {
   "cell_type": "code",
   "execution_count": 344,
   "metadata": {},
   "outputs": [
    {
     "data": {
      "text/plain": [
       "(\"2953\", 465)"
      ]
     },
     "execution_count": 344,
     "metadata": {},
     "output_type": "execute_result"
    }
   ],
   "source": [
    "function findGuardAsleepMost(inputs)\n",
    "    guards = partitionByGuard(inputs)\n",
    "    guardIdToTimeAsleep = map(sumTimeAsleepForGuard, guards)\n",
    "    max = 0\n",
    "    maxId = \"N/A\"\n",
    "    for (id, timeAsleep) in guardIdToTimeAsleep\n",
    "        if timeAsleep > max\n",
    "            max = timeAsleep\n",
    "            maxId = id\n",
    "        end\n",
    "    end\n",
    "    return (maxId, max)\n",
    "end\n",
    "findGuardAsleepMost(getSortedInput())"
   ]
  },
  {
   "cell_type": "code",
   "execution_count": 345,
   "metadata": {},
   "outputs": [
    {
     "data": {
      "text/plain": [
       "67-element Array{Any,1}:\n",
       " \"[1518-03-19 00:02] Guard #2953 begins shift\"\n",
       " \"[1518-03-19 00:37] falls asleep\"            \n",
       " \"[1518-03-19 00:41] wakes up\"                \n",
       " \"[1518-04-08 23:57] Guard #2953 begins shift\"\n",
       " \"[1518-04-09 00:31] falls asleep\"            \n",
       " \"[1518-04-09 00:47] wakes up\"                \n",
       " \"[1518-05-04 23:56] Guard #2953 begins shift\"\n",
       " \"[1518-05-05 00:07] falls asleep\"            \n",
       " \"[1518-05-05 00:17] wakes up\"                \n",
       " \"[1518-05-05 00:23] falls asleep\"            \n",
       " \"[1518-05-05 00:52] wakes up\"                \n",
       " \"[1518-05-08 23:59] Guard #2953 begins shift\"\n",
       " \"[1518-05-09 00:25] falls asleep\"            \n",
       " ⋮                                            \n",
       " \"[1518-10-07 00:55] wakes up\"                \n",
       " \"[1518-11-17 00:02] Guard #2953 begins shift\"\n",
       " \"[1518-11-17 00:22] falls asleep\"            \n",
       " \"[1518-11-17 00:41] wakes up\"                \n",
       " \"[1518-11-18 23:58] Guard #2953 begins shift\"\n",
       " \"[1518-11-19 00:12] falls asleep\"            \n",
       " \"[1518-11-19 00:59] wakes up\"                \n",
       " \"[1518-11-21 23:50] Guard #2953 begins shift\"\n",
       " \"[1518-11-22 00:04] falls asleep\"            \n",
       " \"[1518-11-22 00:37] wakes up\"                \n",
       " \"[1518-11-22 00:51] falls asleep\"            \n",
       " \"[1518-11-22 00:53] wakes up\"                "
      ]
     },
     "execution_count": 345,
     "metadata": {},
     "output_type": "execute_result"
    }
   ],
   "source": [
    "function getGuardLinesForId(id, inputs)\n",
    "    guards = partitionByGuard(inputs)\n",
    "    for guard in guards\n",
    "        if occursin(\"Guard #$id\", guard[1])\n",
    "            return guard\n",
    "        end\n",
    "    end\n",
    "end\n",
    "getGuardLinesForId(\"2953\", getSortedInput())"
   ]
  },
  {
   "cell_type": "code",
   "execution_count": 346,
   "metadata": {},
   "outputs": [
    {
     "data": {
      "text/plain": [
       "(\"2953\", 39)"
      ]
     },
     "execution_count": 346,
     "metadata": {},
     "output_type": "execute_result"
    }
   ],
   "source": [
    "function findMinuteGuardIsAsleepMost(lines)\n",
    "    sleepAndWakeMinutes = map(extractMinute, filter(lineContainsSleepOrWakeTime, lines))\n",
    "    daysAsleepByMinute = Dict()\n",
    "    for (asleep, awake) in Iterators.partition(sleepAndWakeMinutes, 2)\n",
    "        for m in asleep:awake-1\n",
    "            daysAsleepByMinute[m] = get(daysAsleepByMinute, m, 0) + 1\n",
    "        end\n",
    "    end\n",
    "    max = 0\n",
    "    maxMinute = -1\n",
    "    for (minute, timesAsleep) in daysAsleepByMinute\n",
    "        if timesAsleep > max\n",
    "            max = timesAsleep\n",
    "            maxMinute = minute\n",
    "        end\n",
    "    end\n",
    "    return (max, maxMinute)\n",
    "end\n",
    "\n",
    "function solvePart1()\n",
    "    inputs = getSortedInput()\n",
    "    (id, minutes) = findGuardAsleepMost(inputs)\n",
    "    guard = getGuardLinesForId(id, inputs)\n",
    "    (max, minute) = findMinuteGuardIsAsleepMost(guard)\n",
    "    return (id, minute)\n",
    "end\n",
    "solvePart1()"
   ]
  },
  {
   "cell_type": "markdown",
   "metadata": {},
   "source": [
    "## Part Two\n",
    "\n",
    "Strategy 2: Of all guards, which guard is most frequently asleep on the same minute?\n",
    "\n",
    "In the example above, Guard #99 spent minute 45 asleep more than any other guard or minute - three times in total. (In all other cases, any guard spent any minute asleep at most twice.)\n",
    "\n",
    "What is the ID of the guard you chose multiplied by the minute you chose? (In the above example, the answer would be 99 * 45 = 4455.)"
   ]
  },
  {
   "cell_type": "code",
   "execution_count": 347,
   "metadata": {},
   "outputs": [
    {
     "data": {
      "text/plain": [
       "(\"1069\", 30, 17)"
      ]
     },
     "execution_count": 347,
     "metadata": {},
     "output_type": "execute_result"
    }
   ],
   "source": [
    "function solvePart2()\n",
    "    inputs = getSortedInput()\n",
    "    guards = partitionByGuard(inputs)\n",
    "    max = 0\n",
    "    maxMinute = -1\n",
    "    maxId = \"n/a\"\n",
    "#     guardToMaxMinute = Dict()\n",
    "#     for guard in guards\n",
    "#         guardToMaxMinute[extractGuardId(guard)] = findMinuteGuardIsAsleepMost(guard)\n",
    "#     end\n",
    "#     return guardToMaxMinute\n",
    "    for guard in guards\n",
    "        (timesAsleep, minute) = findMinuteGuardIsAsleepMost(guard)\n",
    "        if timesAsleep >= max\n",
    "            max = timesAsleep\n",
    "            maxMinute = minute\n",
    "            maxId = extractGuardId(guard)\n",
    "        end\n",
    "    end\n",
    "    return (maxId, maxMinute, max)\n",
    "end\n",
    "solvePart2()"
   ]
  },
  {
   "cell_type": "code",
   "execution_count": 348,
   "metadata": {},
   "outputs": [],
   "source": [
    "using DataStructures"
   ]
  },
  {
   "cell_type": "code",
   "execution_count": 349,
   "metadata": {},
   "outputs": [
    {
     "data": {
      "text/plain": [
       "true"
      ]
     },
     "execution_count": 349,
     "metadata": {},
     "output_type": "execute_result"
    }
   ],
   "source": [
    "function lettersReact(a, b)\n",
    "    (a != b) && (lowercase(a) == lowercase(b))\n",
    "end\n",
    "lettersReact('c', 'C')"
   ]
  },
  {
   "cell_type": "code",
   "execution_count": 350,
   "metadata": {},
   "outputs": [
    {
     "data": {
      "text/plain": [
       "\"dabCBAcaDA\""
      ]
     },
     "execution_count": 350,
     "metadata": {},
     "output_type": "execute_result"
    }
   ],
   "source": [
    "function reactString(s)\n",
    "    q = deque(Char)\n",
    "    for c in s\n",
    "        if isempty(q)\n",
    "            push!(q, c)\n",
    "        else\n",
    "            last = back(q)\n",
    "            if lettersReact(c, last)\n",
    "                pop!(q)\n",
    "            else\n",
    "                push!(q, c)\n",
    "            end\n",
    "        end\n",
    "    end\n",
    "    \n",
    "    return join(q, \"\")\n",
    "end\n",
    "reactString(\"dabAcCaCBAcCcaDA\")"
   ]
  },
  {
   "cell_type": "code",
   "execution_count": 351,
   "metadata": {},
   "outputs": [
    {
     "data": {
      "text/plain": [
       "9462"
      ]
     },
     "execution_count": 351,
     "metadata": {},
     "output_type": "execute_result"
    }
   ],
   "source": [
    "function getInput()\n",
    "    s = \"\"\n",
    "    open(\"day5input.txt\") do f\n",
    "        s = read(f, String)\n",
    "    end\n",
    "    return s\n",
    "end\n",
    "length(reactString(getInput()))"
   ]
  },
  {
   "cell_type": "code",
   "execution_count": 352,
   "metadata": {},
   "outputs": [
    {
     "data": {
      "text/plain": [
       "3-element Array{Char,1}:\n",
       " 'a'\n",
       " 'c'\n",
       " 'b'"
      ]
     },
     "execution_count": 352,
     "metadata": {},
     "output_type": "execute_result"
    }
   ],
   "source": [
    "function getAllLowercaseLetters(s)\n",
    "    letters = Set{Char}()\n",
    "    for c in s\n",
    "        push!(letters, lowercase(c))\n",
    "    end\n",
    "    return collect(letters)\n",
    "end\n",
    "getAllLowercaseLetters(\"aAbBcC\")"
   ]
  },
  {
   "cell_type": "code",
   "execution_count": 353,
   "metadata": {},
   "outputs": [
    {
     "data": {
      "text/plain": [
       "4952"
      ]
     },
     "execution_count": 353,
     "metadata": {},
     "output_type": "execute_result"
    }
   ],
   "source": [
    "function solveDay5Part2(s)\n",
    "    minLen = typemax(Int32)\n",
    "    cs = getAllLowercaseLetters(s)\n",
    "    for c in cs\n",
    "        alteredSequence = filter(c1 -> lowercase(c1) != lowercase(c), s)\n",
    "        n = length(reactString(alteredSequence))\n",
    "        minLen = min(n, minLen)\n",
    "    end\n",
    "    return minLen\n",
    "end\n",
    "solveDay5Part2(getInput())"
   ]
  },
  {
   "cell_type": "markdown",
   "metadata": {},
   "source": [
    "# Day 6: Chronal Coordinates\n",
    "\n",
    "The device on your wrist beeps several times, and once again you feel like you're falling.\n",
    "\n",
    "\"Situation critical,\" the device announces. \"Destination indeterminate. Chronal interference detected. Please specify new target coordinates.\"\n",
    "\n",
    "The device then produces a list of coordinates (your puzzle input). Are they places it thinks are safe or dangerous? It recommends you check manual page 729. The Elves did not give you a manual.\n",
    "\n",
    "If they're dangerous, maybe you can minimize the danger by finding the coordinate that gives the largest distance from the other points.\n",
    "\n",
    "Using only the Manhattan distance, determine the area around each coordinate by counting the number of integer X,Y locations that are closest to that coordinate (and aren't tied in distance to any other coordinate).\n",
    "\n",
    "Your goal is to find the size of the largest area that isn't infinite. For example, consider the following list of coordinates:\n",
    "\n",
    "```\n",
    "1, 1\n",
    "1, 6\n",
    "8, 3\n",
    "3, 4\n",
    "5, 5\n",
    "8, 9\n",
    "```\n",
    "\n",
    "If we name these coordinates A through F, we can draw them on a grid, putting 0,0 at the top left:\n",
    "\n",
    "```\n",
    "..........\n",
    ".A........\n",
    "..........\n",
    "........C.\n",
    "...D......\n",
    ".....E....\n",
    ".B........\n",
    "..........\n",
    "..........\n",
    "........F.\n",
    "```\n",
    "\n",
    "This view is partial - the actual grid extends infinitely in all directions. Using the Manhattan distance, each location's closest coordinate can be determined, shown here in lowercase:\n",
    "\n",
    "```\n",
    "aaaaa.cccc\n",
    "aAaaa.cccc\n",
    "aaaddecccc\n",
    "aadddeccCc\n",
    "..dDdeeccc\n",
    "bb.deEeecc\n",
    "bBb.eeee..\n",
    "bbb.eeefff\n",
    "bbb.eeffff\n",
    "bbb.ffffFf\n",
    "```\n",
    "Locations shown as `.` are equally far from two or more coordinates, and so they don't count as being closest to any.\n",
    "\n",
    "In this example, the areas of coordinates A, B, C, and F are infinite - while not shown here, their areas extend forever outside the visible grid. However, the areas of coordinates D and E are finite: D is closest to 9 locations, and E is closest to 17 (both including the coordinate's location itself). Therefore, in this example, the size of the largest area is 17.\n",
    "\n",
    "What is the size of the largest area that isn't infinite?"
   ]
  },
  {
   "cell_type": "code",
   "execution_count": 354,
   "metadata": {},
   "outputs": [
    {
     "data": {
      "text/plain": [
       "50-element Array{Tuple{Int64,Int64},1}:\n",
       " (42, 284) \n",
       " (45, 299) \n",
       " (57, 225) \n",
       " (61, 100) \n",
       " (63, 142) \n",
       " (68, 124) \n",
       " (70, 242) \n",
       " (73, 266) \n",
       " (75, 354) \n",
       " (77, 98)  \n",
       " (77, 107) \n",
       " (87, 306) \n",
       " (92, 44)  \n",
       " ⋮         \n",
       " (306, 221)\n",
       " (312, 166)\n",
       " (318, 343)\n",
       " (322, 286)\n",
       " (327, 292)\n",
       " (329, 106)\n",
       " (330, 196)\n",
       " (342, 337)\n",
       " (344, 50) \n",
       " (346, 273)\n",
       " (347, 125)\n",
       " (350, 173)"
      ]
     },
     "execution_count": 354,
     "metadata": {},
     "output_type": "execute_result"
    }
   ],
   "source": [
    "using DelimitedFiles\n",
    "function getDay6Input()\n",
    "    open(\"day6input.txt\") do f\n",
    "        sorted = sortslices(readdlm(f, ',', Int64, '\\n'), dims=1)\n",
    "        mapslices(row -> (row[1], row[2]), sorted, dims=2)[:]\n",
    "    end\n",
    "end\n",
    "day6Input = getDay6Input()"
   ]
  },
  {
   "cell_type": "code",
   "execution_count": 355,
   "metadata": {},
   "outputs": [
    {
     "data": {
      "text/plain": [
       "(42, 284)"
      ]
     },
     "execution_count": 355,
     "metadata": {},
     "output_type": "execute_result"
    }
   ],
   "source": [
    "minimum(day6Input)"
   ]
  },
  {
   "cell_type": "code",
   "execution_count": 356,
   "metadata": {},
   "outputs": [
    {
     "data": {
      "text/plain": [
       "311×313 Array{Tuple{Int64,Int64},2}:\n",
       " (41, 43)   (41, 44)   (41, 45)   …  (41, 353)   (41, 354)   (41, 355) \n",
       " (42, 43)   (42, 44)   (42, 45)      (42, 353)   (42, 354)   (42, 355) \n",
       " (43, 43)   (43, 44)   (43, 45)      (43, 353)   (43, 354)   (43, 355) \n",
       " (44, 43)   (44, 44)   (44, 45)      (44, 353)   (44, 354)   (44, 355) \n",
       " (45, 43)   (45, 44)   (45, 45)      (45, 353)   (45, 354)   (45, 355) \n",
       " (46, 43)   (46, 44)   (46, 45)   …  (46, 353)   (46, 354)   (46, 355) \n",
       " (47, 43)   (47, 44)   (47, 45)      (47, 353)   (47, 354)   (47, 355) \n",
       " (48, 43)   (48, 44)   (48, 45)      (48, 353)   (48, 354)   (48, 355) \n",
       " (49, 43)   (49, 44)   (49, 45)      (49, 353)   (49, 354)   (49, 355) \n",
       " (50, 43)   (50, 44)   (50, 45)      (50, 353)   (50, 354)   (50, 355) \n",
       " (51, 43)   (51, 44)   (51, 45)   …  (51, 353)   (51, 354)   (51, 355) \n",
       " (52, 43)   (52, 44)   (52, 45)      (52, 353)   (52, 354)   (52, 355) \n",
       " (53, 43)   (53, 44)   (53, 45)      (53, 353)   (53, 354)   (53, 355) \n",
       " ⋮                                ⋱  ⋮                                 \n",
       " (340, 43)  (340, 44)  (340, 45)     (340, 353)  (340, 354)  (340, 355)\n",
       " (341, 43)  (341, 44)  (341, 45)  …  (341, 353)  (341, 354)  (341, 355)\n",
       " (342, 43)  (342, 44)  (342, 45)     (342, 353)  (342, 354)  (342, 355)\n",
       " (343, 43)  (343, 44)  (343, 45)     (343, 353)  (343, 354)  (343, 355)\n",
       " (344, 43)  (344, 44)  (344, 45)     (344, 353)  (344, 354)  (344, 355)\n",
       " (345, 43)  (345, 44)  (345, 45)     (345, 353)  (345, 354)  (345, 355)\n",
       " (346, 43)  (346, 44)  (346, 45)  …  (346, 353)  (346, 354)  (346, 355)\n",
       " (347, 43)  (347, 44)  (347, 45)     (347, 353)  (347, 354)  (347, 355)\n",
       " (348, 43)  (348, 44)  (348, 45)     (348, 353)  (348, 354)  (348, 355)\n",
       " (349, 43)  (349, 44)  (349, 45)     (349, 353)  (349, 354)  (349, 355)\n",
       " (350, 43)  (350, 44)  (350, 45)     (350, 353)  (350, 354)  (350, 355)\n",
       " (351, 43)  (351, 44)  (351, 45)  …  (351, 353)  (351, 354)  (351, 355)"
      ]
     },
     "execution_count": 356,
     "metadata": {},
     "output_type": "execute_result"
    }
   ],
   "source": [
    "function createGrid(input)\n",
    "    xmin = minimum(map(first, input))\n",
    "    ymin = minimum(map(tuple -> tuple[2], input))\n",
    "    xmax = maximum(map(first, input))\n",
    "    ymax = maximum(map(tuple -> tuple[2], input))\n",
    "    xs = xmin-1:xmax+1\n",
    "    ys = ymin-1:ymax+1\n",
    "    squares = Base.product(xs, ys)\n",
    "end\n",
    "grid = collect(createGrid(day6Input))"
   ]
  },
  {
   "cell_type": "code",
   "execution_count": 357,
   "metadata": {},
   "outputs": [
    {
     "data": {
      "text/plain": [
       "Dict{Any,Any} with 97343 entries:\n",
       "  (192, 165) => [269, 281, 195, 196, 152, 165, 199, 220, 306, 182  …  304, 251,…\n",
       "  (170, 123) => [289, 301, 215, 132, 126, 103, 219, 240, 326, 118  …  368, 315,…\n",
       "  (130, 186) => [186, 198, 112, 155, 111, 124, 116, 137, 223, 141  …  345, 292,…\n",
       "  (89, 353)  => [116, 98, 160, 281, 237, 250, 130, 103, 15, 267  …  239, 300, 2…\n",
       "  (164, 109) => [297, 309, 223, 112, 134, 111, 227, 248, 334, 98  …  388, 335, …\n",
       "  (47, 153)  => [136, 148, 82, 67, 27, 50, 112, 139, 229, 85  …  461, 408, 419,…\n",
       "  (192, 223) => [211, 223, 137, 254, 210, 223, 141, 162, 248, 240  …  246, 193,…\n",
       "  (132, 218) => [156, 168, 82, 189, 145, 158, 86, 107, 193, 175  …  311, 258, 2…\n",
       "  (333, 68)  => [507, 519, 433, 304, 344, 321, 437, 458, 544, 286  …  290, 229,…\n",
       "  (69, 239)  => [72, 84, 26, 147, 103, 116, 4, 31, 121, 149  …  353, 300, 311, …\n",
       "  (110, 282) => [70, 82, 110, 231, 187, 200, 80, 53, 107, 217  …  269, 216, 227…\n",
       "  (145, 103) => [284, 296, 210, 87, 121, 98, 214, 235, 321, 73  …  413, 360, 37…\n",
       "  (148, 315) => [137, 119, 181, 302, 258, 271, 151, 124, 112, 288  …  198, 203,…\n",
       "  (324, 158) => [408, 420, 334, 321, 277, 290, 338, 359, 445, 307  …  191, 130,…\n",
       "  (301, 83)  => [460, 472, 386, 257, 297, 274, 390, 411, 497, 239  …  277, 224,…\n",
       "  (309, 275) => [276, 288, 302, 423, 379, 392, 272, 245, 313, 409  …  77, 24, 3…\n",
       "  (185, 289) => [148, 150, 192, 313, 269, 282, 162, 135, 175, 299  …  187, 140,…\n",
       "  (256, 188) => [310, 322, 236, 283, 239, 252, 240, 261, 347, 269  …  217, 164,…\n",
       "  (277, 127) => [392, 404, 318, 243, 229, 212, 322, 343, 429, 229  …  257, 204,…\n",
       "  (116, 309) => [99, 81, 143, 264, 220, 233, 113, 86, 86, 250  …  236, 229, 228…\n",
       "  (166, 345) => [185, 167, 229, 350, 306, 319, 199, 172, 100, 336  …  154, 215,…\n",
       "  (89, 162)  => [169, 181, 95, 90, 46, 59, 99, 120, 206, 76  …  410, 357, 368, …\n",
       "  (202, 94)  => [350, 362, 276, 147, 187, 164, 280, 301, 387, 129  …  365, 312,…\n",
       "  (282, 142) => [382, 394, 308, 263, 219, 232, 312, 333, 419, 249  …  237, 184,…\n",
       "  (128, 253) => [117, 129, 99, 220, 176, 189, 69, 68, 154, 206  …  280, 227, 23…\n",
       "  ⋮          => ⋮"
      ]
     },
     "execution_count": 357,
     "metadata": {},
     "output_type": "execute_result"
    }
   ],
   "source": [
    "function findDistances(grid, points)\n",
    "    allDistances = Dict()\n",
    "    for square in grid\n",
    "        distances = map(point -> cityblock([x for x in point], [x for x in square]), points)\n",
    "        allDistances[square] = distances\n",
    "    end\n",
    "    return allDistances\n",
    "end\n",
    "allDistancesMap = findDistances(grid, day6Input)"
   ]
  },
  {
   "cell_type": "code",
   "execution_count": 358,
   "metadata": {},
   "outputs": [
    {
     "data": {
      "text/plain": [
       "Dict{Any,Any} with 97343 entries:\n",
       "  (192, 165) => (203, 127)\n",
       "  (170, 123) => (150, 122)\n",
       "  (130, 186) => (132, 194)\n",
       "  (89, 353)  => (75, 354)\n",
       "  (164, 109) => (184, 110)\n",
       "  (47, 153)  => (63, 142)\n",
       "  (192, 223) => (180, 220)\n",
       "  (132, 218) => (111, 218)\n",
       "  (333, 68)  => (344, 50)\n",
       "  (69, 239)  => (70, 242)\n",
       "  (110, 282) => (141, 283)\n",
       "  (145, 103) => (142, 102)\n",
       "  (148, 315) => (141, 317)\n",
       "  (324, 158) => (312, 166)\n",
       "  (301, 83)  => (329, 106)\n",
       "  (309, 275) => (322, 286)\n",
       "  (185, 289) => (190, 296)\n",
       "  (256, 188) => (286, 206)\n",
       "  (277, 127) => (347, 125)\n",
       "  (116, 309) => (87, 306)\n",
       "  (166, 345) => (141, 317)\n",
       "  (89, 162)  => (103, 173)\n",
       "  (202, 94)  => \"tie\"\n",
       "  (282, 142) => (312, 166)\n",
       "  (128, 253) => (141, 283)\n",
       "  ⋮          => ⋮"
      ]
     },
     "execution_count": 358,
     "metadata": {},
     "output_type": "execute_result"
    }
   ],
   "source": [
    "function findClosestPoints(distancesMap, points)\n",
    "    closest = Dict()\n",
    "    for square in keys(distancesMap)\n",
    "        distances = distancesMap[square]\n",
    "        min_index = argmin(distances)\n",
    "        min_point = points[min_index]\n",
    "        min_distance = distances[min_index]\n",
    "        if count(d -> d == min_distance, distances) == 1\n",
    "            closest[square] = min_point\n",
    "        else\n",
    "            closest[square] = \"tie\"\n",
    "        end\n",
    "    end\n",
    "    return closest\n",
    "end\n",
    "\n",
    "closestPointsMap = findClosestPoints(allDistancesMap, day6Input)"
   ]
  },
  {
   "cell_type": "code",
   "execution_count": 359,
   "metadata": {},
   "outputs": [
    {
     "data": {
      "text/plain": [
       "Set(Tuple{Int64,Int64}[(268, 245), (87, 306), (73, 266), (327, 292), (286, 206), (184, 238), (142, 102), (111, 218), (141, 283), (77, 98)  …  (135, 197), (103, 173), (184, 110), (203, 127), (180, 220), (77, 107), (150, 122), (131, 162), (152, 186), (322, 286), (144, 174)])"
      ]
     },
     "execution_count": 359,
     "metadata": {},
     "output_type": "execute_result"
    }
   ],
   "source": [
    "function getSetOfPointsThatAreEligible(grid, points, closest)\n",
    "    eligible = Set(points)\n",
    "    \n",
    "    (m, n) = size(grid)\n",
    "    # Edges along the x direction\n",
    "    for i in 1:m\n",
    "        if closest[grid[i, 1]] in eligible\n",
    "            pop!(eligible, closest[grid[i, 1]])\n",
    "        end\n",
    "        if closest[grid[i, n]] in eligible\n",
    "            pop!(eligible, closest[grid[i, n]])\n",
    "        end\n",
    "    end\n",
    "    # Edges along the y direction\n",
    "    for i in 1:n\n",
    "        if closest[grid[1, i]] in eligible\n",
    "            pop!(eligible, closest[grid[1, i]])\n",
    "        end\n",
    "        if closest[grid[m, i]] in eligible\n",
    "            pop!(eligible, closest[grid[m, i]])\n",
    "        end\n",
    "    end\n",
    "    return eligible\n",
    "end\n",
    "\n",
    "eligiblePoints = getSetOfPointsThatAreEligible(grid, day6Input, closestPointsMap)"
   ]
  },
  {
   "cell_type": "code",
   "execution_count": 360,
   "metadata": {},
   "outputs": [
    {
     "data": {
      "text/plain": [
       "Dict{Any,Any} with 24 entries:\n",
       "  (77, 107)  => 539\n",
       "  (135, 197) => 603\n",
       "  (111, 218) => 2242\n",
       "  (141, 283) => 2741\n",
       "  (103, 173) => 2200\n",
       "  (77, 98)   => 1090\n",
       "  (268, 245) => 4346\n",
       "  (87, 306)  => 2194\n",
       "  (150, 122) => 1342\n",
       "  (184, 110) => 1772\n",
       "  (73, 266)  => 1637\n",
       "  (131, 162) => 1077\n",
       "  (203, 127) => 5429\n",
       "  (127, 107) => 1390\n",
       "  (312, 166) => 3688\n",
       "  (327, 292) => 1395\n",
       "  (132, 194) => 356\n",
       "  (180, 220) => 2660\n",
       "  (286, 206) => 3181\n",
       "  (152, 186) => 1325\n",
       "  (322, 286) => 1582\n",
       "  (184, 238) => 2653\n",
       "  (142, 102) => 1236\n",
       "  (144, 174) => 1230"
      ]
     },
     "execution_count": 360,
     "metadata": {},
     "output_type": "execute_result"
    }
   ],
   "source": [
    "function findRegionSizes(closest, eligible)\n",
    "    regionSizes = Dict()\n",
    "    for square in keys(closest)\n",
    "        p = closest[square]\n",
    "        if p in eligible\n",
    "            regionSizes[p] = get(regionSizes, p, 0) + 1\n",
    "        end\n",
    "    end\n",
    "    return regionSizes\n",
    "end\n",
    "\n",
    "regionSizes = findRegionSizes(closestPointsMap, eligiblePoints)"
   ]
  },
  {
   "cell_type": "code",
   "execution_count": 361,
   "metadata": {},
   "outputs": [
    {
     "data": {
      "text/plain": [
       "5429"
      ]
     },
     "execution_count": 361,
     "metadata": {},
     "output_type": "execute_result"
    }
   ],
   "source": [
    "function findMaxSize(regionSizes)\n",
    "    maximum(values(regionSizes))\n",
    "end\n",
    "findMaxSize(regionSizes)"
   ]
  },
  {
   "cell_type": "markdown",
   "metadata": {},
   "source": [
    "## Part Two\n",
    "\n",
    "On the other hand, if the coordinates are safe, maybe the best you can do is try to find a region near as many coordinates as possible.\n",
    "\n",
    "For example, suppose you want the sum of the Manhattan distance to all of the coordinates to be less than 32. For each location, add up the distances to all of the given coordinates; if the total of those distances is less than 32, that location is within the desired region. Using the same coordinates as above, the resulting region looks like this:\n",
    "\n",
    "```\n",
    "..........\n",
    ".A........\n",
    "..........\n",
    "...###..C.\n",
    "..#D###...\n",
    "..###E#...\n",
    ".B.###....\n",
    "..........\n",
    "..........\n",
    "........F.\n",
    "```\n",
    "In particular, consider the highlighted location 4,3 located at the top middle of the region. Its calculation is as follows, where abs() is the absolute value function:\n",
    "\n",
    "Distance to coordinate A: `abs(4-1) + abs(3-1) =  5`\n",
    "\n",
    "Distance to coordinate B: `abs(4-1) + abs(3-6) =  6`\n",
    "\n",
    "Distance to coordinate C: `abs(4-8) + abs(3-3) =  4`\n",
    "\n",
    "Distance to coordinate D: `abs(4-3) + abs(3-4) =  2`\n",
    "\n",
    "Distance to coordinate E: `abs(4-5) + abs(3-5) =  3`\n",
    "\n",
    "Distance to coordinate F: `abs(4-8) + abs(3-9) = 10`\n",
    "\n",
    "Total distance: 5 + 6 + 4 + 2 + 3 + 10 = 30\n",
    "\n",
    "Because the total distance to all coordinates (30) is less than 32, the location is within the region.\n",
    "\n",
    "This region, which also includes coordinates D and E, has a total size of 16.\n",
    "\n",
    "Your actual region will need to be much larger than this example, though, instead including all locations with a total distance of less than 10000.\n",
    "\n",
    "What is the size of the region containing all locations which have a total distance to all given coordinates of less than 10000?"
   ]
  },
  {
   "cell_type": "code",
   "execution_count": 362,
   "metadata": {},
   "outputs": [
    {
     "data": {
      "text/plain": [
       "32614-element Array{Any,1}:\n",
       " 8767\n",
       " 9381\n",
       " 8601\n",
       " 9733\n",
       " 8659\n",
       " 8601\n",
       " 9909\n",
       " 9777\n",
       " 9451\n",
       " 9691\n",
       " 9127\n",
       " 9267\n",
       " 9573\n",
       "    ⋮\n",
       " 9873\n",
       " 9591\n",
       " 9811\n",
       " 8507\n",
       " 8621\n",
       " 9603\n",
       " 9093\n",
       " 9945\n",
       " 9145\n",
       " 9651\n",
       " 9605\n",
       " 9043"
      ]
     },
     "execution_count": 362,
     "metadata": {},
     "output_type": "execute_result"
    }
   ],
   "source": [
    "function solvePart2(allDistances)\n",
    "    totalDistances = Dict()\n",
    "    for (square, distances) in allDistancesMap\n",
    "        totalDistances[square] = sum(distances)\n",
    "    end\n",
    "    return totalDistances\n",
    "end\n",
    "filter(d -> d < 10000, collect(values(solvePart2(allDistancesMap))))"
   ]
  },
  {
   "cell_type": "markdown",
   "metadata": {},
   "source": [
    "# Day 7: The Sum of Its Parts\n",
    "\n",
    "You find yourself standing on a snow-covered coastline; apparently, you landed a little off course. The region is too hilly to see the North Pole from here, but you do spot some Elves that seem to be trying to unpack something that washed ashore. It's quite cold out, so you decide to risk creating a paradox by asking them for directions.\n",
    "\n",
    "\"Oh, are you the search party?\" Somehow, you can understand whatever Elves from the year 1018 speak; you assume it's Ancient Nordic Elvish. Could the device on your wrist also be a translator? \"Those clothes don't look very warm; take this.\" They hand you a heavy coat.\n",
    "\n",
    "\"We do need to find our way back to the North Pole, but we have higher priorities at the moment. You see, believe it or not, this box contains something that will solve all of Santa's transportation problems - at least, that's what it looks like from the pictures in the instructions.\" It doesn't seem like they can read whatever language it's in, but you can: \"Sleigh kit. Some assembly required.\"\n",
    "\n",
    "\"'Sleigh'? What a wonderful name! You must help us assemble this 'sleigh' at once!\" They start excitedly pulling more parts out of the box.\n",
    "\n",
    "The instructions specify a series of steps and requirements about which steps must be finished before others can begin (your puzzle input). Each step is designated by a single letter. For example, suppose you have the following instructions:\n",
    "\n",
    "Step C must be finished before step A can begin.\n",
    "\n",
    "Step C must be finished before step F can begin.\n",
    "\n",
    "Step A must be finished before step B can begin.\n",
    "\n",
    "Step A must be finished before step D can begin.\n",
    "\n",
    "Step B must be finished before step E can begin.\n",
    "\n",
    "Step D must be finished before step E can begin.\n",
    "\n",
    "Step F must be finished before step E can begin.\n",
    "\n",
    "Visually, these requirements look like this:\n",
    "\n",
    "\n",
    "```\n",
    "  -->A--->B--\n",
    " /    \\      \\\n",
    "C      -->D----->E\n",
    " \\           /\n",
    "  ---->F-----\n",
    "```\n",
    "\n",
    "Your first goal is to determine the order in which the steps should be completed. If more than one step is ready, choose the step which is first alphabetically. In this example, the steps would be completed as follows:\n",
    "\n",
    "Only C is available, and so it is done first.\n",
    "Next, both A and F are available. A is first alphabetically, so it is done next.\n",
    "Then, even though F was available earlier, steps B and D are now also available, and B is the first alphabetically of the three.\n",
    "After that, only D and F are available. E is not available because only some of its prerequisites are complete. Therefore, D is completed next.\n",
    "F is the only choice, so it is done next.\n",
    "Finally, E is completed.\n",
    "So, in this example, the correct order is CABDFE.\n",
    "\n",
    "In what order should the steps in your instructions be completed?"
   ]
  },
  {
   "cell_type": "code",
   "execution_count": 363,
   "metadata": {},
   "outputs": [],
   "source": [
    "function getDay7Lines()\n",
    "    lines = []\n",
    "    open(\"day7input.txt\") do f\n",
    "        for line in eachline(f)\n",
    "            push!(lines, line)\n",
    "        end\n",
    "    end\n",
    "    return lines\n",
    "end\n",
    "\n",
    "function parseInput(lines)\n",
    "    parents = Dict()\n",
    "    children = Dict()\n",
    "    for s in lines\n",
    "        step, required = s[37], s[6]\n",
    "        parents[step] = union(get(parents, step, Set()), Set([required]))\n",
    "        children[required] = union(get(children, required, Set()), Set([step]))\n",
    "    end\n",
    "    \n",
    "    return (parents, children) \n",
    "end\n",
    "parents, children = parseInput(getDay7Lines());"
   ]
  },
  {
   "cell_type": "code",
   "execution_count": 364,
   "metadata": {},
   "outputs": [
    {
     "data": {
      "text/plain": [
       "\"MNQKRSFWGXPZJCOTVYEBLAHIUD\""
      ]
     },
     "execution_count": 364,
     "metadata": {},
     "output_type": "execute_result"
    }
   ],
   "source": [
    "function solvePart1(parents, children)\n",
    "    queue = PriorityQueue{Char, Char}()\n",
    "    roots = setdiff(Set(keys(children)), Set(keys(parents)))\n",
    "    for root in roots\n",
    "        enqueue!(queue, root, root)\n",
    "    end\n",
    "    \n",
    "    order = []\n",
    "    processed = Set()\n",
    "    while length(queue) > 0\n",
    "        c = dequeue!(queue)\n",
    "        push!(processed, c)\n",
    "        push!(order, c)\n",
    "        \n",
    "        childs = get(children, c, Set())\n",
    "        for child in childs\n",
    "            deps = get(parents, child, Set())\n",
    "            if length(setdiff(parents[child], processed)) == 0\n",
    "                enqueue!(queue, child, child)\n",
    "            end\n",
    "        end\n",
    "    end\n",
    "    join(order, \"\")\n",
    "end\n",
    "\n",
    "solvePart1(parents, children)"
   ]
  },
  {
   "cell_type": "markdown",
   "metadata": {},
   "source": [
    "## Part Two\n",
    "\n",
    "As you're about to begin construction, four of the Elves offer to help. \"The sun will set soon; it'll go faster if we work together.\" Now, you need to account for multiple people working on steps simultaneously. If multiple steps are available, workers should still begin them in alphabetical order.\n",
    "\n",
    "Each step takes 60 seconds plus an amount corresponding to its letter: A=1, B=2, C=3, and so on. So, step A takes 60+1=61 seconds, while step Z takes 60+26=86 seconds. No time is required between steps.\n",
    "\n",
    "To simplify things for the example, however, suppose you only have help from one Elf (a total of two workers) and that each step takes 60 fewer seconds (so that step A takes 1 second and step Z takes 26 seconds). Then, using the same instructions as above, this is how each second would be spent:\n",
    "\n",
    "```\n",
    "Second   Worker 1   Worker 2   Done\n",
    "   0        C          .        \n",
    "   1        C          .        \n",
    "   2        C          .        \n",
    "   3        A          F       C\n",
    "   4        B          F       CA\n",
    "   5        B          F       CA\n",
    "   6        D          F       CAB\n",
    "   7        D          F       CAB\n",
    "   8        D          F       CAB\n",
    "   9        D          .       CABF\n",
    "  10        E          .       CABFD\n",
    "  11        E          .       CABFD\n",
    "  12        E          .       CABFD\n",
    "  13        E          .       CABFD\n",
    "  14        E          .       CABFD\n",
    "  15        .          .       CABFDE\n",
    "```\n",
    "\n",
    "Each row represents one second of time. The Second column identifies how many seconds have passed as of the beginning of that second. Each worker column shows the step that worker is currently doing (or . if they are idle). The Done column shows completed steps.\n",
    "\n",
    "Note that the order of the steps has changed; this is because steps now take time to finish and multiple workers can begin multiple steps simultaneously.\n",
    "\n",
    "In this example, it would take 15 seconds for two workers to complete these steps.\n",
    "\n",
    "With 5 workers and the 60+ second step durations described above, how long will it take to complete all of the steps?"
   ]
  },
  {
   "cell_type": "code",
   "execution_count": 365,
   "metadata": {},
   "outputs": [
    {
     "data": {
      "text/plain": [
       "948"
      ]
     },
     "execution_count": 365,
     "metadata": {},
     "output_type": "execute_result"
    }
   ],
   "source": [
    "function timeToDo(task)\n",
    "    60 + task - 'A' + 1\n",
    "end\n",
    "\n",
    "function addToDictionary!(d, time, task)\n",
    "    d[time] = [get(d, time, []); task]\n",
    "end\n",
    "\n",
    "function enqueueUnblockedChildren!(q, c, children, parents, processed)\n",
    "    childs = get(children, c, Set())\n",
    "    for child in childs\n",
    "        deps = get(parents, child, Set())\n",
    "        if length(setdiff(parents[child], processed)) == 0\n",
    "            enqueue!(q, child, child)\n",
    "        end\n",
    "    end\n",
    "end\n",
    "\n",
    "function solvePart2(parents, children, freeWorkers)\n",
    "    queue = PriorityQueue{Char, Char}()\n",
    "    roots = setdiff(Set(keys(children)), Set(keys(parents)))\n",
    "    for root in roots\n",
    "        enqueue!(queue, root, root)\n",
    "    end\n",
    "\n",
    "    processed = Set()\n",
    "    seconds = 0\n",
    "    # a map with 15 -> ['A', 'B'], where 'A' and 'B' are tasks, and 15 is the\n",
    "    # seconds count when they will finish.\n",
    "    inProgress = Dict()\n",
    "    while (length(queue) + length(keys(inProgress)) > 0)\n",
    "        # Remove completed tasks\n",
    "        if seconds in keys(inProgress)\n",
    "            for completed in inProgress[seconds]\n",
    "                push!(processed, completed)\n",
    "                enqueueUnblockedChildren!(queue, completed, children, parents, processed)\n",
    "                freeWorkers += 1\n",
    "            end\n",
    "            delete!(inProgress, seconds)\n",
    "        end\n",
    "        # To avoid an off-by-one error, break immediately when we finish\n",
    "        if length(queue) + length(keys(inProgress)) == 0\n",
    "            break\n",
    "        end\n",
    "        \n",
    "        # Start as many workers as we have and have tasks for\n",
    "        while freeWorkers > 0 && length(queue) > 0\n",
    "            task = dequeue!(queue)\n",
    "            addToDictionary!(inProgress, seconds + timeToDo(task), task)\n",
    "            freeWorkers -= 1\n",
    "        end\n",
    "        seconds += 1\n",
    "    end\n",
    "    return seconds\n",
    "end\n",
    "\n",
    "solvePart2(parents, children, 5)"
   ]
  },
  {
   "cell_type": "markdown",
   "metadata": {},
   "source": [
    "# Day 8: Memory Maneuver\n",
    "\n",
    "The sleigh is much easier to pull than you'd expect for something its weight. Unfortunately, neither you nor the Elves know which way the North Pole is from here.\n",
    "\n",
    "You check your wrist device for anything that might help. It seems to have some kind of navigation system! Activating the navigation system produces more bad news: \"Failed to start navigation system. Could not read software license file.\"\n",
    "\n",
    "The navigation system's license file consists of a list of numbers (your puzzle input). The numbers define a data structure which, when processed, produces some kind of tree that can be used to calculate the license number.\n",
    "\n",
    "The tree is made up of nodes; a single, outermost node forms the tree's root, and it contains all other nodes in the tree (or contains nodes that contain nodes, and so on).\n",
    "\n",
    "Specifically, a node consists of:\n",
    "\n",
    "A header, which is always exactly two numbers:\n",
    "The quantity of child nodes.\n",
    "The quantity of metadata entries.\n",
    "Zero or more child nodes (as specified in the header).\n",
    "One or more metadata entries (as specified in the header).\n",
    "Each child node is itself a node that has its own header, child nodes, and metadata. For example:\n",
    "\n",
    "```\n",
    "2 3 0 3 10 11 12 1 1 0 1 99 2 1 1 2\n",
    "A----------------------------------\n",
    "    B----------- C-----------\n",
    "                     D-----\n",
    "\n",
    "```\n",
    "In this example, each node of the tree is also marked with an underline starting with a letter for easier identification. In it, there are four nodes:\n",
    "\n",
    "- A, which has 2 child nodes (B, C) and 3 metadata entries (1, 1, 2).\n",
    "- B, which has 0 child nodes and 3 metadata entries (10, 11, 12).\n",
    "- C, which has 1 child node (D) and 1 metadata entry (2).\n",
    "- D, which has 0 child nodes and 1 metadata entry (99).\n",
    "\n",
    "The first check done on the license file is to simply add up all of the metadata entries. In this example, that sum is 1+1+2+10+11+12+2+99=138.\n",
    "\n",
    "What is the sum of all metadata entries?"
   ]
  },
  {
   "cell_type": "code",
   "execution_count": 3,
   "metadata": {},
   "outputs": [
    {
     "data": {
      "text/plain": [
       "getDay8Input (generic function with 1 method)"
      ]
     },
     "execution_count": 3,
     "metadata": {},
     "output_type": "execute_result"
    }
   ],
   "source": [
    "using DelimitedFiles\n",
    "\n",
    "function getDay8Input()\n",
    "    open(\"day8input.txt\") do f\n",
    "        return readdlm(f, Int64)[:]\n",
    "    end\n",
    "end"
   ]
  },
  {
   "cell_type": "code",
   "execution_count": 16,
   "metadata": {},
   "outputs": [],
   "source": [
    "using DataStructures\n",
    "\n",
    "struct Node\n",
    "    children\n",
    "    metadata\n",
    "end\n",
    "\n",
    "function extractTreeRecursive(q) \n",
    "    numChildren = popfirst!(q)\n",
    "    numMetadata = popfirst!(q)\n",
    "    children = []\n",
    "    for i in 1:numChildren\n",
    "        push!(children, extractTreeRecursive(q))\n",
    "    end\n",
    "    metadata = []\n",
    "    for i in 1:numMetadata\n",
    "        push!(metadata, popfirst!(q))\n",
    "    end\n",
    "    return Node(children, metadata)\n",
    "end\n",
    "\n",
    "function extractTree(numbers)\n",
    "    q = deque(Int64)\n",
    "    push!(q, numbers...)\n",
    "    tree = extractFrontTreeRecursive(q)\n",
    "    return tree\n",
    "end\n",
    "\n",
    "tree = extractTree(getDay8Input());"
   ]
  },
  {
   "cell_type": "code",
   "execution_count": 12,
   "metadata": {},
   "outputs": [
    {
     "data": {
      "text/plain": [
       "43996"
      ]
     },
     "execution_count": 12,
     "metadata": {},
     "output_type": "execute_result"
    }
   ],
   "source": [
    "function sumMetadata(tree::Node)\n",
    "    summ = 0\n",
    "    for child in tree.children\n",
    "        summ += sumMetadata(child)\n",
    "    end\n",
    "    summ += sum(tree.metadata)\n",
    "    return summ\n",
    "end\n",
    "\n",
    "sumMetadata(tree)"
   ]
  },
  {
   "cell_type": "markdown",
   "metadata": {},
   "source": [
    "## Part Two\n",
    "\n",
    "The second check is slightly more complicated: you need to find the value of the root node (A in the example above).\n",
    "\n",
    "The value of a node depends on whether it has child nodes.\n",
    "\n",
    "If a node has no child nodes, its value is the sum of its metadata entries. So, the value of node B is 10+11+12=33, and the value of node D is 99.\n",
    "\n",
    "However, if a node does have child nodes, the metadata entries become indexes which refer to those child nodes. A metadata entry of 1 refers to the first child node, 2 to the second, 3 to the third, and so on. The value of this node is the sum of the values of the child nodes referenced by the metadata entries. If a referenced child node does not exist, that reference is skipped. A child node can be referenced multiple time and counts each time it is referenced. A metadata entry of 0 does not refer to any child node.\n",
    "\n",
    "For example, again using the above nodes:\n",
    "\n",
    "Node C has one metadata entry, 2. Because node C has only one child node, 2 references a child node which does not exist, and so the value of node C is 0.\n",
    "Node A has three metadata entries: 1, 1, and 2. The 1 references node A's first child node, B, and the 2 references node A's second child node, C. Because node B has a value of 33 and node C has a value of 0, the value of node A is 33+33+0=66.\n",
    "So, in this example, the value of the root node is 66.\n",
    "\n",
    "What is the value of the root node?"
   ]
  },
  {
   "cell_type": "code",
   "execution_count": 19,
   "metadata": {},
   "outputs": [
    {
     "data": {
      "text/plain": [
       "35189"
      ]
     },
     "execution_count": 19,
     "metadata": {},
     "output_type": "execute_result"
    }
   ],
   "source": [
    "function getValue(node::Node)\n",
    "    n = length(node.children)\n",
    "    if n == 0\n",
    "        return sum(node.metadata)\n",
    "    end\n",
    "    value = 0\n",
    "    for entry in node.metadata\n",
    "        if entry <= n\n",
    "            value += getValue(node.children[entry])\n",
    "        end\n",
    "    end\n",
    "    return value\n",
    "end\n",
    "getValue(tree)"
   ]
  },
  {
   "cell_type": "markdown",
   "metadata": {},
   "source": [
    "# Day 9: Marble Mania\n",
    "\n",
    "You talk to the Elves while you wait for your navigation system to initialize. To pass the time, they introduce you to their favorite marble game.\n",
    "\n",
    "The Elves play this game by taking turns arranging the marbles in a circle according to very particular rules. The marbles are numbered starting with 0 and increasing by 1 until every marble has a number.\n",
    "\n",
    "First, the marble numbered 0 is placed in the circle. At this point, while it contains only a single marble, it is still a circle: the marble is both clockwise from itself and counter-clockwise from itself. This marble is designated the current marble.\n",
    "\n",
    "Then, each Elf takes a turn placing the lowest-numbered remaining marble into the circle between the marbles that are 1 and 2 marbles clockwise of the current marble. (When the circle is large enough, this means that there is one marble between the marble that was just placed and the current marble.) The marble that was just placed then becomes the current marble.\n",
    "\n",
    "However, if the marble that is about to be placed has a number which is a multiple of 23, something entirely different happens. First, the current player keeps the marble they would have placed, adding it to their score. In addition, the marble 7 marbles counter-clockwise from the current marble is removed from the circle and also added to the current player's score. The marble located immediately clockwise of the marble that was removed becomes the new current marble.\n",
    "\n",
    "For example, suppose there are 9 players. After the marble with value 0 is placed in the middle, each player (shown in square brackets) takes a turn. The result of each of those turns would produce circles of marbles like this, where clockwise is to the right and the resulting current marble is in parentheses:\n",
    "\n",
    "```\n",
    "[-] (0)\n",
    "[1]  0 (1)\n",
    "[2]  0 (2) 1 \n",
    "[3]  0  2  1 (3)\n",
    "[4]  0 (4) 2  1  3 \n",
    "[5]  0  4  2 (5) 1  3 \n",
    "[6]  0  4  2  5  1 (6) 3 \n",
    "[7]  0  4  2  5  1  6  3 (7)\n",
    "[8]  0 (8) 4  2  5  1  6  3  7 \n",
    "[9]  0  8  4 (9) 2  5  1  6  3  7 \n",
    "[1]  0  8  4  9  2(10) 5  1  6  3  7 \n",
    "[2]  0  8  4  9  2 10  5(11) 1  6  3  7 \n",
    "[3]  0  8  4  9  2 10  5 11  1(12) 6  3  7 \n",
    "[4]  0  8  4  9  2 10  5 11  1 12  6(13) 3  7 \n",
    "[5]  0  8  4  9  2 10  5 11  1 12  6 13  3(14) 7 \n",
    "[6]  0  8  4  9  2 10  5 11  1 12  6 13  3 14  7(15)\n",
    "[7]  0(16) 8  4  9  2 10  5 11  1 12  6 13  3 14  7 15 \n",
    "[8]  0 16  8(17) 4  9  2 10  5 11  1 12  6 13  3 14  7 15 \n",
    "[9]  0 16  8 17  4(18) 9  2 10  5 11  1 12  6 13  3 14  7 15 \n",
    "[1]  0 16  8 17  4 18  9(19) 2 10  5 11  1 12  6 13  3 14  7 15 \n",
    "[2]  0 16  8 17  4 18  9 19  2(20)10  5 11  1 12  6 13  3 14  7 15 \n",
    "[3]  0 16  8 17  4 18  9 19  2 20 10(21) 5 11  1 12  6 13  3 14  7 15 \n",
    "[4]  0 16  8 17  4 18  9 19  2 20 10 21  5(22)11  1 12  6 13  3 14  7 15 \n",
    "[5]  0 16  8 17  4 18(19) 2 20 10 21  5 22 11  1 12  6 13  3 14  7 15 \n",
    "[6]  0 16  8 17  4 18 19  2(24)20 10 21  5 22 11  1 12  6 13  3 14  7 15 \n",
    "[7]  0 16  8 17  4 18 19  2 24 20(25)10 21  5 22 11  1 12  6 13  3 14  7 15\n",
    "```\n",
    "\n",
    "The goal is to be the player with the highest score after the last marble is used up. Assuming the example above ends after the marble numbered 25, the winning score is 23+9=32 (because player 5 kept marble 23 and removed marble 9, while no other player got any points in this very short example game).\n",
    "\n",
    "Here are a few more examples:\n",
    "\n",
    "- 10 players; last marble is worth 1618 points: high score is 8317\n",
    "- 13 players; last marble is worth 7999 points: high score is 146373\n",
    "- 17 players; last marble is worth 1104 points: high score is 2764\n",
    "- 21 players; last marble is worth 6111 points: high score is 54718\n",
    "- 30 players; last marble is worth 5807 points: high score is 37305\n",
    "\n",
    "What is the winning Elf's score?"
   ]
  },
  {
   "cell_type": "code",
   "execution_count": 8,
   "metadata": {},
   "outputs": [
    {
     "ename": "ErrorException",
     "evalue": "invalid redefinition of constant GameState",
     "output_type": "error",
     "traceback": [
      "invalid redefinition of constant GameState",
      "",
      "Stacktrace:",
      " [1] top-level scope at none:0"
     ]
    }
   ],
   "source": [
    "using DataStructures\n",
    "\n",
    "numberOfPlayers = 418\n",
    "lastMarblePoints = 71339\n",
    "\n",
    "struct GameState\n",
    "    points # map of elf number -> # of points\n",
    "    circle # array of marbles in the circle. Each is the number\n",
    "    nextMarbleNumber # value of the marble number to use next\n",
    "    currentIndex # index of the current marble\n",
    "    whoseTurn # elf number whose turn it is\n",
    "end\n",
    "\n",
    "function initialGameState()\n",
    "    GameState(Dict(), [], 1, 0, 1)\n",
    "end\n",
    "\n",
    "initialGameState()"
   ]
  },
  {
   "cell_type": "code",
   "execution_count": 5,
   "metadata": {},
   "outputs": [
    {
     "data": {
      "text/plain": [
       "indexClockwise (generic function with 1 method)"
      ]
     },
     "execution_count": 5,
     "metadata": {},
     "output_type": "execute_result"
    }
   ],
   "source": [
    "function indexCounterClockwise(ind, numPlaces, len)\n",
    "    i = ind - numPlaces\n",
    "    while i < 0\n",
    "        i += len\n",
    "    end\n",
    "    return i\n",
    "end\n",
    "\n",
    "function indexClockwise(ind, numPlaces, len)\n",
    "    i = ind + numPlaces\n",
    "    while i > len\n",
    "        i -= len\n",
    "    end\n",
    "    return i\n",
    "end"
   ]
  },
  {
   "cell_type": "code",
   "execution_count": 1,
   "metadata": {},
   "outputs": [
    {
     "data": {
      "text/plain": [
       "Marble(Marble(#= circular reference @-1 =#), Marble(#= circular reference @-1 =#), 0)"
      ]
     },
     "execution_count": 1,
     "metadata": {},
     "output_type": "execute_result"
    }
   ],
   "source": [
    "mutable struct Marble\n",
    "    next\n",
    "    prev\n",
    "    number::Int64\n",
    "end\n",
    "\n",
    "firstMarble = Marble(nothing, nothing, 0)\n",
    "firstMarble.next = firstMarble\n",
    "firstMarble.prev = firstMarble\n",
    "firstMarble"
   ]
  },
  {
   "cell_type": "code",
   "execution_count": 28,
   "metadata": {},
   "outputs": [
    {
     "data": {
      "text/plain": [
       "removeMarbleSevenPlacesCounterClockwise (generic function with 1 method)"
      ]
     },
     "execution_count": 28,
     "metadata": {},
     "output_type": "execute_result"
    }
   ],
   "source": [
    "function addBetweenFirstAndSecondClockwise(current::Marble, toAdd::Marble)\n",
    "    before = current.next\n",
    "    after = current.next.next\n",
    "    toAdd.prev = before\n",
    "    toAdd.next = after\n",
    "    before.next = toAdd\n",
    "    after.prev = toAdd\n",
    "    return toAdd\n",
    "end\n",
    "\n",
    "function removeMarbleSevenPlacesCounterClockwise(current::Marble)\n",
    "    toRemove = current\n",
    "    for i in 1:7\n",
    "        toRemove = toRemove.prev\n",
    "    end\n",
    "    before = toRemove.prev\n",
    "    after = toRemove.next\n",
    "    before.next = after\n",
    "    after.prev = before\n",
    "    return toRemove\n",
    "end"
   ]
  },
  {
   "cell_type": "code",
   "execution_count": 32,
   "metadata": {},
   "outputs": [
    {
     "data": {
      "text/plain": [
       "printMarbles (generic function with 1 method)"
      ]
     },
     "execution_count": 32,
     "metadata": {},
     "output_type": "execute_result"
    }
   ],
   "source": [
    "function printMarbles(firstMarble, current)\n",
    "    marble = firstMarble\n",
    "    \n",
    "    number = marble.number\n",
    "    if marble == current\n",
    "        print(\"($number)\")\n",
    "    else\n",
    "        print(\"$number \")\n",
    "    end\n",
    "    marble = marble.next\n",
    "    while marble != firstMarble\n",
    "        number = marble.number\n",
    "        if marble == current\n",
    "            print(\"($number) \")\n",
    "        else\n",
    "            print(\"$number \")\n",
    "        end\n",
    "        marble = marble.next\n",
    "    end\n",
    "    print(\"\\n\")\n",
    "end"
   ]
  },
  {
   "cell_type": "code",
   "execution_count": 43,
   "metadata": {},
   "outputs": [
    {
     "data": {
      "text/plain": [
       "412127"
      ]
     },
     "execution_count": 43,
     "metadata": {},
     "output_type": "execute_result"
    }
   ],
   "source": [
    "function solvePart1(numberOfPlayers, lastNumberScore)\n",
    "    # Start with a marble whose previous and next is itself\n",
    "    firstMarble = Marble(nothing, nothing, 0)\n",
    "    firstMarble.next = firstMarble\n",
    "    firstMarble.prev = firstMarble\n",
    "    \n",
    "    whoseTurn = 1\n",
    "    points = Dict()\n",
    "    current = firstMarble\n",
    "#     printMarbles(firstMarble, current)\n",
    "    for nextMarbleNumber in 1:lastNumberScore\n",
    "        if nextMarbleNumber % 23 == 0\n",
    "            removed = removeMarbleSevenPlacesCounterClockwise(current)\n",
    "            toGain = nextMarbleNumber + removed.number\n",
    "            points[whoseTurn] = get(points, whoseTurn, 0) + toGain\n",
    "            current = removed.next\n",
    "        else\n",
    "            before = current.next\n",
    "            after = before.next\n",
    "            toInsert = Marble(before, after, nextMarbleNumber)\n",
    "            before.next = toInsert\n",
    "            after.prev = toInsert\n",
    "            toInsert.prev = before\n",
    "            toInsert.next = after\n",
    "            current = toInsert\n",
    "        end\n",
    "        \n",
    "        whoseTurn += 1\n",
    "        if whoseTurn > numberOfPlayers\n",
    "            whoseTurn = 1\n",
    "        end\n",
    "    end\n",
    "    return max(values(points)...)\n",
    "end\n",
    "solvePart1(418, 71339)"
   ]
  },
  {
   "cell_type": "markdown",
   "metadata": {},
   "source": [
    "## Part Two\n",
    "\n",
    "Amused by the speed of your answer, the Elves are curious:\n",
    "\n",
    "What would the new winning Elf's score be if the number of the last marble were 100 times larger?"
   ]
  },
  {
   "cell_type": "code",
   "execution_count": 44,
   "metadata": {},
   "outputs": [
    {
     "data": {
      "text/plain": [
       "3482394794"
      ]
     },
     "execution_count": 44,
     "metadata": {},
     "output_type": "execute_result"
    }
   ],
   "source": [
    "solvePart1(418, 71339*100)"
   ]
  },
  {
   "cell_type": "markdown",
   "metadata": {},
   "source": [
    "# Day 10: The Stars Align\n",
    "\n",
    "It's no use; your navigation system simply isn't capable of providing walking directions in the arctic circle, and certainly not in 1018.\n",
    "\n",
    "The Elves suggest an alternative. In times like these, North Pole rescue operations will arrange points of light in the sky to guide missing Elves back to base. Unfortunately, the message is easy to miss: the points move slowly enough that it takes hours to align them, but have so much momentum that they only stay aligned for a second. If you blink at the wrong time, it might be hours before another message appears.\n",
    "\n",
    "You can see these points of light floating in the distance, and record their position in the sky and their velocity, the relative change in position per second (your puzzle input). The coordinates are all given from your perspective; given enough time, those positions and velocities will move the points into a cohesive message!\n",
    "\n",
    "Rather than wait, you decide to fast-forward the process and calculate what the points will eventually spell.\n",
    "\n",
    "For example, suppose you note the following points:\n",
    "\n",
    "```\n",
    "position=< 9,  1> velocity=< 0,  2>\n",
    "position=< 7,  0> velocity=<-1,  0>\n",
    "position=< 3, -2> velocity=<-1,  1>\n",
    "position=< 6, 10> velocity=<-2, -1>\n",
    "position=< 2, -4> velocity=< 2,  2>\n",
    "position=<-6, 10> velocity=< 2, -2>\n",
    "position=< 1,  8> velocity=< 1, -1>\n",
    "position=< 1,  7> velocity=< 1,  0>\n",
    "position=<-3, 11> velocity=< 1, -2>\n",
    "position=< 7,  6> velocity=<-1, -1>\n",
    "position=<-2,  3> velocity=< 1,  0>\n",
    "position=<-4,  3> velocity=< 2,  0>\n",
    "position=<10, -3> velocity=<-1,  1>\n",
    "position=< 5, 11> velocity=< 1, -2>\n",
    "position=< 4,  7> velocity=< 0, -1>\n",
    "position=< 8, -2> velocity=< 0,  1>\n",
    "position=<15,  0> velocity=<-2,  0>\n",
    "position=< 1,  6> velocity=< 1,  0>\n",
    "position=< 8,  9> velocity=< 0, -1>\n",
    "position=< 3,  3> velocity=<-1,  1>\n",
    "position=< 0,  5> velocity=< 0, -1>\n",
    "position=<-2,  2> velocity=< 2,  0>\n",
    "position=< 5, -2> velocity=< 1,  2>\n",
    "position=< 1,  4> velocity=< 2,  1>\n",
    "position=<-2,  7> velocity=< 2, -2>\n",
    "position=< 3,  6> velocity=<-1, -1>\n",
    "position=< 5,  0> velocity=< 1,  0>\n",
    "position=<-6,  0> velocity=< 2,  0>\n",
    "position=< 5,  9> velocity=< 1, -2>\n",
    "position=<14,  7> velocity=<-2,  0>\n",
    "position=<-3,  6> velocity=< 2, -1>\n",
    "```\n",
    "\n",
    "Each line represents one point. Positions are given as <X, Y> pairs: X represents how far left (negative) or right (positive) the point appears, while Y represents how far up (negative) or down (positive) the point appears.\n",
    "\n",
    "At 0 seconds, each point has the position given. Each second, each point's velocity is added to its position. So, a point with velocity <1, -2> is moving to the right, but is moving upward twice as quickly. If this point's initial position were <3, 9>, after 3 seconds, its position would become <6, 3>.\n",
    "\n",
    "Over time, the points listed above would move like this:\n",
    "\n",
    "Initially:\n",
    "\n",
    "```\n",
    "........#.............\n",
    "................#.....\n",
    ".........#.#..#.......\n",
    "......................\n",
    "#..........#.#.......#\n",
    "...............#......\n",
    "....#.................\n",
    "..#.#....#............\n",
    ".......#..............\n",
    "......#...............\n",
    "...#...#.#...#........\n",
    "....#..#..#.........#.\n",
    ".......#..............\n",
    "...........#..#.......\n",
    "#...........#.........\n",
    "...#.......#..........\n",
    "```\n",
    "\n",
    "After 1 second:\n",
    "```\n",
    "......................\n",
    "......................\n",
    "..........#....#......\n",
    "........#.....#.......\n",
    "..#.........#......#..\n",
    "......................\n",
    "......#...............\n",
    "....##.........#......\n",
    "......#.#.............\n",
    ".....##.##..#.........\n",
    "........#.#...........\n",
    "........#...#.....#...\n",
    "..#...........#.......\n",
    "....#.....#.#.........\n",
    "......................\n",
    "......................\n",
    "```\n",
    "\n",
    "After 2 seconds:\n",
    "```\n",
    "......................\n",
    "......................\n",
    "......................\n",
    "..............#.......\n",
    "....#..#...####..#....\n",
    "......................\n",
    "........#....#........\n",
    "......#.#.............\n",
    ".......#...#..........\n",
    ".......#..#..#.#......\n",
    "....#....#.#..........\n",
    ".....#...#...##.#.....\n",
    "........#.............\n",
    "......................\n",
    "......................\n",
    "......................\n",
    "```\n",
    "\n",
    "After 3 seconds:\n",
    "```\n",
    "......................\n",
    "......................\n",
    "......................\n",
    "......................\n",
    "......#...#..###......\n",
    "......#...#...#.......\n",
    "......#...#...#.......\n",
    "......#####...#.......\n",
    "......#...#...#.......\n",
    "......#...#...#.......\n",
    "......#...#...#.......\n",
    "......#...#..###......\n",
    "......................\n",
    "......................\n",
    "......................\n",
    "......................\n",
    "```\n",
    "\n",
    "After 4 seconds:\n",
    "```\n",
    "......................\n",
    "......................\n",
    "......................\n",
    "............#.........\n",
    "........##...#.#......\n",
    "......#.....#..#......\n",
    ".....#..##.##.#.......\n",
    ".......##.#....#......\n",
    "...........#....#.....\n",
    "..............#.......\n",
    "....#......#...#......\n",
    ".....#.....##.........\n",
    "...............#......\n",
    "...............#......\n",
    "......................\n",
    "......................\n",
    "```\n",
    "After 3 seconds, the message appeared briefly: HI. Of course, your message will be much longer and will take many more seconds to appear.\n",
    "\n",
    "What message will eventually appear in the sky?"
   ]
  },
  {
   "cell_type": "code",
   "execution_count": 5,
   "metadata": {},
   "outputs": [],
   "source": [
    "struct Point\n",
    "    position::Vector{Int64}\n",
    "    velocity::Vector{Int64}\n",
    "end\n",
    "\n",
    "function getDay10Input()\n",
    "    open(\"day10input.txt\") do f\n",
    "        posvel = []\n",
    "        for line in eachline(f)\n",
    "            xLoc = findnext(r\"[-0-9]+\", line, 1)\n",
    "            x = parse(Int64, line[xLoc])\n",
    "            yLoc = findnext(r\"[-0-9]+\", line, xLoc[end]+1)\n",
    "            y = parse(Int64, line[yLoc])\n",
    "            xVelLoc = findnext(r\"[-0-9]+\", line, yLoc[end]+1)\n",
    "            xVel = parse(Int64, line[xVelLoc])\n",
    "            yVelLoc = findnext(r\"[-0-9]+\", line, xVelLoc[end]+1)\n",
    "            yVel = parse(Int64, line[yVelLoc])\n",
    "            push!(posvel, Point([x, y], [xVel, yVel]))\n",
    "        end\n",
    "        return posvel\n",
    "    end\n",
    "end\n",
    "points = getDay10Input();"
   ]
  },
  {
   "cell_type": "code",
   "execution_count": 7,
   "metadata": {},
   "outputs": [
    {
     "data": {
      "text/plain": [
       "212448"
      ]
     },
     "execution_count": 7,
     "metadata": {},
     "output_type": "execute_result"
    }
   ],
   "source": [
    "function getBoundingBox(points)\n",
    "    xs = map(point -> point.position[1], points)\n",
    "    ys = map(point -> point.position[2], points)\n",
    "    return min(xs...), max(xs...), min(ys...), max(ys...)\n",
    "end\n",
    "function getBoundingBoxMagnitude(points)\n",
    "    xMin, xMax, yMin, yMax = getBoundingBox(points)\n",
    "    (xMax - xMin) + (yMax - yMin)\n",
    "end\n",
    "getBoundingBoxMagnitude(points)"
   ]
  },
  {
   "cell_type": "code",
   "execution_count": 10,
   "metadata": {},
   "outputs": [],
   "source": [
    "function getSuccessorPoints(points)\n",
    "    next = []\n",
    "    for point in points\n",
    "        newPosition = point.position + point.velocity\n",
    "        push!(next, Point(newPosition, point.velocity))\n",
    "    end\n",
    "    return next\n",
    "end\n",
    "getSuccessorPoints(points);"
   ]
  },
  {
   "cell_type": "code",
   "execution_count": 16,
   "metadata": {},
   "outputs": [
    {
     "data": {
      "text/plain": [
       "printPoints (generic function with 1 method)"
      ]
     },
     "execution_count": 16,
     "metadata": {},
     "output_type": "execute_result"
    }
   ],
   "source": [
    "function printPoints(points)\n",
    "    xMin, xMax, yMin, yMax = getBoundingBox(points)\n",
    "    \n",
    "    locContainsPoint = Dict()\n",
    "    for point in points\n",
    "        locContainsPoint[point.position] = true\n",
    "    end\n",
    "    \n",
    "    for y in yMin:yMax\n",
    "        for x in xMin:xMax\n",
    "            if get(locContainsPoint, [x, y], false)\n",
    "                print(\"#\")\n",
    "            else\n",
    "                print(\" \")\n",
    "            end\n",
    "        end\n",
    "        print(\"\\n\")\n",
    "    end\n",
    "end"
   ]
  },
  {
   "cell_type": "code",
   "execution_count": 18,
   "metadata": {},
   "outputs": [
    {
     "name": "stdout",
     "output_type": "stream",
     "text": [
      "  ##    #####    ####   #    #     ###  #####   #    #  ######\n",
      " #  #   #    #  #    #  #    #      #   #    #  #    #  #     \n",
      "#    #  #    #  #        #  #       #   #    #   #  #   #     \n",
      "#    #  #    #  #        #  #       #   #    #   #  #   #     \n",
      "#    #  #####   #         ##        #   #####     ##    ##### \n",
      "######  #    #  #  ###    ##        #   #    #    ##    #     \n",
      "#    #  #    #  #    #   #  #       #   #    #   #  #   #     \n",
      "#    #  #    #  #    #   #  #   #   #   #    #   #  #   #     \n",
      "#    #  #    #  #   ##  #    #  #   #   #    #  #    #  #     \n",
      "#    #  #####    ### #  #    #   ###    #####   #    #  #     \n"
     ]
    },
    {
     "data": {
      "text/plain": [
       "10619"
      ]
     },
     "execution_count": 18,
     "metadata": {},
     "output_type": "execute_result"
    }
   ],
   "source": [
    "function solveDay10()\n",
    "    points = getDay10Input()\n",
    "    size = getBoundingBoxMagnitude(points)\n",
    "    next = getSuccessorPoints(points)\n",
    "    nextSize = getBoundingBoxMagnitude(next)\n",
    "    seconds = 0\n",
    "    while nextSize < size\n",
    "        points = next\n",
    "        size = nextSize\n",
    "        next = getSuccessorPoints(points)\n",
    "        nextSize = getBoundingBoxMagnitude(next)\n",
    "        seconds += 1\n",
    "    end\n",
    "    printPoints(points)\n",
    "    seconds\n",
    "end\n",
    "solveDay10()"
   ]
  },
  {
   "cell_type": "markdown",
   "metadata": {},
   "source": [
    "# Day 11: Chronal Charge\n",
    "\n",
    "You watch the Elves and their sleigh fade into the distance as they head toward the North Pole.\n",
    "\n",
    "Actually, you're the one fading. The falling sensation returns.\n",
    "\n",
    "The low fuel warning light is illuminated on your wrist-mounted device. Tapping it once causes it to project a hologram of the situation: a 300x300 grid of fuel cells and their current power levels, some negative. You're not sure what negative power means in the context of time travel, but it can't be good.\n",
    "\n",
    "Each fuel cell has a coordinate ranging from 1 to 300 in both the X (horizontal) and Y (vertical) direction. In X,Y notation, the top-left cell is 1,1, and the top-right cell is 300,1.\n",
    "\n",
    "The interface lets you select any 3x3 square of fuel cells. To increase your chances of getting to your destination, you decide to choose the 3x3 square with the largest total power.\n",
    "\n",
    "The power level in a given fuel cell can be found through the following process:\n",
    "\n",
    "- Find the fuel cell's rack ID, which is its X coordinate plus 10.\n",
    "- Begin with a power level of the rack ID times the Y coordinate.\n",
    "- Increase the power level by the value of the grid serial number (your puzzle input).\n",
    "- Set the power level to itself multiplied by the rack ID.\n",
    "- Keep only the hundreds digit of the power level (so 12345 becomes 3; numbers with no hundreds digit become 0).\n",
    "- Subtract 5 from the power level.\n",
    "\n",
    "For example, to find the power level of the fuel cell at 3,5 in a grid with serial number 8:\n",
    "\n",
    "- The rack ID is 3 + 10 = 13.\n",
    "- The power level starts at 13 * 5 = 65.\n",
    "- Adding the serial number produces 65 + 8 = 73.\n",
    "- Multiplying by the rack ID produces 73 * 13 = 949.\n",
    "- The hundreds digit of 949 is 9.\n",
    "- Subtracting 5 produces 9 - 5 = 4.\n",
    "- So, the power level of this fuel cell is 4.\n",
    "\n",
    "Here are some more example power levels:\n",
    "\n",
    "- Fuel cell at  122,79, grid serial number 57: power level -5.\n",
    "- Fuel cell at 217,196, grid serial number 39: power level  0.\n",
    "- Fuel cell at 101,153, grid serial number 71: power level  4.\n",
    "\n",
    "Your goal is to find the 3x3 square which has the largest total power. The square must be entirely within the 300x300 grid. Identify this square using the X,Y coordinate of its top-left fuel cell. For example:\n",
    "\n",
    "For grid serial number 18, the largest total 3x3 square has a top-left corner of 33,45 (with a total power of 29); these fuel cells appear in the middle of this 5x5 region:\n",
    "\n",
    "```\n",
    "-2  -4   4   4   4\n",
    "-4   4   4   4  -5\n",
    " 4   3   3   4  -4\n",
    " 1   1   2   4  -3\n",
    "-1   0   2  -5  -2\n",
    "```\n",
    "\n",
    "For grid serial number 42, the largest 3x3 square's top-left is 21,61 (with a total power of 30); they are in the middle of this region:\n",
    "```\n",
    "-3   4   2   2   2\n",
    "-4   4   3   3   4\n",
    "-5   3   3   4  -4\n",
    " 4   3   3   4  -3\n",
    " 3   3   3  -5  -1\n",
    "```\n",
    "What is the X,Y coordinate of the top-left fuel cell of the 3x3 square with the largest total power?\n",
    "\n",
    "Your puzzle input is 6548."
   ]
  },
  {
   "cell_type": "code",
   "execution_count": 23,
   "metadata": {},
   "outputs": [
    {
     "data": {
      "text/plain": [
       "4"
      ]
     },
     "execution_count": 23,
     "metadata": {},
     "output_type": "execute_result"
    }
   ],
   "source": [
    "function findCellPower(x::Int, y::Int, serialNumber::Int)\n",
    "    rackId = x + 10\n",
    "    power = rackId * y\n",
    "    power += serialNumber\n",
    "    power *= rackId\n",
    "    power = div(power, 100) % 10\n",
    "    power -= 5\n",
    "    return power\n",
    "end\n",
    "\n",
    "findCellPower(101, 153, 71)"
   ]
  },
  {
   "cell_type": "code",
   "execution_count": 35,
   "metadata": {},
   "outputs": [
    {
     "data": {
      "text/plain": [
       "3×3 Array{Int64,2}:\n",
       " 4  3  1\n",
       " 4  3  2\n",
       " 4  4  4"
      ]
     },
     "execution_count": 35,
     "metadata": {},
     "output_type": "execute_result"
    }
   ],
   "source": [
    "function findAllCellPowers(serialNumber::Int)\n",
    "    map(xy -> findCellPower(xy[1], xy[2], serialNumber), Base.product(1:300, 1:300))\n",
    "end\n",
    "findAllCellPowers(18)[33:35, 45:47]"
   ]
  },
  {
   "cell_type": "code",
   "execution_count": 54,
   "metadata": {},
   "outputs": [
    {
     "data": {
      "text/plain": [
       "29"
      ]
     },
     "execution_count": 54,
     "metadata": {},
     "output_type": "execute_result"
    }
   ],
   "source": [
    "function findBlockPower(x::Int, y::Int, squareSize::Int, powers::Array{Int, 2})\n",
    "    n = 0\n",
    "    for i in x:x+squareSize-1\n",
    "        for j in y:y+squareSize-1\n",
    "            n += powers[i, j]\n",
    "        end\n",
    "    end\n",
    "    return n\n",
    "end\n",
    "\n",
    "findBlockPower(33, 45, 3, findAllCellPowers(18))"
   ]
  },
  {
   "cell_type": "code",
   "execution_count": 59,
   "metadata": {},
   "outputs": [
    {
     "data": {
      "text/plain": [
       "((21, 53, 3), 29)"
      ]
     },
     "execution_count": 59,
     "metadata": {},
     "output_type": "execute_result"
    }
   ],
   "source": [
    "function findMaxPowerBlock(squareSize::Int, powers::Array{Int, 2})\n",
    "    blockPowers = Dict()\n",
    "    for x in 1:size(powers, 1)-squareSize+1\n",
    "        for y in 1:size(powers, 2)-squareSize+1\n",
    "            blockPowers[(x, y)] = findBlockPower(x, y, squareSize, squareSize, powers)\n",
    "        end\n",
    "    end\n",
    "    maxPower = -Inf\n",
    "    maxPos = nothing\n",
    "    for (pos, power) in blockPowers\n",
    "        if power > maxPower\n",
    "            maxPower = power\n",
    "            maxPos = pos\n",
    "        end\n",
    "    end\n",
    "    if maxPos == nothing\n",
    "        return (nothing, nothing, squareSize), maxPower\n",
    "    else\n",
    "        return (maxPos[1], maxPos[2], squareSize), maxPower\n",
    "    end\n",
    "end\n",
    "\n",
    "findMaxPowerBlock(3, findAllCellPowers(6548))"
   ]
  },
  {
   "cell_type": "markdown",
   "metadata": {},
   "source": [
    "## Part Two\n",
    "\n",
    "You discover a dial on the side of the device; it seems to let you select a square of any size, not just 3x3. Sizes from 1x1 to 300x300 are supported.\n",
    "\n",
    "Realizing this, you now must find the square of any size with the largest total power. Identify this square by including its size as a third parameter after the top-left coordinate: a 9x9 square with a top-left corner of 3,5 is identified as 3,5,9.\n",
    "\n",
    "For example:\n",
    "\n",
    "- For grid serial number 18, the largest total square (with a total power of 113) is 16x16 and has a top-left corner of 90,269, so its identifier is 90,269,16.\n",
    "- For grid serial number 42, the largest total square (with a total power of 119) is 12x12 and has a top-left corner of 232,251, so its identifier is 232,251,12.\n",
    "\n",
    "What is the X,Y,size identifier of the square with the largest total power?"
   ]
  },
  {
   "cell_type": "code",
   "execution_count": 66,
   "metadata": {},
   "outputs": [
    {
     "name": "stdout",
     "output_type": "stream",
     "text": [
      "(192, 223, 1)4\n",
      "(34, 252, 2)16\n",
      "(21, 53, 3)29\n",
      "(19, 55, 4)38\n",
      "(235, 256, 5)43\n",
      "(233, 256, 6)47\n",
      "(233, 254, 7)65\n",
      "(236, 254, 8)71\n",
      "(235, 253, 9)91\n",
      "(235, 252, 10)99\n",
      "(233, 251, 11)117\n",
      "(233, 250, 12)121\n",
      " 69.549885 seconds (38.15 M allocations: 1.505 GiB, 0.59% gc time)\n"
     ]
    },
    {
     "data": {
      "text/plain": [
       "((233, 250, 12), 121)"
      ]
     },
     "execution_count": 66,
     "metadata": {},
     "output_type": "execute_result"
    }
   ],
   "source": [
    "function solveDay11Part2()\n",
    "    powers = findAllCellPowers(6548)\n",
    "    maxCoord = nothing\n",
    "    maxPower = -Inf\n",
    "    for size in 1:300\n",
    "        coord, power = findMaxPowerBlock(size, powers)\n",
    "        if power > maxPower\n",
    "            maxCoord = coord\n",
    "            maxPower = power\n",
    "            println(maxCoord, maxPower)\n",
    "            flush(stdout)\n",
    "        end\n",
    "    end\n",
    "    return maxCoord, maxPower\n",
    "end\n",
    "@time solveDay11Part2()"
   ]
  },
  {
   "cell_type": "code",
   "execution_count": 87,
   "metadata": {},
   "outputs": [
    {
     "name": "stdout",
     "output_type": "stream",
     "text": [
      "(1, 1, 1) -4\n",
      "(1, 1, 2) -3\n",
      "(1, 1, 3) -2\n",
      "(1, 1, 4) 0\n",
      "(1, 1, 5) 1\n",
      "(1, 1, 6) 2\n",
      "(1, 1, 7) 3\n",
      "(1, 1, 8) 4\n",
      "(2, 1, 7) 9\n",
      "(2, 1, 15) 12\n",
      "(2, 1, 106) 14\n",
      "(2, 20, 155) 15\n",
      "(2, 34, 252) 16\n",
      "(3, 1, 14) 17\n",
      "(3, 2, 91) 18\n",
      "(3, 18, 25) 21\n",
      "(3, 20, 55) 27\n",
      "(3, 21, 53) 29\n",
      "(4, 19, 55) 38\n",
      "(5, 21, 51) 40\n",
      "(5, 235, 256) 43\n",
      "(6, 233, 256) 47\n",
      "(7, 84, 107) 52\n",
      "(7, 233, 252) 57\n",
      "(7, 233, 254) 65\n",
      "(8, 232, 254) 68\n",
      "(8, 236, 253) 69\n",
      "(8, 236, 254) 71\n",
      "(9, 233, 252) 77\n",
      "(9, 233, 253) 79\n",
      "(9, 235, 251) 83\n",
      "(9, 235, 252) 87\n",
      "(9, 235, 253) 91\n",
      "(10, 234, 252) 94\n",
      "(10, 235, 252) 99\n",
      "(11, 233, 250) 106\n",
      "(11, 233, 251) 117\n",
      "(12, 233, 250) 121\n",
      "  0.225521 seconds (109.69 k allocations: 6.049 MiB, 2.98% gc time)\n"
     ]
    },
    {
     "data": {
      "text/plain": [
       "\"12,233,250\""
      ]
     },
     "execution_count": 87,
     "metadata": {},
     "output_type": "execute_result"
    }
   ],
   "source": [
    "\"\"\"I got this idea from someone on the AdventOfCode subreddit.\n",
    "I've also seen it before, so I should have thought of it.\n",
    "\n",
    "I wanted to see how fast it was. Much much much much much faster, as it turns out.\"\"\"\n",
    "function solveDay11Part2WithSumTable()\n",
    "    serialNumber = 6548\n",
    "    # Summed-area Table indexed starting with 0\n",
    "    t = zeros(Int64, 301, 301)\n",
    "    for x in 1:300\n",
    "        for y in 1:300\n",
    "            power = findCellPower(x, y, serialNumber)\n",
    "            t[x+1, y+1] = power + t[x, y+1] + t[x+1, y] - t[x, y]\n",
    "        end\n",
    "    end\n",
    "    best = nothing\n",
    "    max = -Inf\n",
    "    for s in 1:300\n",
    "        for x in 1:300-s\n",
    "            for y in 1:300-s\n",
    "                total = t[x+s, y+s] - t[x, y+s] - t[x+s, y] + t[x, y]\n",
    "                if total > max\n",
    "                    best = (s, x, y)\n",
    "                    max = total\n",
    "                    println(best, \" \", total)\n",
    "                    flush(stdout)\n",
    "                end\n",
    "            end\n",
    "        end\n",
    "    end\n",
    "    s, x, y = best\n",
    "    return \"$s,$x,$y\"\n",
    "end\n",
    "@time solveDay11Part2WithSumTable()"
   ]
  },
  {
   "cell_type": "markdown",
   "metadata": {},
   "source": [
    "# Day 12: Subterranean Sustainability\n",
    "\n",
    "The year 518 is significantly more underground than your history books implied. Either that, or you've arrived in a vast cavern network under the North Pole.\n",
    "\n",
    "After exploring a little, you discover a long tunnel that contains a row of small pots as far as you can see to your left and right. A few of them contain plants - someone is trying to grow things in these geothermally-heated caves.\n",
    "\n",
    "The pots are numbered, with 0 in front of you. To the left, the pots are numbered -1, -2, -3, and so on; to the right, 1, 2, 3.... Your puzzle input contains a list of pots from 0 to the right and whether they do (#) or do not (.) currently contain a plant, the initial state. (No other pots currently contain plants.) For example, an initial state of #..##.... indicates that pots 0, 3, and 4 currently contain plants.\n",
    "\n",
    "Your puzzle input also contains some notes you find on a nearby table: someone has been trying to figure out how these plants spread to nearby pots. Based on the notes, for each generation of plants, a given pot has or does not have a plant based on whether that pot (and the two pots on either side of it) had a plant in the last generation. These are written as LLCRR => N, where L are pots to the left, C is the current pot being considered, R are the pots to the right, and N is whether the current pot will have a plant in the next generation. For example:\n",
    "\n",
    "- A note like `..#.. => .` means that a pot that contains a plant but with no plants within two pots of it will not have a plant in it during the next generation.\n",
    "- A note like `##.## => .` means that an empty pot with two plants on each side of it will remain empty in the next generation.\n",
    "- A note like `.##.# => #` means that a pot has a plant in a given generation if, in the previous generation, there were plants in that pot, the one immediately to the left, and the one two pots to the right, but not in the ones immediately to the right and two to the left.\n",
    "\n",
    "It's not clear what these plants are for, but you're sure it's important, so you'd like to make sure the current configuration of plants is sustainable by determining what will happen after 20 generations.\n",
    "\n",
    "For example, given the following input:\n",
    "\n",
    "initial state: `#..#.#..##......###...###`\n",
    "\n",
    "```\n",
    "...## => #\n",
    "..#.. => #\n",
    ".#... => #\n",
    ".#.#. => #\n",
    ".#.## => #\n",
    ".##.. => #\n",
    ".#### => #\n",
    "#.#.# => #\n",
    "#.### => #\n",
    "##.#. => #\n",
    "##.## => #\n",
    "###.. => #\n",
    "###.# => #\n",
    "####. => #\n",
    "```\n",
    "For brevity, in this example, only the combinations which do produce a plant are listed. (Your input includes all possible combinations.) Then, the next 20 generations will look like this:\n",
    "\n",
    "```\n",
    "                 1         2         3     \n",
    "       0         0         0         0     \n",
    " 0: ...#..#.#..##......###...###...........\n",
    " 1: ...#...#....#.....#..#..#..#...........\n",
    " 2: ...##..##...##....#..#..#..##..........\n",
    " 3: ..#.#...#..#.#....#..#..#...#..........\n",
    " 4: ...#.#..#...#.#...#..#..##..##.........\n",
    " 5: ....#...##...#.#..#..#...#...#.........\n",
    " 6: ....##.#.#....#...#..##..##..##........\n",
    " 7: ...#..###.#...##..#...#...#...#........\n",
    " 8: ...#....##.#.#.#..##..##..##..##.......\n",
    " 9: ...##..#..#####....#...#...#...#.......\n",
    "10: ..#.#..#...#.##....##..##..##..##......\n",
    "11: ...#...##...#.#...#.#...#...#...#......\n",
    "12: ...##.#.#....#.#...#.#..##..##..##.....\n",
    "13: ..#..###.#....#.#...#....#...#...#.....\n",
    "14: ..#....##.#....#.#..##...##..##..##....\n",
    "15: ..##..#..#.#....#....#..#.#...#...#....\n",
    "16: .#.#..#...#.#...##...#...#.#..##..##...\n",
    "17: ..#...##...#.#.#.#...##...#....#...#...\n",
    "18: ..##.#.#....#####.#.#.#...##...##..##..\n",
    "19: .#..###.#..#.#.#######.#.#.#..#.#...#..\n",
    "20: .#....##....#####...#######....#.#..##.\n",
    "```\n",
    "The generation is shown along the left, where 0 is the initial state. The pot numbers are shown along the top, where 0 labels the center pot, negative-numbered pots extend to the left, and positive pots extend toward the right. Remember, the initial state begins at pot 0, which is not the leftmost pot used in this example.\n",
    "\n",
    "After one generation, only seven plants remain. The one in pot 0 matched the rule looking for ..#.., the one in pot 4 matched the rule looking for .#.#., pot 9 matched .##.., and so on.\n",
    "\n",
    "In this example, after 20 generations, the pots shown as # contain plants, the furthest left of which is pot -2, and the furthest right of which is pot 34. Adding up all the numbers of plant-containing pots after the 20th generation produces 325.\n",
    "\n",
    "After 20 generations, what is the sum of the numbers of all pots which contain a plant?"
   ]
  },
  {
   "cell_type": "markdown",
   "metadata": {},
   "source": [
    "# Part Two\n",
    "\n",
    "You realize that 20 generations aren't enough. After all, these plants will need to last another 1500 years to even reach your timeline, not to mention your future.\n",
    "\n",
    "After fifty billion (50000000000) generations, what is the sum of the numbers of all pots which contain a plant?"
   ]
  },
  {
   "cell_type": "code",
   "execution_count": 146,
   "metadata": {},
   "outputs": [],
   "source": [
    "function getDay12Input()\n",
    "    s = \"\"\n",
    "    open(\"day12input.txt\") do f\n",
    "        s = read(f, String)\n",
    "    end\n",
    "    lines = split(s, \"\\n\")\n",
    "\n",
    "    state = repeat(\".\", 100) * lines[1][16:end]\n",
    "    rules = Dict()\n",
    "    for line in lines[3:end-1]\n",
    "        rules[line[1:5]] = line[10]\n",
    "    end\n",
    "    return state, rules, -100\n",
    "end\n",
    "state, rules, leftIndex = getDay12Input();"
   ]
  },
  {
   "cell_type": "code",
   "execution_count": 143,
   "metadata": {},
   "outputs": [
    {
     "data": {
      "text/plain": [
       "getSuccessor (generic function with 2 methods)"
      ]
     },
     "execution_count": 143,
     "metadata": {},
     "output_type": "execute_result"
    }
   ],
   "source": [
    "function getSuccessor(state, leftIndex, rules)\n",
    "    successor = []\n",
    "    if '#' in state[1:3]\n",
    "        leftIndex -= 100\n",
    "        state = repeat(\".\", 100) * state\n",
    "    end\n",
    "    \n",
    "    if '#' in state[end-2:end]\n",
    "        state = state * repeat(\".\", 100)\n",
    "    end\n",
    "    \n",
    "    for i in 1:length(state)\n",
    "        if i < 3 || i > length(state) - 2\n",
    "            push!(successor, \".\")\n",
    "        else\n",
    "            push!(successor, get(rules, state[i-2:i+2], \".\"))\n",
    "        end\n",
    "    end\n",
    "    return join(successor, \"\"), leftIndex\n",
    "end"
   ]
  },
  {
   "cell_type": "code",
   "execution_count": 144,
   "metadata": {},
   "outputs": [
    {
     "data": {
      "text/plain": [
       "sumPotsWithPlants (generic function with 1 method)"
      ]
     },
     "execution_count": 144,
     "metadata": {},
     "output_type": "execute_result"
    }
   ],
   "source": [
    "function sumPotsWithPlants(state, leftIndex)\n",
    "    sum = 0\n",
    "    for i in leftIndex:length(state)+leftIndex-1\n",
    "        if state[i - leftIndex + 1] == '#'\n",
    "            sum += i\n",
    "        end\n",
    "    end\n",
    "    return sum\n",
    "end"
   ]
  },
  {
   "cell_type": "code",
   "execution_count": 145,
   "metadata": {},
   "outputs": [
    {
     "name": "stdout",
     "output_type": "stream",
     "text": [
      "Answer for part 1 is 4818\n",
      "Answer for part 2 is 5100000001377\n"
     ]
    },
    {
     "data": {
      "text/plain": [
       "(4818, 5100000001377)"
      ]
     },
     "execution_count": 145,
     "metadata": {},
     "output_type": "execute_result"
    }
   ],
   "source": [
    "function solveDay12(state, leftIndex, rules)\n",
    "    for i in 1:20\n",
    "        state, leftIndex = getSuccessor(state, leftIndex, rules)\n",
    "    end\n",
    "    part1 = sumPotsWithPlants(state, leftIndex)\n",
    "    println(\"Answer for part 1 is $part1\")\n",
    "    \n",
    "    # Keep going to get to a stable pattern\n",
    "    for i in 21:1000\n",
    "        state, leftIndex = getSuccessor(state, leftIndex, rules)\n",
    "    end\n",
    "    # Find the current rate of growth each generation\n",
    "    num = sumPotsWithPlants(state, leftIndex)\n",
    "    state, leftIndex = getSuccessor(state, leftIndex, rules)\n",
    "    diff = sumPotsWithPlants(state, leftIndex) - num\n",
    "    # Multiply by the number of generations\n",
    "    part2 = num + diff * (50000000000 - 1000)\n",
    "    println(\"Answer for part 2 is $part2\")\n",
    "    return (part1, part2)\n",
    "end\n",
    "\n",
    "solveDay12(state, leftIndex, rules)\n",
    "# should be 4818"
   ]
  },
  {
   "cell_type": "markdown",
   "metadata": {},
   "source": [
    "# Day 13: Mine Cart Madness\n",
    "\n",
    "A crop of this size requires significant logistics to transport produce, soil, fertilizer, and so on. The Elves are very busy pushing things around in carts on some kind of rudimentary system of tracks they've come up with.\n",
    "\n",
    "Seeing as how cart-and-track systems don't appear in recorded history for another 1000 years, the Elves seem to be making this up as they go along. They haven't even figured out how to avoid collisions yet.\n",
    "\n",
    "You map out the tracks (your puzzle input) and see where you can help.\n",
    "\n",
    "Tracks consist of straight paths (`|` and `-`), curves (`/` and `\\`), and intersections (`+`). Curves connect exactly two perpendicular pieces of track; for example, this is a closed loop:\n",
    "\n",
    "```\n",
    "/----\\\n",
    "|    |\n",
    "|    |\n",
    "\\----/\n",
    "```\n",
    "\n",
    "Intersections occur when two perpendicular paths cross. At an intersection, a cart is capable of turning left, turning right, or continuing straight. Here are two loops connected by two intersections:\n",
    "```\n",
    "/-----\\\n",
    "|     |\n",
    "|  /--+--\\\n",
    "|  |  |  |\n",
    "\\--+--/  |\n",
    "   |     |\n",
    "   \\-----/\n",
    "```\n",
    "\n",
    "Several carts are also on the tracks. Carts always face either up (`^`), down (`v`), left (`<`), or right (`>`). (On your initial map, the track under each cart is a straight path matching the direction the cart is facing.)\n",
    "\n",
    "Each time a cart has the option to turn (by arriving at any intersection), it turns left the first time, goes straight the second time, turns right the third time, and then repeats those directions starting again with left the fourth time, straight the fifth time, and so on. This process is independent of the particular intersection at which the cart has arrived - that is, the cart has no per-intersection memory.\n",
    "\n",
    "Carts all move at the same speed; they take turns moving a single step at a time. They do this based on their current location: carts on the top row move first (acting from left to right), then carts on the second row move (again from left to right), then carts on the third row, and so on. Once each cart has moved one step, the process repeats; each of these loops is called a tick.\n",
    "\n",
    "For example, suppose there are two carts on a straight track:\n",
    "```\n",
    "|  |  |  |  |\n",
    "v  |  |  |  |\n",
    "|  v  v  |  |\n",
    "|  |  |  v  X\n",
    "|  |  ^  ^  |\n",
    "^  ^  |  |  |\n",
    "|  |  |  |  |\n",
    "```\n",
    "First, the top cart moves. It is facing down (`v`), so it moves down one square. Second, the bottom cart moves. It is facing up (`^`), so it moves up one square. Because all carts have moved, the first tick ends. Then, the process repeats, starting with the first cart. The first cart moves down, then the second cart moves up - right into the first cart, colliding with it! (The location of the crash is marked with an `X`.) This ends the second and last tick.\n",
    "\n",
    "Here is a longer example:\n",
    "\n",
    "```\n",
    "/->-\\        \n",
    "|   |  /----\\\n",
    "| /-+--+-\\  |\n",
    "| | |  | v  |\n",
    "\\-+-/  \\-+--/\n",
    "  \\------/   \n",
    "```\n",
    "```\n",
    "/-->\\        \n",
    "|   |  /----\\\n",
    "| /-+--+-\\  |\n",
    "| | |  | |  |\n",
    "\\-+-/  \\->--/\n",
    "  \\------/   \n",
    "```\n",
    "```\n",
    "/---v        \n",
    "|   |  /----\\\n",
    "| /-+--+-\\  |\n",
    "| | |  | |  |\n",
    "\\-+-/  \\-+>-/\n",
    "  \\------/   \n",
    "```\n",
    "```\n",
    "/---\\        \n",
    "|   v  /----\\\n",
    "| /-+--+-\\  |\n",
    "| | |  | |  |\n",
    "\\-+-/  \\-+->/\n",
    "  \\------/   \n",
    "```\n",
    "```\n",
    "/---\\        \n",
    "|   |  /----\\\n",
    "| /->--+-\\  |\n",
    "| | |  | |  |\n",
    "\\-+-/  \\-+--^\n",
    "  \\------/   \n",
    "```\n",
    "```\n",
    "/---\\        \n",
    "|   |  /----\\\n",
    "| /-+>-+-\\  |\n",
    "| | |  | |  ^\n",
    "\\-+-/  \\-+--/\n",
    "  \\------/   \n",
    "```\n",
    "```\n",
    "/---\\        \n",
    "|   |  /----\\\n",
    "| /-+->+-\\  ^\n",
    "| | |  | |  |\n",
    "\\-+-/  \\-+--/\n",
    "  \\------/   \n",
    "```\n",
    "```\n",
    "/---\\        \n",
    "|   |  /----<\n",
    "| /-+-->-\\  |\n",
    "| | |  | |  |\n",
    "\\-+-/  \\-+--/\n",
    "  \\------/   \n",
    "```\n",
    "```\n",
    "/---\\        \n",
    "|   |  /---<\\\n",
    "| /-+--+>\\  |\n",
    "| | |  | |  |\n",
    "\\-+-/  \\-+--/\n",
    "  \\------/   \n",
    "```\n",
    "```\n",
    "/---\\        \n",
    "|   |  /--<-\\\n",
    "| /-+--+-v  |\n",
    "| | |  | |  |\n",
    "\\-+-/  \\-+--/\n",
    "  \\------/   \n",
    "```\n",
    "```\n",
    "/---\\        \n",
    "|   |  /-<--\\\n",
    "| /-+--+-\\  |\n",
    "| | |  | v  |\n",
    "\\-+-/  \\-+--/\n",
    "  \\------/   \n",
    "```\n",
    "```\n",
    "/---\\        \n",
    "|   |  /<---\\\n",
    "| /-+--+-\\  |\n",
    "| | |  | |  |\n",
    "\\-+-/  \\-<--/\n",
    "  \\------/   \n",
    "```\n",
    "```\n",
    "/---\\        \n",
    "|   |  v----\\\n",
    "| /-+--+-\\  |\n",
    "| | |  | |  |\n",
    "\\-+-/  \\<+--/\n",
    "  \\------/   \n",
    "```\n",
    "```\n",
    "/---\\        \n",
    "|   |  /----\\\n",
    "| /-+--v-\\  |\n",
    "| | |  | |  |\n",
    "\\-+-/  ^-+--/\n",
    "  \\------/   \n",
    "```\n",
    "```\n",
    "/---\\        \n",
    "|   |  /----\\\n",
    "| /-+--+-\\  |\n",
    "| | |  X |  |\n",
    "\\-+-/  \\-+--/\n",
    "  \\------/ \n",
    "```\n",
    "After following their respective paths for a while, the carts eventually crash. To help prevent crashes, you'd like to know the location of the first crash. Locations are given in `X,Y` coordinates, where the furthest left column is `X=0` and the furthest top row is `Y=0`:\n",
    "\n",
    "```\n",
    "           111\n",
    " 0123456789012\n",
    "0/---\\        \n",
    "1|   |  /----\\\n",
    "2| /-+--+-\\  |\n",
    "3| | |  X |  |\n",
    "4\\-+-/  \\-+--/\n",
    "5  \\------/   \n",
    "```\n",
    "In this example, the location of the first crash is `7,3`."
   ]
  },
  {
   "cell_type": "code",
   "execution_count": 2,
   "metadata": {},
   "outputs": [],
   "source": [
    "mutable struct Cart\n",
    "    direction::Char # 'N', 'W', 'S', 'E'\n",
    "    x::Integer\n",
    "    y::Integer\n",
    "    nextTurn::Char # 'l', 'r', or 's'\n",
    "end"
   ]
  },
  {
   "cell_type": "code",
   "execution_count": 3,
   "metadata": {},
   "outputs": [],
   "source": [
    "function getInputString()\n",
    "    open(\"day13input.txt\") do f\n",
    "        return strip(read(f, String))\n",
    "    end\n",
    "end\n",
    "inputString = getInputString();"
   ]
  },
  {
   "cell_type": "code",
   "execution_count": 41,
   "metadata": {},
   "outputs": [
    {
     "data": {
      "text/plain": [
       "150×150 Array{Any,2}:\n",
       " ' '  ' '  ' '  ' '  ' '   ' '  ' '  …  ' '  ' '  ' '  ' '  ' '  ' '  ' '\n",
       " ' '  ' '  ' '  ' '  ' '   ' '  ' '     ' '  ' '  ' '  ' '  ' '  ' '  ' '\n",
       " ' '  ' '  ' '  ' '  ' '   ' '  ' '     ' '  ' '  ' '  ' '  ' '  ' '  ' '\n",
       " ' '  ' '  ' '  ' '  ' '   ' '  ' '     ' '  ' '  ' '  ' '  ' '  ' '  ' '\n",
       " ' '  ' '  ' '  ' '  ' '   ' '  ' '     ' '  ' '  ' '  ' '  ' '  ' '  ' '\n",
       " ' '  ' '  ' '  ' '  ' '   ' '  ' '  …  ' '  ' '  ' '  ' '  ' '  ' '  ' '\n",
       " ' '  ' '  ' '  ' '  ' '   ' '  ' '     ' '  ' '  ' '  ' '  ' '  ' '  ' '\n",
       " ' '  ' '  ' '  ' '  ' '   ' '  ' '     ' '  ' '  ' '  ' '  ' '  ' '  ' '\n",
       " ' '  ' '  ' '  '/'  '-'   '-'  '-'     ' '  ' '  ' '  ' '  ' '  ' '  ' '\n",
       " ' '  ' '  ' '  '|'  ' '   ' '  ' '     ' '  ' '  ' '  ' '  ' '  ' '  ' '\n",
       " ' '  ' '  ' '  '|'  ' '   ' '  ' '  …  ' '  ' '  ' '  ' '  ' '  ' '  ' '\n",
       " ' '  ' '  ' '  '|'  ' '   ' '  ' '     ' '  ' '  ' '  ' '  ' '  ' '  ' '\n",
       " ' '  ' '  ' '  '|'  ' '   ' '  ' '     ' '  ' '  ' '  ' '  ' '  ' '  ' '\n",
       " ⋮                         ⋮         ⋱            ⋮                      \n",
       " ' '  ' '  ' '  ' '  '|'   ' '  ' '     '|'  ' '  '|'  '|'  ' '  '|'  '|'\n",
       " ' '  ' '  ' '  ' '  '|'   ' '  ' '     '/'  ' '  '|'  '|'  ' '  '|'  '|'\n",
       " ' '  ' '  ' '  ' '  '|'   ' '  ' '  …  ' '  ' '  '|'  '|'  ' '  '|'  '|'\n",
       " ' '  ' '  ' '  ' '  '|'   ' '  ' '     '-'  '-'  '/'  '|'  ' '  '|'  '|'\n",
       " ' '  ' '  ' '  ' '  '|'   ' '  ' '     ' '  ' '  ' '  '|'  ' '  '|'  '|'\n",
       " ' '  ' '  ' '  ' '  '|'   ' '  ' '     ' '  ' '  ' '  '|'  ' '  '|'  '|'\n",
       " ' '  ' '  ' '  ' '  '\\\\'  '-'  '-'     ' '  ' '  ' '  '|'  ' '  '|'  '|'\n",
       " ' '  ' '  ' '  ' '  ' '   ' '  ' '  …  ' '  ' '  ' '  '|'  ' '  '|'  '|'\n",
       " ' '  ' '  ' '  ' '  ' '   ' '  ' '     ' '  ' '  ' '  '|'  ' '  '|'  '|'\n",
       " ' '  ' '  ' '  ' '  ' '   ' '  ' '     '-'  '-'  '-'  '/'  ' '  '|'  '|'\n",
       " ' '  ' '  ' '  ' '  ' '   ' '  ' '     '-'  '-'  '-'  '-'  '-'  '+'  '/'\n",
       " ' '  ' '  ' '  ' '  ' '   ' '  ' '     '-'  '-'  '-'  '-'  '-'  '/'  ' '"
      ]
     },
     "execution_count": 41,
     "metadata": {},
     "output_type": "execute_result"
    }
   ],
   "source": [
    "function makeRepresentation(s)\n",
    "    lines = split(s, '\\n')\n",
    "    height = length(lines)\n",
    "    width = max(map(length, lines)...)\n",
    "    grid = Array{Any}(undef, height, width)\n",
    "    for (row, line) in enumerate(lines)\n",
    "        for (col, c) in enumerate(line)\n",
    "            if c == '^'\n",
    "                grid[row, col] = ('N', 'l', '|')\n",
    "            elseif c == 'v'\n",
    "                grid[row, col] = ('S', 'l', '|')\n",
    "            elseif c == '<'\n",
    "                grid[row, col] = ('W', 'l', '-')\n",
    "            elseif c == '>'\n",
    "                grid[row, col] = ('E', 'l', '-')\n",
    "            else\n",
    "                grid[row, col] = c\n",
    "            end\n",
    "        end\n",
    "    end\n",
    "    return grid\n",
    "end\n",
    "grid = makeRepresentation(inputString)"
   ]
  },
  {
   "cell_type": "code",
   "execution_count": 57,
   "metadata": {},
   "outputs": [
    {
     "data": {
      "text/plain": [
       "16-element Array{Any,1}:\n",
       " (20, 66)  \n",
       " (21, 108) \n",
       " (25, 105) \n",
       " (38, 147) \n",
       " (48, 28)  \n",
       " (56, 150) \n",
       " (63, 128) \n",
       " (66, 103) \n",
       " (67, 31)  \n",
       " (103, 56) \n",
       " (115, 37) \n",
       " (118, 100)\n",
       " (120, 100)\n",
       " (125, 32) \n",
       " (138, 106)\n",
       " (140, 126)"
      ]
     },
     "execution_count": 57,
     "metadata": {},
     "output_type": "execute_result"
    }
   ],
   "source": [
    "function getCartPositions(grid)\n",
    "    carts = []\n",
    "    for r in 1:size(grid, 1)\n",
    "        for c in 1:size(grid, 2)\n",
    "            ch = grid[r, c]\n",
    "            if typeof(ch) == Tuple{Char, Char, Char}\n",
    "                push!(carts, (r, c))\n",
    "            end\n",
    "        end\n",
    "    end\n",
    "    return carts\n",
    "end\n",
    "getCartPositions(grid)"
   ]
  },
  {
   "cell_type": "code",
   "execution_count": 35,
   "metadata": {},
   "outputs": [
    {
     "data": {
      "text/plain": [
       "getVectorForDirection (generic function with 1 method)"
      ]
     },
     "execution_count": 35,
     "metadata": {},
     "output_type": "execute_result"
    }
   ],
   "source": [
    "function getVectorForDirection(dir)\n",
    "    if dir == 'N'\n",
    "        return [-1, 0]\n",
    "    elseif dir == 'W'\n",
    "        return [0, -1]\n",
    "    elseif dir == 'S'\n",
    "        return [1, 0]\n",
    "    elseif dir == 'E'\n",
    "        return [0, 1]\n",
    "    end\n",
    "end"
   ]
  },
  {
   "cell_type": "code",
   "execution_count": 36,
   "metadata": {},
   "outputs": [
    {
     "data": {
      "text/plain": [
       "getNextDirection (generic function with 1 method)"
      ]
     },
     "execution_count": 36,
     "metadata": {},
     "output_type": "execute_result"
    }
   ],
   "source": [
    "function getNextDirection(cur, turn)\n",
    "    directions = ['N', 'E', 'S', 'W']\n",
    "    ind = findfirst(dir -> dir == cur, directions)\n",
    "    if turn == 'l'\n",
    "        ind = ind - 1\n",
    "        if ind < 1\n",
    "            ind += 4\n",
    "        end\n",
    "        return directions[ind]\n",
    "    elseif turn == 's'\n",
    "        return cur\n",
    "    elseif turn == 'r'\n",
    "        ind = ind + 1\n",
    "        if ind > 4\n",
    "            ind -= 4\n",
    "        end\n",
    "        return directions[ind]\n",
    "    end\n",
    "    return ' '\n",
    "end\n"
   ]
  },
  {
   "cell_type": "code",
   "execution_count": 37,
   "metadata": {},
   "outputs": [
    {
     "data": {
      "text/plain": [
       "'s': ASCII/Unicode U+0073 (category Ll: Letter, lowercase)"
      ]
     },
     "execution_count": 37,
     "metadata": {},
     "output_type": "execute_result"
    }
   ],
   "source": [
    "function getNextTurn(cur)\n",
    "    if cur == 'l'\n",
    "        return 's'\n",
    "    elseif cur == 's'\n",
    "        return 'r'\n",
    "    elseif cur == 'r'\n",
    "        return 'l'\n",
    "    end\n",
    "    return ' '\n",
    "end\n",
    "getNextTurn('l')"
   ]
  },
  {
   "cell_type": "code",
   "execution_count": 38,
   "metadata": {},
   "outputs": [
    {
     "data": {
      "text/plain": [
       "getNewCornerDirection (generic function with 1 method)"
      ]
     },
     "execution_count": 38,
     "metadata": {},
     "output_type": "execute_result"
    }
   ],
   "source": [
    "function getNewCornerDirection(d, corner)\n",
    "    if corner == '\\\\'\n",
    "        if d == 'N'\n",
    "            return 'W'\n",
    "        elseif d == 'W'\n",
    "            return 'N'\n",
    "        elseif d == 'S'\n",
    "            return 'E'\n",
    "        elseif d == 'E'\n",
    "            return 'S'\n",
    "        end\n",
    "    elseif corner == '/'\n",
    "        if d == 'N'\n",
    "            return 'E'\n",
    "        elseif d == 'E'\n",
    "            return 'N'\n",
    "        elseif d == 'S'\n",
    "            return 'W'\n",
    "        elseif d == 'W'\n",
    "            return 'S'\n",
    "        end\n",
    "    end\n",
    "end"
   ]
  },
  {
   "cell_type": "code",
   "execution_count": 79,
   "metadata": {},
   "outputs": [
    {
     "data": {
      "text/plain": [
       "moveCart (generic function with 1 method)"
      ]
     },
     "execution_count": 79,
     "metadata": {},
     "output_type": "execute_result"
    }
   ],
   "source": [
    "function moveCart(row, col, grid)\n",
    "    if typeof(grid[row, col]) != Tuple{Char, Char, Char}\n",
    "        return false\n",
    "    end\n",
    "    dir, turn, under = grid[row, col]\n",
    "    loc = [row, col]\n",
    "    vec = getVectorForDirection(dir)\n",
    "    oldLoc = loc\n",
    "    loc = loc + vec\n",
    "    \n",
    "    # Restore the square we moved from\n",
    "    grid[row, col] = under\n",
    "    \n",
    "    row, col = loc\n",
    "\n",
    "    newSquare = grid[row, col]\n",
    "    if newSquare == '|' || newSquare == '-'\n",
    "        grid[row, col] = (dir, turn, newSquare)\n",
    "    elseif newSquare == '+'\n",
    "        dir = getNextDirection(dir, turn)\n",
    "        turn = getNextTurn(turn)\n",
    "        grid[row, col] = (dir, turn, newSquare)\n",
    "    elseif newSquare == '/' || newSquare == '\\\\'\n",
    "        dir = getNewCornerDirection(dir, newSquare)\n",
    "        grid[row, col] = (dir, turn, newSquare)\n",
    "    elseif typeof(newSquare) == Tuple{Char, Char, Char}\n",
    "        grid[row, col] = grid[row, col][3]\n",
    "        # We collided!\n",
    "        x = col - 1\n",
    "        y = row - 1\n",
    "        println(\"collided at $x,$y\")\n",
    "        flush(stdout)\n",
    "        return true\n",
    "    end\n",
    "    return false\n",
    "end"
   ]
  },
  {
   "cell_type": "code",
   "execution_count": 80,
   "metadata": {},
   "outputs": [
    {
     "name": "stdout",
     "output_type": "stream",
     "text": [
      "collided at 57,104\n"
     ]
    }
   ],
   "source": [
    "function solveDay13Part1()\n",
    "    s = getInputString()\n",
    "    grid = makeRepresentation(s)\n",
    "    collided = false\n",
    "    row, col = 1, 1\n",
    "    while !collided\n",
    "        cartPositions = getCartPositions(grid)\n",
    "        for (row, col) in cartPositions\n",
    "            if moveCart(row, col, grid)\n",
    "                collided = true\n",
    "                break\n",
    "            end\n",
    "        end\n",
    "    end\n",
    "end\n",
    "solveDay13Part1()"
   ]
  },
  {
   "cell_type": "markdown",
   "metadata": {},
   "source": [
    "## Part Two\n",
    "\n",
    "There isn't much you can do to prevent crashes in this ridiculous system. However, by predicting the crashes, the Elves know where to be in advance and instantly remove the two crashing carts the moment any crash occurs.\n",
    "\n",
    "They can proceed like this for a while, but eventually, they're going to run out of carts. It could be useful to figure out where the last cart that hasn't crashed will end up.\n",
    "\n",
    "For example:\n",
    "\n",
    "```\n",
    "/>-<\\  \n",
    "|   |  \n",
    "| /<+-\\\n",
    "| | | v\n",
    "\\>+</ |\n",
    "  |   ^\n",
    "  \\<->/\n",
    "```\n",
    "```\n",
    "/---\\  \n",
    "|   |  \n",
    "| v-+-\\\n",
    "| | | |\n",
    "\\-+-/ |\n",
    "  |   |\n",
    "  ^---^\n",
    "```\n",
    "```\n",
    "/---\\  \n",
    "|   |  \n",
    "| /-+-\\\n",
    "| v | |\n",
    "\\-+-/ |\n",
    "  ^   ^\n",
    "  \\---/\n",
    "```\n",
    "```\n",
    "/---\\  \n",
    "|   |  \n",
    "| /-+-\\\n",
    "| | | |\n",
    "\\-+-/ ^\n",
    "  |   |\n",
    "  \\---/\n",
    "```\n",
    "After four very expensive crashes, a tick ends with only one cart remaining; its final location is `6,4`.\n",
    "\n",
    "What is the location of the last cart at the end of the first tick where it is the only cart left?"
   ]
  },
  {
   "cell_type": "code",
   "execution_count": 83,
   "metadata": {},
   "outputs": [
    {
     "name": "stdout",
     "output_type": "stream",
     "text": [
      "collided at 57,104\n",
      "collided at 113,128\n",
      "collided at 7,57\n",
      "collided at 112,57\n",
      "collided at 78,42\n",
      "collided at 81,131\n",
      "collided at 41,97\n",
      "collided at 110,20\n",
      "Cart ends at 67,74"
     ]
    }
   ],
   "source": [
    "function solveDay13Part2()\n",
    "    s = getInputString()\n",
    "    grid = makeRepresentation(s)\n",
    "    row, col = 1, 1\n",
    "    cartPositions = getCartPositions(grid)\n",
    "    while length(cartPositions) > 1\n",
    "        for (row, col) in cartPositions\n",
    "            for (row, col) in cartPositions\n",
    "                moveCart(row, col, grid)\n",
    "            end\n",
    "        end\n",
    "        cartPositions = getCartPositions(grid)\n",
    "    end\n",
    "    row, col = cartPositions[1]\n",
    "    x = col - 1\n",
    "    y = row - 1\n",
    "    print(\"Cart ends at $x,$y\")\n",
    "end\n",
    "solveDay13Part2()"
   ]
  }
 ],
 "metadata": {
  "kernelspec": {
   "display_name": "Julia 1.0.2",
   "language": "julia",
   "name": "julia-1.0"
  },
  "language_info": {
   "file_extension": ".jl",
   "mimetype": "application/julia",
   "name": "julia",
   "version": "1.0.2"
  }
 },
 "nbformat": 4,
 "nbformat_minor": 2
}
