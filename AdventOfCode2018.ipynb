{
 "cells": [
  {
   "cell_type": "markdown",
   "metadata": {},
   "source": [
    "# Day 0\n",
    "\n",
    "Import commonly used modules."
   ]
  },
  {
   "cell_type": "code",
   "execution_count": 1,
   "metadata": {},
   "outputs": [],
   "source": [
    "using DelimitedFiles\n",
    "using Base.Iterators\n",
    "using Combinatorics"
   ]
  },
  {
   "cell_type": "markdown",
   "metadata": {},
   "source": [
    "# Day 1\n",
    "\n",
    "## Part 1\n",
    "\n",
    "After feeling like you've been falling for a few minutes, you look at the device's tiny screen. \"Error: Device must be calibrated before first use. Frequency drift detected. Cannot maintain destination lock.\" Below the message, the device shows a sequence of changes in frequency (your puzzle input). A value like +6 means the current frequency increases by 6; a value like -3 means the current frequency decreases by 3.\n",
    "\n",
    "For example, if the device displays frequency changes of +1, -2, +3, +1, then starting from a frequency of zero, the following changes would occur:\n",
    "\n",
    "Current frequency  0, change of +1; resulting frequency  1.\n",
    "Current frequency  1, change of -2; resulting frequency -1.\n",
    "Current frequency -1, change of +3; resulting frequency  2.\n",
    "Current frequency  2, change of +1; resulting frequency  3.\n",
    "In this example, the resulting frequency is 3.\n",
    "\n",
    "Here are other example situations:\n",
    "\n",
    "+1, +1, +1 results in  3\n",
    "+1, +1, -2 results in  0\n",
    "-1, -2, -3 results in -6\n",
    "Starting with a frequency of zero, what is the resulting frequency after all of the changes in frequency have been applied?\n",
    "\n",
    "Inputs saved in day1/input1.txt"
   ]
  },
  {
   "cell_type": "code",
   "execution_count": 2,
   "metadata": {},
   "outputs": [
    {
     "name": "stdout",
     "output_type": "stream",
     "text": [
      "Final resulting frequency: 595"
     ]
    }
   ],
   "source": [
    "open(\"day1input.txt\") do f\n",
    "    global d1inputs = readdlm(f, Int64)\n",
    "end\n",
    "\n",
    "pos = sum(d1inputs)\n",
    "print(\"Final resulting frequency: $pos\")"
   ]
  },
  {
   "cell_type": "markdown",
   "metadata": {},
   "source": [
    "## Part Two\n",
    "\n",
    "You notice that the device repeats the same frequency change list over and over. To calibrate the device, you need to find the first frequency it reaches twice.\n",
    "\n",
    "For example, using the same list of changes above, the device would loop as follows:\n",
    "\n",
    "Current frequency  0, change of +1; resulting frequency  1.\n",
    "Current frequency  1, change of -2; resulting frequency -1.\n",
    "Current frequency -1, change of +3; resulting frequency  2.\n",
    "Current frequency  2, change of +1; resulting frequency  3.\n",
    "(At this point, the device continues from the start of the list.)\n",
    "Current frequency  3, change of +1; resulting frequency  4.\n",
    "Current frequency  4, change of -2; resulting frequency  2, which has already been seen.\n",
    "In this example, the first frequency reached twice is 2. Note that your device might need to repeat its list of frequency changes many times before a duplicate frequency is found, and that duplicates might be found while in the middle of processing the list.\n",
    "\n",
    "Here are other examples:\n",
    "\n",
    "+1, -1 first reaches 0 twice.\n",
    "+3, +3, +4, -2, -4 first reaches 10 twice.\n",
    "-6, +3, +8, +5, -6 first reaches 5 twice.\n",
    "+7, +7, -2, -7, -4 first reaches 14 twice.\n",
    "\n",
    "What is the first frequency your device reaches twice?"
   ]
  },
  {
   "cell_type": "code",
   "execution_count": 3,
   "metadata": {
    "scrolled": true
   },
   "outputs": [
    {
     "name": "stdout",
     "output_type": "stream",
     "text": [
      "First frequency reached twice is: 80598"
     ]
    }
   ],
   "source": [
    "using Base.Iterators\n",
    "\n",
    "visited = Set{Int64}()\n",
    "pos = 0\n",
    "push!(visited, pos)\n",
    "\n",
    "for input in cycle(d1inputs)\n",
    "    pos += input\n",
    "    if in(pos, visited)\n",
    "        break\n",
    "    end\n",
    "    push!(visited, pos)\n",
    "end\n",
    "\n",
    "print(\"First frequency reached twice is: $pos\")"
   ]
  },
  {
   "cell_type": "markdown",
   "metadata": {},
   "source": [
    "# Day 2: Inventory Management System\n",
    "\n",
    "You stop falling through time, catch your breath, and check the screen on the device. \"Destination reached. Current Year: 1518. Current Location: North Pole Utility Closet 83N10.\" You made it! Now, to find those anomalies.\n",
    "\n",
    "Outside the utility closet, you hear footsteps and a voice. \"...I'm not sure either. But now that so many people have chimneys, maybe he could sneak in that way?\" Another voice responds, \"Actually, we've been working on a new kind of suit that would let him fit through tight spaces like that. But, I heard that a few days ago, they lost the prototype fabric, the design plans, everything! Nobody on the team can even seem to remember important details of the project!\"\n",
    "\n",
    "\"Wouldn't they have had enough fabric to fill several boxes in the warehouse? They'd be stored together, so the box IDs should be similar. Too bad it would take forever to search the warehouse for two similar box IDs...\" They walk too far away to hear any more.\n",
    "\n",
    "Late at night, you sneak to the warehouse - who knows what kinds of paradoxes you could cause if you were discovered - and use your fancy wrist device to quickly scan every box and produce a list of the likely candidates (your puzzle input).\n",
    "\n",
    "To make sure you didn't miss any, you scan the likely candidate boxes again, counting the number that have an ID containing exactly two of any letter and then separately counting those with exactly three of any letter. You can multiply those two counts together to get a rudimentary checksum and compare it to what your device predicts.\n",
    "\n",
    "For example, if you see the following box IDs:\n",
    "\n",
    "- `abcdef` contains no letters that appear exactly two or three times.\n",
    "- `bababc` contains two a and three b, so it counts for both.\n",
    "- `abbcde` contains two b, but no letter appears exactly three times.\n",
    "- `abcccd` contains three c, but no letter appears exactly two times.\n",
    "- `aabcdd` contains two a and two d, but it only counts once.\n",
    "- `abcdee` contains two e.\n",
    "- `ababab` contains three a and three b, but it only counts once.\n",
    "\n",
    "Of these box IDs, four of them contain a letter which appears exactly twice, and three of them contain a letter which appears exactly three times. Multiplying these together produces a checksum of 4 * 3 = 12.\n",
    "\n",
    "What is the checksum for your list of box IDs?"
   ]
  },
  {
   "cell_type": "code",
   "execution_count": 4,
   "metadata": {},
   "outputs": [],
   "source": [
    "function getLetterCounts(s)\n",
    "    counts = Dict()\n",
    "    for c in s\n",
    "        counts[c] = get(counts, c, 0) + 1\n",
    "    end\n",
    "    return counts\n",
    "end\n",
    "\n",
    "# Example function input (remove ';' to show output)\n",
    "getLetterCounts(\"bababc\");"
   ]
  },
  {
   "cell_type": "code",
   "execution_count": 5,
   "metadata": {},
   "outputs": [],
   "source": [
    "function numCodesWithNRepeats(n, inputs)\n",
    "    letters = Char[]\n",
    "    num = 0\n",
    "    for code in inputs\n",
    "        counts = getLetterCounts(code)\n",
    "        if n in values(counts)\n",
    "            num +=1\n",
    "        end\n",
    "    end\n",
    "    return num\n",
    "end\n",
    "\n",
    "# Example function input (remove ';' to show output)\n",
    "numCodesWithNRepeats(2, [\"abbcde\", \"bababc\", \"abcdef\"]);"
   ]
  },
  {
   "cell_type": "code",
   "execution_count": 6,
   "metadata": {},
   "outputs": [
    {
     "data": {
      "text/plain": [
       "6370"
      ]
     },
     "execution_count": 6,
     "metadata": {},
     "output_type": "execute_result"
    }
   ],
   "source": [
    "open(\"day2input.txt\") do f\n",
    "    global d2inputs = readdlm(f, String)\n",
    "end\n",
    "\n",
    "function checksum(inputs)\n",
    "    repeat2 = numCodesWithNRepeats(2, inputs)\n",
    "    repeat3 = numCodesWithNRepeats(3, inputs)\n",
    "    return repeat2 * repeat3\n",
    "end\n",
    "\n",
    "checksum(d2inputs)"
   ]
  },
  {
   "cell_type": "markdown",
   "metadata": {},
   "source": [
    "## Part Two\n",
    "\n",
    "Confident that your list of box IDs is complete, you're ready to find the boxes full of prototype fabric.\n",
    "\n",
    "The boxes will have IDs which differ by exactly one character at the same position in both strings. For example, given the following box IDs:\n",
    "\n",
    "abcde\n",
    "fghij\n",
    "klmno\n",
    "pqrst\n",
    "fguij\n",
    "axcye\n",
    "wvxyz\n",
    "The IDs abcde and axcye are close, but they differ by two characters (the second and fourth). However, the IDs fghij and fguij differ by exactly one character, the third (h and u). Those must be the correct boxes.\n",
    "\n",
    "What letters are common between the two correct box IDs? (In the example above, this is found by removing the differing character from either ID, producing fgij.)"
   ]
  },
  {
   "cell_type": "code",
   "execution_count": 7,
   "metadata": {},
   "outputs": [],
   "source": [
    "function numChanges(a, b)\n",
    "    n = 0\n",
    "    for (c1, c2) in zip(a, b)\n",
    "        if c1 != c2\n",
    "            n +=1\n",
    "        end\n",
    "    end\n",
    "    return n\n",
    "end\n",
    "\n",
    "numChanges(\"fghij\", \"fguij\");"
   ]
  },
  {
   "cell_type": "code",
   "execution_count": 8,
   "metadata": {},
   "outputs": [],
   "source": [
    "function pairsWithOneChange(inputs)\n",
    "    pairs = []\n",
    "    for (s1, s2) in combinations(inputs, 2)\n",
    "        if numChanges(s1, s2) == 1\n",
    "            push!(pairs, (s1, s2))\n",
    "        end\n",
    "    end\n",
    "    return pairs\n",
    "end\n",
    "\n",
    "pairsWithOneChange([\"abc\", \"acd\", \"adc\", \"aec\"]);"
   ]
  },
  {
   "cell_type": "code",
   "execution_count": 9,
   "metadata": {},
   "outputs": [],
   "source": [
    "function commonLetters(s1, s2)\n",
    "    output = []\n",
    "    for (c1, c2) in zip(s1, s2)\n",
    "        if c1 == c2\n",
    "            push!(output, c1)\n",
    "        end\n",
    "    end\n",
    "    return join(output)\n",
    "end\n",
    "\n",
    "commonLetters(\"123456789\", \"123356789\");"
   ]
  },
  {
   "cell_type": "code",
   "execution_count": 10,
   "metadata": {},
   "outputs": [
    {
     "data": {
      "text/plain": [
       "\"rmyxgdlihczskunpfijqcebtv\""
      ]
     },
     "execution_count": 10,
     "metadata": {},
     "output_type": "execute_result"
    }
   ],
   "source": [
    "function commonOfCorrect(inputs)\n",
    "    oneChange = pairsWithOneChange(inputs)\n",
    "    commonLetters(oneChange[1]...)\n",
    "end\n",
    "\n",
    "commonOfCorrect(d2inputs)"
   ]
  },
  {
   "cell_type": "markdown",
   "metadata": {},
   "source": [
    "# Day 3: No Matter How You Slice It\n",
    "\n",
    "The Elves managed to locate the chimney-squeeze prototype fabric for Santa's suit (thanks to someone who helpfully wrote its box IDs on the wall of the warehouse in the middle of the night). Unfortunately, anomalies are still affecting them - nobody can even agree on how to cut the fabric.\n",
    "\n",
    "The whole piece of fabric they're working on is a very large square - at least 1000 inches on each side.\n",
    "\n",
    "Each Elf has made a claim about which area of fabric would be ideal for Santa's suit. All claims have an ID and consist of a single rectangle with edges parallel to the edges of the fabric. Each claim's rectangle is defined as follows:\n",
    "\n",
    "The number of inches between the left edge of the fabric and the left edge of the rectangle.\n",
    "The number of inches between the top edge of the fabric and the top edge of the rectangle.\n",
    "The width of the rectangle in inches.\n",
    "The height of the rectangle in inches.\n",
    "A claim like `#123 @ 3,2: 5x4` means that claim ID 123 specifies a rectangle 3 inches from the left edge, 2 inches from the top edge, 5 inches wide, and 4 inches tall. Visually, it claims the square inches of fabric represented by # (and ignores the square inches of fabric represented by .) in the diagram below:\n",
    "\n",
    "```...........\n",
    "...........\n",
    "...#####...\n",
    "...#####...\n",
    "...#####...\n",
    "...#####...\n",
    "...........\n",
    "...........\n",
    "...........```\n",
    "\n",
    "The problem is that many of the claims overlap, causing two or more claims to cover part of the same areas. For example, consider the following claims:\n",
    "\n",
    "`#1 @ 1,3: 4x4`\n",
    "\n",
    "`#2 @ 3,1: 4x4`\n",
    "\n",
    "`#3 @ 5,5: 2x2`\n",
    "\n",
    "Visually, these claim the following areas:\n",
    "\n",
    "```........\n",
    "...2222.\n",
    "...2222.\n",
    ".11XX22.\n",
    ".11XX22.\n",
    ".111133.\n",
    ".111133.\n",
    "........```\n",
    "\n",
    "The four square inches marked with X are claimed by both 1 and 2. (Claim 3, while adjacent to the others, does not overlap either of them.)\n",
    "\n",
    "If the Elves all proceed with their own plans, none of them will have enough fabric. How many square inches of fabric are within two or more claims?"
   ]
  },
  {
   "cell_type": "code",
   "execution_count": 11,
   "metadata": {},
   "outputs": [
    {
     "data": {
      "text/plain": [
       "parseClaim (generic function with 1 method)"
      ]
     },
     "execution_count": 11,
     "metadata": {},
     "output_type": "execute_result"
    }
   ],
   "source": [
    "function parseClaim(s)\n",
    "    split(s, r\"[^0-9]\") |>\n",
    "    parts -> filter(!isempty, parts) |>\n",
    "    nums -> map(n -> parse(Int64, n), nums)\n",
    "end"
   ]
  },
  {
   "cell_type": "code",
   "execution_count": 12,
   "metadata": {},
   "outputs": [
    {
     "ename": "UndefVarError",
     "evalue": "UndefVarError: getAffectedSquares not defined",
     "output_type": "error",
     "traceback": [
      "UndefVarError: getAffectedSquares not defined",
      "",
      "Stacktrace:",
      " [1] top-level scope at In[12]:4"
     ]
    }
   ],
   "source": [
    "function getAffectedSquaresIterator(_, x, y, w, h)\n",
    "    Iterators.product(x:x+w-1, y:y+h-1)\n",
    "end\n",
    "getAffectedSquares(parseClaim(\"#1 @ 1,3: 4x4\")...)"
   ]
  },
  {
   "cell_type": "code",
   "execution_count": 13,
   "metadata": {
    "scrolled": true
   },
   "outputs": [],
   "source": [
    "function getInput()\n",
    "    open(\"day3input.txt\") do f\n",
    "        readlines(f) |>\n",
    "        collect |>\n",
    "        lines -> map(line -> parseClaim(line), lines)\n",
    "    end\n",
    "end;"
   ]
  },
  {
   "cell_type": "code",
   "execution_count": 14,
   "metadata": {},
   "outputs": [
    {
     "data": {
      "text/plain": [
       "Dict{Any,Any} with 16 entries:\n",
       "  (4, 3) => 1\n",
       "  (1, 6) => 1\n",
       "  (3, 6) => 1\n",
       "  (2, 3) => 1\n",
       "  (2, 6) => 1\n",
       "  (4, 4) => 1\n",
       "  (4, 6) => 1\n",
       "  (2, 5) => 1\n",
       "  (1, 4) => 1\n",
       "  (3, 3) => 1\n",
       "  (1, 3) => 1\n",
       "  (4, 5) => 1\n",
       "  (2, 4) => 1\n",
       "  (1, 5) => 1\n",
       "  (3, 5) => 1\n",
       "  (3, 4) => 1"
      ]
     },
     "execution_count": 14,
     "metadata": {},
     "output_type": "execute_result"
    }
   ],
   "source": [
    "function addPointToDict!(dict, xy)\n",
    "    dict[(xy[1], xy[2])] = get(dict, (xy[1], xy[2]), 0) + 1\n",
    "end\n",
    "\n",
    "function addClaimToDict!(dict, claim)\n",
    "    getAffectedSquaresIterator(claim...) |>\n",
    "    iter -> foreach(xy -> addPointToDict!(dict, xy), iter)\n",
    "end\n",
    "dict = Dict()\n",
    "addClaimToDict!(dict, (1, 1, 3, 4, 4))\n",
    "dict"
   ]
  },
  {
   "cell_type": "code",
   "execution_count": 15,
   "metadata": {},
   "outputs": [
    {
     "name": "stdout",
     "output_type": "stream",
     "text": [
      "There are 101469 square inches of overlap."
     ]
    }
   ],
   "source": [
    "function part1()\n",
    "    claims = getInput()\n",
    "    coverage = Dict()\n",
    "    for claim in claims\n",
    "        addClaimToDict!(coverage, claim)\n",
    "    end\n",
    "    overlaps = 0\n",
    "    for (k, v) in coverage\n",
    "        if v > 1\n",
    "            overlaps += 1\n",
    "        end\n",
    "    end\n",
    "    return overlaps\n",
    "end\n",
    "print(\"There are \" * string(part1()) * \" square inches of overlap.\")"
   ]
  },
  {
   "cell_type": "code",
   "execution_count": 16,
   "metadata": {},
   "outputs": [
    {
     "ename": "UndefVarError",
     "evalue": "UndefVarError: getAffectedSquares not defined",
     "output_type": "error",
     "traceback": [
      "UndefVarError: getAffectedSquares not defined",
      "",
      "Stacktrace:",
      " [1] noOverlappingSquares(::Dict{Any,Any}, ::Array{Int64,1}) at ./In[16]:2",
      " [2] #23 at ./In[16]:18 [inlined]",
      " [3] mapfilter(::getfield(Main, Symbol(\"##23#24\")){Dict{Any,Any}}, ::typeof(push!), ::Array{Array{Int64,1},1}, ::Array{Array{Int64,1},1}) at ./abstractset.jl:336",
      " [4] filter at ./array.jl:2352 [inlined]",
      " [5] part2() at ./In[16]:18",
      " [6] top-level scope at In[16]:20"
     ]
    }
   ],
   "source": [
    "function noOverlappingSquares(dict, claim)\n",
    "    affectedSquares = getAffectedSquares(claim...)\n",
    "    for square in affectedSquares\n",
    "        if dict[square] > 1\n",
    "            return false\n",
    "        end\n",
    "    end\n",
    "    return true\n",
    "end\n",
    "        \n",
    "function part2()\n",
    "    claims = getInput()\n",
    "    overlappingSquareDict = Dict()\n",
    "    for claim in claims\n",
    "        addClaimToDict!(overlappingSquareDict, claim)\n",
    "    end\n",
    "    \n",
    "    filter(claim -> noOverlappingSquares(overlappingSquareDict, claim), claims)[1][1]\n",
    "end\n",
    "print(\"Claim #\" * string(part2()) * \" has no overlapping squares.\")"
   ]
  },
  {
   "cell_type": "markdown",
   "metadata": {},
   "source": [
    "# Day 4: Repose Record\n",
    "\n",
    "You've sneaked into another supply closet - this time, it's across from the prototype suit manufacturing lab. You need to sneak inside and fix the issues with the suit, but there's a guard stationed outside the lab, so this is as close as you can safely get.\n",
    "\n",
    "As you search the closet for anything that might help, you discover that you're not the first person to want to sneak in. Covering the walls, someone has spent an hour starting every midnight for the past few months secretly observing this guard post! They've been writing down the ID of the one guard on duty that night - the Elves seem to have decided that one guard was enough for the overnight shift - as well as when they fall asleep or wake up while at their post (your puzzle input).\n",
    "\n",
    "For example, consider the following records, which have already been organized into chronological order:\n",
    "\n",
    "```\n",
    "[1518-11-01 00:00] Guard #10 begins shift\n",
    "[1518-11-01 00:05] falls asleep\n",
    "[1518-11-01 00:25] wakes up\n",
    "[1518-11-01 00:30] falls asleep\n",
    "[1518-11-01 00:55] wakes up\n",
    "[1518-11-01 23:58] Guard #99 begins shift\n",
    "[1518-11-02 00:40] falls asleep\n",
    "[1518-11-02 00:50] wakes up\n",
    "[1518-11-03 00:05] Guard #10 begins shift\n",
    "[1518-11-03 00:24] falls asleep\n",
    "[1518-11-03 00:29] wakes up\n",
    "[1518-11-04 00:02] Guard #99 begins shift\n",
    "[1518-11-04 00:36] falls asleep\n",
    "[1518-11-04 00:46] wakes up\n",
    "[1518-11-05 00:03] Guard #99 begins shift\n",
    "[1518-11-05 00:45] falls asleep\n",
    "[1518-11-05 00:55] wakes up\n",
    "```\n",
    "\n",
    "Timestamps are written using year-month-day hour:minute format. The guard falling asleep or waking up is always the one whose shift most recently started. Because all asleep/awake times are during the midnight hour (00:00 - 00:59), only the minute portion (00 - 59) is relevant for those events.\n",
    "\n",
    "Visually, these records show that the guards are asleep at these times:\n",
    "\n",
    "```\n",
    "Date   ID   Minute\n",
    "            000000000011111111112222222222333333333344444444445555555555\n",
    "            012345678901234567890123456789012345678901234567890123456789\n",
    "11-01  #10  .....####################.....#########################.....\n",
    "11-02  #99  ........................................##########..........\n",
    "11-03  #10  ........................#####...............................\n",
    "11-04  #99  ....................................##########..............\n",
    "11-05  #99  .............................................##########.....\n",
    "```\n",
    "\n",
    "The columns are Date, which shows the month-day portion of the relevant day; ID, which shows the guard on duty that day; and Minute, which shows the minutes during which the guard was asleep within the midnight hour. (The Minute column's header shows the minute's ten's digit in the first row and the one's digit in the second row.) Awake is shown as ., and asleep is shown as #.\n",
    "\n",
    "Note that guards count as asleep on the minute they fall asleep, and they count as awake on the minute they wake up. For example, because Guard #10 wakes up at 00:25 on 1518-11-01, minute 25 is marked as awake.\n",
    "\n",
    "If you can figure out the guard most likely to be asleep at a specific time, you might be able to trick that guard into working tonight so you can have the best chance of sneaking in. You have two strategies for choosing the best guard/minute combination.\n",
    "\n",
    "Strategy 1: Find the guard that has the most minutes asleep. What minute does that guard spend asleep the most?\n",
    "\n",
    "In the example above, Guard #10 spent the most minutes asleep, a total of 50 minutes (20+25+5), while Guard #99 only slept for a total of 30 minutes (10+10+10). Guard #10 was asleep most during minute 24 (on two days, whereas any other minute the guard was asleep was only seen on one day).\n",
    "\n",
    "While this example listed the entries in chronological order, your entries are in the order you found them. You'll need to organize them before they can be analyzed.\n",
    "\n",
    "What is the ID of the guard you chose multiplied by the minute you chose? (In the above example, the answer would be 10 * 24 = 240.)"
   ]
  },
  {
   "cell_type": "code",
   "execution_count": 17,
   "metadata": {},
   "outputs": [],
   "source": [
    "function getSortedInput()\n",
    "    inputs = Array{String}(undef, 0)\n",
    "    open(\"day4input.txt\") do f\n",
    "        for line in eachline(f)\n",
    "            push!(inputs, string(line))\n",
    "        end\n",
    "    end\n",
    "    return sort(inputs)\n",
    "end;\n",
    "getSortedInput();"
   ]
  },
  {
   "cell_type": "code",
   "execution_count": 18,
   "metadata": {},
   "outputs": [
    {
     "data": {
      "text/plain": [
       "50"
      ]
     },
     "execution_count": 18,
     "metadata": {},
     "output_type": "execute_result"
    }
   ],
   "source": [
    "function extractMinute(line)\n",
    "    return parse(Int64, line[16:17])\n",
    "end\n",
    "\n",
    "function extractGuardId(lines)\n",
    "    split(lines[1])[4][2:end]\n",
    "end\n",
    "\n",
    "extractMinute(\"[1518-11-21 23:50] Guard #2953 begins shift\")\n",
    "# extractGuardId([\"[1518-11-21 23:50] Guard #2953 begins shift\"])"
   ]
  },
  {
   "cell_type": "code",
   "execution_count": 19,
   "metadata": {},
   "outputs": [
    {
     "data": {
      "text/plain": [
       "23-element Array{Any,1}:\n",
       " Any[\"[1518-10-31 00:00] Guard #683 begins shift\"]                                                                                                                                                                                                                                                                                                                                                                                                                                                                                                                                                                                                                                                                                                                             \n",
       " Any[\"[1518-03-27 00:01] Guard #647 begins shift\", \"[1518-03-27 00:08] falls asleep\", \"[1518-03-27 00:12] wakes up\", \"[1518-03-27 00:22] falls asleep\", \"[1518-03-27 00:35] wakes up\", \"[1518-04-22 00:00] Guard #647 begins shift\", \"[1518-04-22 00:52] falls asleep\", \"[1518-04-22 00:54] wakes up\", \"[1518-04-27 00:04] Guard #647 begins shift\", \"[1518-04-27 00:13] falls asleep\"  …  \"[1518-09-28 00:43] falls asleep\", \"[1518-09-28 00:49] wakes up\", \"[1518-09-28 00:52] falls asleep\", \"[1518-09-28 00:55] wakes up\", \"[1518-10-14 00:02] Guard #647 begins shift\", \"[1518-10-14 00:46] falls asleep\", \"[1518-10-14 00:51] wakes up\", \"[1518-10-18 23:59] Guard #647 begins shift\", \"[1518-10-19 00:06] falls asleep\", \"[1518-10-19 00:53] wakes up\"]                 \n",
       " Any[\"[1518-04-03 00:00] Guard #659 begins shift\", \"[1518-04-03 00:26] falls asleep\", \"[1518-04-03 00:38] wakes up\", \"[1518-04-20 00:01] Guard #659 begins shift\", \"[1518-04-20 00:11] falls asleep\", \"[1518-04-20 00:42] wakes up\", \"[1518-04-20 00:45] falls asleep\", \"[1518-04-20 00:58] wakes up\", \"[1518-05-01 00:04] Guard #659 begins shift\", \"[1518-05-01 00:13] falls asleep\"  …  \"[1518-09-26 00:00] falls asleep\", \"[1518-09-26 00:32] wakes up\", \"[1518-10-02 00:02] Guard #659 begins shift\", \"[1518-10-02 00:23] falls asleep\", \"[1518-10-02 00:25] wakes up\", \"[1518-10-02 00:30] falls asleep\", \"[1518-10-02 00:44] wakes up\", \"[1518-10-23 23:49] Guard #659 begins shift\", \"[1518-10-24 00:02] falls asleep\", \"[1518-10-24 00:33] wakes up\"]                 \n",
       " Any[\"[1518-04-14 23:59] Guard #2039 begins shift\", \"[1518-04-15 00:08] falls asleep\", \"[1518-04-15 00:11] wakes up\", \"[1518-04-15 00:37] falls asleep\", \"[1518-04-15 00:49] wakes up\", \"[1518-05-12 00:04] Guard #2039 begins shift\", \"[1518-05-12 00:11] falls asleep\", \"[1518-05-12 00:47] wakes up\", \"[1518-05-28 23:54] Guard #2039 begins shift\", \"[1518-05-29 00:04] falls asleep\"  …  \"[1518-09-05 00:48] wakes up\", \"[1518-09-20 23:59] Guard #2039 begins shift\", \"[1518-09-21 00:11] falls asleep\", \"[1518-09-21 00:49] wakes up\", \"[1518-10-08 00:01] Guard #2039 begins shift\", \"[1518-10-08 00:39] falls asleep\", \"[1518-10-08 00:48] wakes up\", \"[1518-11-16 00:00] Guard #2039 begins shift\", \"[1518-11-16 00:36] falls asleep\", \"[1518-11-16 00:55] wakes up\"]\n",
       " Any[\"[1518-04-30 00:03] Guard #401 begins shift\", \"[1518-04-30 00:15] falls asleep\", \"[1518-04-30 00:20] wakes up\", \"[1518-05-02 23:56] Guard #401 begins shift\", \"[1518-05-03 00:08] falls asleep\", \"[1518-05-03 00:35] wakes up\", \"[1518-05-03 00:54] falls asleep\", \"[1518-05-03 00:57] wakes up\", \"[1518-07-14 23:59] Guard #401 begins shift\", \"[1518-07-15 00:31] falls asleep\"  …  \"[1518-09-12 00:01] Guard #401 begins shift\", \"[1518-09-12 00:08] falls asleep\", \"[1518-09-12 00:38] wakes up\", \"[1518-09-12 00:45] falls asleep\", \"[1518-09-12 00:48] wakes up\", \"[1518-09-28 23:53] Guard #401 begins shift\", \"[1518-09-29 00:05] falls asleep\", \"[1518-09-29 00:14] wakes up\", \"[1518-09-29 00:18] falls asleep\", \"[1518-09-29 00:44] wakes up\"]                 \n",
       " Any[\"[1518-03-22 00:00] Guard #503 begins shift\", \"[1518-03-22 00:17] falls asleep\", \"[1518-03-22 00:36] wakes up\", \"[1518-04-08 00:02] Guard #503 begins shift\", \"[1518-04-08 00:19] falls asleep\", \"[1518-04-08 00:20] wakes up\", \"[1518-04-08 00:46] falls asleep\", \"[1518-04-08 00:58] wakes up\", \"[1518-06-21 00:00] Guard #503 begins shift\", \"[1518-06-21 00:21] falls asleep\"  …  \"[1518-09-09 00:02] Guard #503 begins shift\", \"[1518-09-09 00:33] falls asleep\", \"[1518-09-09 00:51] wakes up\", \"[1518-09-09 00:56] falls asleep\", \"[1518-09-09 00:58] wakes up\", \"[1518-09-23 23:50] Guard #503 begins shift\", \"[1518-09-24 00:03] falls asleep\", \"[1518-09-24 00:14] wakes up\", \"[1518-09-24 00:22] falls asleep\", \"[1518-09-24 00:57] wakes up\"]                 \n",
       " Any[\"[1518-03-27 23:58] Guard #2693 begins shift\", \"[1518-03-28 00:18] falls asleep\", \"[1518-03-28 00:42] wakes up\", \"[1518-03-28 00:56] falls asleep\", \"[1518-03-28 00:59] wakes up\", \"[1518-04-06 23:57] Guard #2693 begins shift\", \"[1518-04-07 00:25] falls asleep\", \"[1518-04-07 00:34] wakes up\", \"[1518-04-25 23:59] Guard #2693 begins shift\", \"[1518-04-26 00:24] falls asleep\"  …  \"[1518-09-30 00:00] Guard #2693 begins shift\", \"[1518-09-30 00:33] falls asleep\", \"[1518-09-30 00:40] wakes up\", \"[1518-09-30 00:46] falls asleep\", \"[1518-09-30 00:58] wakes up\", \"[1518-11-21 00:00] Guard #2693 begins shift\", \"[1518-11-21 00:14] falls asleep\", \"[1518-11-21 00:38] wakes up\", \"[1518-11-21 00:50] falls asleep\", \"[1518-11-21 00:54] wakes up\"]            \n",
       " Any[\"[1518-03-20 00:00] Guard #457 begins shift\", \"[1518-03-20 00:14] falls asleep\", \"[1518-03-20 00:26] wakes up\", \"[1518-03-30 00:03] Guard #457 begins shift\", \"[1518-03-30 00:23] falls asleep\", \"[1518-03-30 00:57] wakes up\", \"[1518-04-02 00:00] Guard #457 begins shift\", \"[1518-04-02 00:20] falls asleep\", \"[1518-04-02 00:57] wakes up\", \"[1518-04-11 00:03] Guard #457 begins shift\"  …  \"[1518-11-03 00:36] falls asleep\", \"[1518-11-03 00:59] wakes up\", \"[1518-11-09 00:04] Guard #457 begins shift\", \"[1518-11-09 00:25] falls asleep\", \"[1518-11-09 00:44] wakes up\", \"[1518-11-09 00:50] falls asleep\", \"[1518-11-09 00:57] wakes up\", \"[1518-11-10 23:58] Guard #457 begins shift\", \"[1518-11-11 00:20] falls asleep\", \"[1518-11-11 00:52] wakes up\"]      \n",
       " Any[\"[1518-03-21 00:03] Guard #691 begins shift\", \"[1518-03-21 00:31] falls asleep\", \"[1518-03-21 00:59] wakes up\", \"[1518-03-30 23:53] Guard #691 begins shift\", \"[1518-03-31 00:05] falls asleep\", \"[1518-03-31 00:22] wakes up\", \"[1518-03-31 00:26] falls asleep\", \"[1518-03-31 00:45] wakes up\", \"[1518-04-12 00:01] Guard #691 begins shift\", \"[1518-04-12 00:12] falls asleep\"  …  \"[1518-10-03 00:10] falls asleep\", \"[1518-10-03 00:25] wakes up\", \"[1518-10-03 00:33] falls asleep\", \"[1518-10-03 00:35] wakes up\", \"[1518-10-10 23:56] Guard #691 begins shift\", \"[1518-10-11 00:45] falls asleep\", \"[1518-10-11 00:51] wakes up\", \"[1518-11-13 23:57] Guard #691 begins shift\", \"[1518-11-14 00:27] falls asleep\", \"[1518-11-14 00:44] wakes up\"]                 \n",
       " Any[\"[1518-03-19 00:02] Guard #2953 begins shift\", \"[1518-03-19 00:37] falls asleep\", \"[1518-03-19 00:41] wakes up\", \"[1518-04-08 23:57] Guard #2953 begins shift\", \"[1518-04-09 00:31] falls asleep\", \"[1518-04-09 00:47] wakes up\", \"[1518-05-04 23:56] Guard #2953 begins shift\", \"[1518-05-05 00:07] falls asleep\", \"[1518-05-05 00:17] wakes up\", \"[1518-05-05 00:23] falls asleep\"  …  \"[1518-11-17 00:22] falls asleep\", \"[1518-11-17 00:41] wakes up\", \"[1518-11-18 23:58] Guard #2953 begins shift\", \"[1518-11-19 00:12] falls asleep\", \"[1518-11-19 00:59] wakes up\", \"[1518-11-21 23:50] Guard #2953 begins shift\", \"[1518-11-22 00:04] falls asleep\", \"[1518-11-22 00:37] wakes up\", \"[1518-11-22 00:51] falls asleep\", \"[1518-11-22 00:53] wakes up\"]            \n",
       " Any[\"[1518-03-26 00:03] Guard #1933 begins shift\", \"[1518-03-26 00:21] falls asleep\", \"[1518-03-26 00:47] wakes up\", \"[1518-03-26 00:56] falls asleep\", \"[1518-03-26 00:58] wakes up\", \"[1518-04-16 00:00] Guard #1933 begins shift\", \"[1518-04-16 00:25] falls asleep\", \"[1518-04-16 00:43] wakes up\", \"[1518-05-14 23:58] Guard #1933 begins shift\", \"[1518-05-15 00:15] falls asleep\"  …  \"[1518-06-27 00:46] falls asleep\", \"[1518-06-27 00:49] wakes up\", \"[1518-10-03 23:49] Guard #1933 begins shift\", \"[1518-10-04 00:05] falls asleep\", \"[1518-10-04 00:28] wakes up\", \"[1518-10-04 00:47] falls asleep\", \"[1518-10-04 00:55] wakes up\", \"[1518-10-18 00:00] Guard #1933 begins shift\", \"[1518-10-18 00:20] falls asleep\", \"[1518-10-18 00:53] wakes up\"]            \n",
       " Any[\"[1518-05-04 00:04] Guard #2753 begins shift\", \"[1518-05-04 00:24] falls asleep\", \"[1518-05-04 00:51] wakes up\", \"[1518-05-05 23:59] Guard #2753 begins shift\", \"[1518-05-06 00:43] falls asleep\", \"[1518-05-06 00:46] wakes up\", \"[1518-05-25 23:59] Guard #2753 begins shift\", \"[1518-05-26 00:10] falls asleep\", \"[1518-05-26 00:23] wakes up\", \"[1518-07-10 23:59] Guard #2753 begins shift\"  …  \"[1518-10-01 00:53] falls asleep\", \"[1518-10-01 00:58] wakes up\", \"[1518-10-06 00:04] Guard #2753 begins shift\", \"[1518-10-06 00:30] falls asleep\", \"[1518-10-06 00:31] wakes up\", \"[1518-10-06 00:36] falls asleep\", \"[1518-10-06 00:42] wakes up\", \"[1518-11-13 00:00] Guard #2753 begins shift\", \"[1518-11-13 00:41] falls asleep\", \"[1518-11-13 00:55] wakes up\"]\n",
       " Any[\"[1518-04-04 00:03] Guard #1637 begins shift\", \"[1518-08-31 00:04] Guard #1637 begins shift\"]                                                                                                                                                                                                                                                                                                                                                                                                                                                                                                                                                                                                                                                                             \n",
       " Any[\"[1518-05-16 23:59] Guard #1069 begins shift\", \"[1518-05-17 00:27] falls asleep\", \"[1518-05-17 00:32] wakes up\", \"[1518-05-17 00:47] falls asleep\", \"[1518-05-17 00:53] wakes up\", \"[1518-06-01 00:01] Guard #1069 begins shift\", \"[1518-06-01 00:14] falls asleep\", \"[1518-06-01 00:32] wakes up\", \"[1518-06-01 00:36] falls asleep\", \"[1518-06-01 00:47] wakes up\"  …  \"[1518-11-01 00:04] Guard #1069 begins shift\", \"[1518-11-01 00:13] falls asleep\", \"[1518-11-01 00:39] wakes up\", \"[1518-11-01 00:44] falls asleep\", \"[1518-11-01 00:49] wakes up\", \"[1518-11-14 23:59] Guard #1069 begins shift\", \"[1518-11-15 00:26] falls asleep\", \"[1518-11-15 00:31] wakes up\", \"[1518-11-15 00:41] falls asleep\", \"[1518-11-15 00:51] wakes up\"]                            \n",
       " Any[\"[1518-03-23 00:02] Guard #223 begins shift\", \"[1518-03-23 00:23] falls asleep\", \"[1518-03-23 00:55] wakes up\", \"[1518-03-24 00:03] Guard #223 begins shift\", \"[1518-03-24 00:24] falls asleep\", \"[1518-03-24 00:30] wakes up\", \"[1518-03-24 00:34] falls asleep\", \"[1518-03-24 00:59] wakes up\", \"[1518-04-04 23:59] Guard #223 begins shift\", \"[1518-04-05 00:43] falls asleep\"  …  \"[1518-10-12 00:00] Guard #223 begins shift\", \"[1518-10-12 00:16] falls asleep\", \"[1518-10-12 00:22] wakes up\", \"[1518-10-12 00:40] falls asleep\", \"[1518-10-12 00:48] wakes up\", \"[1518-10-12 00:52] falls asleep\", \"[1518-10-12 00:59] wakes up\", \"[1518-11-06 23:57] Guard #223 begins shift\", \"[1518-11-07 00:22] falls asleep\", \"[1518-11-07 00:55] wakes up\"]                 \n",
       " Any[\"[1518-05-25 00:04] Guard #409 begins shift\", \"[1518-05-25 00:37] falls asleep\", \"[1518-05-25 00:56] wakes up\", \"[1518-06-17 23:57] Guard #409 begins shift\", \"[1518-06-18 00:20] falls asleep\", \"[1518-06-18 00:55] wakes up\", \"[1518-08-06 23:59] Guard #409 begins shift\", \"[1518-08-07 00:45] falls asleep\", \"[1518-08-07 00:53] wakes up\", \"[1518-09-06 00:01] Guard #409 begins shift\"  …  \"[1518-10-17 00:43] wakes up\", \"[1518-10-17 00:50] falls asleep\", \"[1518-10-17 00:55] wakes up\", \"[1518-11-01 23:56] Guard #409 begins shift\", \"[1518-11-02 00:15] falls asleep\", \"[1518-11-02 00:16] wakes up\", \"[1518-11-02 00:30] falls asleep\", \"[1518-11-02 00:42] wakes up\", \"[1518-11-02 00:51] falls asleep\", \"[1518-11-02 00:55] wakes up\"]                     \n",
       " Any[\"[1518-03-28 23:50] Guard #419 begins shift\", \"[1518-03-29 00:01] falls asleep\", \"[1518-03-29 00:48] wakes up\", \"[1518-04-01 00:03] Guard #419 begins shift\", \"[1518-04-01 00:11] falls asleep\", \"[1518-04-01 00:23] wakes up\", \"[1518-04-01 00:35] falls asleep\", \"[1518-04-01 00:55] wakes up\", \"[1518-04-16 23:58] Guard #419 begins shift\", \"[1518-04-17 00:13] falls asleep\"  …  \"[1518-10-10 00:42] falls asleep\", \"[1518-10-10 00:45] wakes up\", \"[1518-10-10 00:50] falls asleep\", \"[1518-10-10 00:54] wakes up\", \"[1518-10-29 00:00] Guard #419 begins shift\", \"[1518-10-29 00:11] falls asleep\", \"[1518-10-29 00:42] wakes up\", \"[1518-11-10 00:00] Guard #419 begins shift\", \"[1518-11-10 00:21] falls asleep\", \"[1518-11-10 00:48] wakes up\"]                 \n",
       " Any[\"[1518-04-12 23:51] Guard #1699 begins shift\", \"[1518-04-13 00:05] falls asleep\", \"[1518-04-13 00:35] wakes up\", \"[1518-04-28 00:01] Guard #1699 begins shift\", \"[1518-04-28 00:09] falls asleep\", \"[1518-04-28 00:12] wakes up\", \"[1518-04-28 00:23] falls asleep\", \"[1518-04-28 00:53] wakes up\", \"[1518-05-07 00:01] Guard #1699 begins shift\", \"[1518-05-07 00:19] falls asleep\"  …  \"[1518-10-30 00:31] falls asleep\", \"[1518-10-30 00:48] wakes up\", \"[1518-11-08 00:00] Guard #1699 begins shift\", \"[1518-11-08 00:30] falls asleep\", \"[1518-11-08 00:43] wakes up\", \"[1518-11-20 00:00] Guard #1699 begins shift\", \"[1518-11-20 00:27] falls asleep\", \"[1518-11-20 00:51] wakes up\", \"[1518-11-20 00:56] falls asleep\", \"[1518-11-20 00:57] wakes up\"]            \n",
       " Any[\"[1518-07-31 23:58] Guard #3347 begins shift\", \"[1518-08-18 23:59] Guard #3347 begins shift\"]                                                                                                                                                                                                                                                                                                                                                                                                                                                                                                                                                                                                                                                                             \n",
       " Any[\"[1518-04-09 23:57] Guard #163 begins shift\", \"[1518-04-10 00:15] falls asleep\", \"[1518-04-10 00:18] wakes up\", \"[1518-04-10 00:25] falls asleep\", \"[1518-04-10 00:32] wakes up\", \"[1518-04-10 00:47] falls asleep\", \"[1518-04-10 00:50] wakes up\", \"[1518-06-25 00:00] Guard #163 begins shift\", \"[1518-06-25 00:10] falls asleep\", \"[1518-06-25 00:17] wakes up\"  …  \"[1518-10-13 00:04] falls asleep\", \"[1518-10-13 00:54] wakes up\", \"[1518-10-20 23:58] Guard #163 begins shift\", \"[1518-10-21 00:24] falls asleep\", \"[1518-10-21 00:25] wakes up\", \"[1518-10-21 00:38] falls asleep\", \"[1518-10-21 00:42] wakes up\", \"[1518-11-04 23:57] Guard #163 begins shift\", \"[1518-11-05 00:21] falls asleep\", \"[1518-11-05 00:51] wakes up\"]                                \n",
       " Any[\"[1518-03-25 00:02] Guard #1153 begins shift\", \"[1518-03-25 00:09] falls asleep\", \"[1518-03-25 00:51] wakes up\", \"[1518-04-13 23:57] Guard #1153 begins shift\", \"[1518-04-14 00:49] falls asleep\", \"[1518-04-14 00:57] wakes up\", \"[1518-04-25 00:03] Guard #1153 begins shift\", \"[1518-04-25 00:21] falls asleep\", \"[1518-04-25 00:48] wakes up\", \"[1518-06-04 00:00] Guard #1153 begins shift\"  …  \"[1518-08-29 00:37] falls asleep\", \"[1518-08-29 00:49] wakes up\", \"[1518-09-24 23:59] Guard #1153 begins shift\", \"[1518-09-25 00:10] falls asleep\", \"[1518-09-25 00:46] wakes up\", \"[1518-10-24 23:59] Guard #1153 begins shift\", \"[1518-10-25 00:16] falls asleep\", \"[1518-10-25 00:38] wakes up\", \"[1518-10-25 00:45] falls asleep\", \"[1518-10-25 00:59] wakes up\"]\n",
       " Any[\"[1518-04-06 00:03] Guard #179 begins shift\", \"[1518-04-06 00:41] falls asleep\", \"[1518-04-06 00:59] wakes up\", \"[1518-04-21 00:03] Guard #179 begins shift\", \"[1518-04-21 00:44] falls asleep\", \"[1518-04-21 00:52] wakes up\", \"[1518-04-28 23:58] Guard #179 begins shift\", \"[1518-04-29 00:16] falls asleep\", \"[1518-04-29 00:42] wakes up\", \"[1518-04-29 00:46] falls asleep\"  …  \"[1518-11-05 23:57] Guard #179 begins shift\", \"[1518-11-06 00:18] falls asleep\", \"[1518-11-06 00:31] wakes up\", \"[1518-11-06 00:42] falls asleep\", \"[1518-11-06 00:43] wakes up\", \"[1518-11-11 23:57] Guard #179 begins shift\", \"[1518-11-12 00:10] falls asleep\", \"[1518-11-12 00:13] wakes up\", \"[1518-11-12 00:33] falls asleep\", \"[1518-11-12 00:45] wakes up\"]                 \n",
       " Any[\"[1518-04-17 23:57] Guard #3547 begins shift\", \"[1518-04-18 00:08] falls asleep\", \"[1518-04-18 00:25] wakes up\", \"[1518-04-18 00:36] falls asleep\", \"[1518-04-18 00:39] wakes up\", \"[1518-04-18 00:44] falls asleep\", \"[1518-04-18 00:57] wakes up\", \"[1518-04-19 00:04] Guard #3547 begins shift\", \"[1518-04-19 00:57] falls asleep\", \"[1518-04-19 00:58] wakes up\"  …  \"[1518-10-05 00:07] falls asleep\", \"[1518-10-05 00:16] wakes up\", \"[1518-10-05 00:20] falls asleep\", \"[1518-10-05 00:34] wakes up\", \"[1518-10-26 00:01] Guard #3547 begins shift\", \"[1518-10-26 00:18] falls asleep\", \"[1518-10-26 00:40] wakes up\", \"[1518-11-17 23:53] Guard #3547 begins shift\", \"[1518-11-18 00:03] falls asleep\", \"[1518-11-18 00:16] wakes up\"]                            "
      ]
     },
     "execution_count": 19,
     "metadata": {},
     "output_type": "execute_result"
    }
   ],
   "source": [
    "function partitionByGuard(sortedInput)\n",
    "    guards = []\n",
    "    guard = []\n",
    "    for line in sortedInput\n",
    "        if occursin(\"Guard\", line) && length(guard) > 0\n",
    "            push!(guards, guard)\n",
    "            guard = []\n",
    "        end\n",
    "        push!(guard, line)\n",
    "    end\n",
    "    \n",
    "    dict = Dict()\n",
    "    for guard in guards\n",
    "        id = extractGuardId(guard)\n",
    "        dict[id] = append!(get(dict, id, []), guard)\n",
    "    end\n",
    "    return collect(values(dict))\n",
    "end\n",
    "\n",
    "partitionByGuard(getSortedInput())"
   ]
  },
  {
   "cell_type": "code",
   "execution_count": 20,
   "metadata": {},
   "outputs": [
    {
     "data": {
      "text/plain": [
       "lineContainsSleepOrWakeTime (generic function with 1 method)"
      ]
     },
     "execution_count": 20,
     "metadata": {},
     "output_type": "execute_result"
    }
   ],
   "source": [
    "function lineContainsSleepOrWakeTime(line)\n",
    "    occursin(r\"asleep|wakes\", line)\n",
    "end"
   ]
  },
  {
   "cell_type": "code",
   "execution_count": 21,
   "metadata": {},
   "outputs": [
    {
     "data": {
      "text/plain": [
       "(\"10\", 45)"
      ]
     },
     "execution_count": 21,
     "metadata": {},
     "output_type": "execute_result"
    }
   ],
   "source": [
    "function sumTimeAsleepForGuard(lines)\n",
    "    id = extractGuardId(lines)\n",
    "    sleepAndWakeMinutes = map(extractMinute, filter(lineContainsSleepOrWakeTime, lines))\n",
    "    minutesAsleep = Iterators.partition(sleepAndWakeMinutes, 2) |>\n",
    "        iter -> map(xy -> xy[2] - xy[1], iter) |>\n",
    "        iter -> reduce(+, iter)\n",
    "    return (id, minutesAsleep)\n",
    "end\n",
    "\n",
    "sumTimeAsleepForGuard([\"[1518-11-01 00:00] Guard #10 begins shift\";\n",
    "\"[1518-11-01 00:05] falls asleep\";\n",
    "\"[1518-11-01 00:25] wakes up\";\n",
    "\"[1518-11-01 00:30] falls asleep\";\n",
    "\"[1518-11-01 00:55] wakes up\"])"
   ]
  },
  {
   "cell_type": "code",
   "execution_count": 22,
   "metadata": {},
   "outputs": [
    {
     "data": {
      "text/plain": [
       "(\"2953\", 465)"
      ]
     },
     "execution_count": 22,
     "metadata": {},
     "output_type": "execute_result"
    }
   ],
   "source": [
    "function findGuardAsleepMost(inputs)\n",
    "    guards = partitionByGuard(inputs)\n",
    "    guardIdToTimeAsleep = map(sumTimeAsleepForGuard, guards)\n",
    "    max = 0\n",
    "    maxId = \"N/A\"\n",
    "    for (id, timeAsleep) in guardIdToTimeAsleep\n",
    "        if timeAsleep > max\n",
    "            max = timeAsleep\n",
    "            maxId = id\n",
    "        end\n",
    "    end\n",
    "    return (maxId, max)\n",
    "end\n",
    "findGuardAsleepMost(getSortedInput())"
   ]
  },
  {
   "cell_type": "code",
   "execution_count": 23,
   "metadata": {},
   "outputs": [
    {
     "data": {
      "text/plain": [
       "67-element Array{Any,1}:\n",
       " \"[1518-03-19 00:02] Guard #2953 begins shift\"\n",
       " \"[1518-03-19 00:37] falls asleep\"            \n",
       " \"[1518-03-19 00:41] wakes up\"                \n",
       " \"[1518-04-08 23:57] Guard #2953 begins shift\"\n",
       " \"[1518-04-09 00:31] falls asleep\"            \n",
       " \"[1518-04-09 00:47] wakes up\"                \n",
       " \"[1518-05-04 23:56] Guard #2953 begins shift\"\n",
       " \"[1518-05-05 00:07] falls asleep\"            \n",
       " \"[1518-05-05 00:17] wakes up\"                \n",
       " \"[1518-05-05 00:23] falls asleep\"            \n",
       " \"[1518-05-05 00:52] wakes up\"                \n",
       " \"[1518-05-08 23:59] Guard #2953 begins shift\"\n",
       " \"[1518-05-09 00:25] falls asleep\"            \n",
       " ⋮                                            \n",
       " \"[1518-10-07 00:55] wakes up\"                \n",
       " \"[1518-11-17 00:02] Guard #2953 begins shift\"\n",
       " \"[1518-11-17 00:22] falls asleep\"            \n",
       " \"[1518-11-17 00:41] wakes up\"                \n",
       " \"[1518-11-18 23:58] Guard #2953 begins shift\"\n",
       " \"[1518-11-19 00:12] falls asleep\"            \n",
       " \"[1518-11-19 00:59] wakes up\"                \n",
       " \"[1518-11-21 23:50] Guard #2953 begins shift\"\n",
       " \"[1518-11-22 00:04] falls asleep\"            \n",
       " \"[1518-11-22 00:37] wakes up\"                \n",
       " \"[1518-11-22 00:51] falls asleep\"            \n",
       " \"[1518-11-22 00:53] wakes up\"                "
      ]
     },
     "execution_count": 23,
     "metadata": {},
     "output_type": "execute_result"
    }
   ],
   "source": [
    "function getGuardLinesForId(id, inputs)\n",
    "    guards = partitionByGuard(inputs)\n",
    "    for guard in guards\n",
    "        if occursin(\"Guard #$id\", guard[1])\n",
    "            return guard\n",
    "        end\n",
    "    end\n",
    "end\n",
    "getGuardLinesForId(\"2953\", getSortedInput())"
   ]
  },
  {
   "cell_type": "code",
   "execution_count": 24,
   "metadata": {},
   "outputs": [
    {
     "data": {
      "text/plain": [
       "(\"2953\", 39)"
      ]
     },
     "execution_count": 24,
     "metadata": {},
     "output_type": "execute_result"
    }
   ],
   "source": [
    "function findMinuteGuardIsAsleepMost(lines)\n",
    "    sleepAndWakeMinutes = map(extractMinute, filter(lineContainsSleepOrWakeTime, lines))\n",
    "    daysAsleepByMinute = Dict()\n",
    "    for (asleep, awake) in Iterators.partition(sleepAndWakeMinutes, 2)\n",
    "        for m in asleep:awake-1\n",
    "            daysAsleepByMinute[m] = get(daysAsleepByMinute, m, 0) + 1\n",
    "        end\n",
    "    end\n",
    "    max = 0\n",
    "    maxMinute = -1\n",
    "    for (minute, timesAsleep) in daysAsleepByMinute\n",
    "        if timesAsleep > max\n",
    "            max = timesAsleep\n",
    "            maxMinute = minute\n",
    "        end\n",
    "    end\n",
    "    return (max, maxMinute)\n",
    "end\n",
    "\n",
    "function solvePart1()\n",
    "    inputs = getSortedInput()\n",
    "    (id, minutes) = findGuardAsleepMost(inputs)\n",
    "    guard = getGuardLinesForId(id, inputs)\n",
    "    (max, minute) = findMinuteGuardIsAsleepMost(guard)\n",
    "    return (id, minute)\n",
    "end\n",
    "solvePart1()"
   ]
  },
  {
   "cell_type": "markdown",
   "metadata": {},
   "source": [
    "## Part Two\n",
    "\n",
    "Strategy 2: Of all guards, which guard is most frequently asleep on the same minute?\n",
    "\n",
    "In the example above, Guard #99 spent minute 45 asleep more than any other guard or minute - three times in total. (In all other cases, any guard spent any minute asleep at most twice.)\n",
    "\n",
    "What is the ID of the guard you chose multiplied by the minute you chose? (In the above example, the answer would be 99 * 45 = 4455.)"
   ]
  },
  {
   "cell_type": "code",
   "execution_count": 25,
   "metadata": {},
   "outputs": [
    {
     "data": {
      "text/plain": [
       "(\"1069\", 30, 17)"
      ]
     },
     "execution_count": 25,
     "metadata": {},
     "output_type": "execute_result"
    }
   ],
   "source": [
    "function solvePart2()\n",
    "    inputs = getSortedInput()\n",
    "    guards = partitionByGuard(inputs)\n",
    "    max = 0\n",
    "    maxMinute = -1\n",
    "    maxId = \"n/a\"\n",
    "#     guardToMaxMinute = Dict()\n",
    "#     for guard in guards\n",
    "#         guardToMaxMinute[extractGuardId(guard)] = findMinuteGuardIsAsleepMost(guard)\n",
    "#     end\n",
    "#     return guardToMaxMinute\n",
    "    for guard in guards\n",
    "        (timesAsleep, minute) = findMinuteGuardIsAsleepMost(guard)\n",
    "        if timesAsleep >= max\n",
    "            max = timesAsleep\n",
    "            maxMinute = minute\n",
    "            maxId = extractGuardId(guard)\n",
    "        end\n",
    "    end\n",
    "    return (maxId, maxMinute, max)\n",
    "end\n",
    "solvePart2()"
   ]
  }
 ],
 "metadata": {
  "kernelspec": {
   "display_name": "Julia 1.0.2",
   "language": "julia",
   "name": "julia-1.0"
  },
  "language_info": {
   "file_extension": ".jl",
   "mimetype": "application/julia",
   "name": "julia",
   "version": "1.0.2"
  }
 },
 "nbformat": 4,
 "nbformat_minor": 2
}
