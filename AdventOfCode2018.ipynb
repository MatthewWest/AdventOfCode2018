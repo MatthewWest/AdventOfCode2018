{
 "cells": [
  {
   "cell_type": "markdown",
   "metadata": {},
   "source": [
    "# Day 0\n",
    "\n",
    "Import commonly used modules."
   ]
  },
  {
   "cell_type": "code",
   "execution_count": 1,
   "metadata": {},
   "outputs": [],
   "source": [
    "using DelimitedFiles\n",
    "using Base.Iterators\n",
    "using Combinatorics"
   ]
  },
  {
   "cell_type": "markdown",
   "metadata": {},
   "source": [
    "# Day 1\n",
    "\n",
    "## Part 1\n",
    "\n",
    "After feeling like you've been falling for a few minutes, you look at the device's tiny screen. \"Error: Device must be calibrated before first use. Frequency drift detected. Cannot maintain destination lock.\" Below the message, the device shows a sequence of changes in frequency (your puzzle input). A value like +6 means the current frequency increases by 6; a value like -3 means the current frequency decreases by 3.\n",
    "\n",
    "For example, if the device displays frequency changes of +1, -2, +3, +1, then starting from a frequency of zero, the following changes would occur:\n",
    "\n",
    "Current frequency  0, change of +1; resulting frequency  1.\n",
    "Current frequency  1, change of -2; resulting frequency -1.\n",
    "Current frequency -1, change of +3; resulting frequency  2.\n",
    "Current frequency  2, change of +1; resulting frequency  3.\n",
    "In this example, the resulting frequency is 3.\n",
    "\n",
    "Here are other example situations:\n",
    "\n",
    "+1, +1, +1 results in  3\n",
    "+1, +1, -2 results in  0\n",
    "-1, -2, -3 results in -6\n",
    "Starting with a frequency of zero, what is the resulting frequency after all of the changes in frequency have been applied?\n",
    "\n",
    "Inputs saved in day1/input1.txt"
   ]
  },
  {
   "cell_type": "code",
   "execution_count": 2,
   "metadata": {},
   "outputs": [
    {
     "name": "stdout",
     "output_type": "stream",
     "text": [
      "Final resulting frequency: 595"
     ]
    }
   ],
   "source": [
    "open(\"day1input.txt\") do f\n",
    "    global d1inputs = readdlm(f, Int64)\n",
    "end\n",
    "\n",
    "pos = sum(d1inputs)\n",
    "print(\"Final resulting frequency: $pos\")"
   ]
  },
  {
   "cell_type": "markdown",
   "metadata": {},
   "source": [
    "## Part Two\n",
    "\n",
    "You notice that the device repeats the same frequency change list over and over. To calibrate the device, you need to find the first frequency it reaches twice.\n",
    "\n",
    "For example, using the same list of changes above, the device would loop as follows:\n",
    "\n",
    "Current frequency  0, change of +1; resulting frequency  1.\n",
    "Current frequency  1, change of -2; resulting frequency -1.\n",
    "Current frequency -1, change of +3; resulting frequency  2.\n",
    "Current frequency  2, change of +1; resulting frequency  3.\n",
    "(At this point, the device continues from the start of the list.)\n",
    "Current frequency  3, change of +1; resulting frequency  4.\n",
    "Current frequency  4, change of -2; resulting frequency  2, which has already been seen.\n",
    "In this example, the first frequency reached twice is 2. Note that your device might need to repeat its list of frequency changes many times before a duplicate frequency is found, and that duplicates might be found while in the middle of processing the list.\n",
    "\n",
    "Here are other examples:\n",
    "\n",
    "+1, -1 first reaches 0 twice.\n",
    "+3, +3, +4, -2, -4 first reaches 10 twice.\n",
    "-6, +3, +8, +5, -6 first reaches 5 twice.\n",
    "+7, +7, -2, -7, -4 first reaches 14 twice.\n",
    "\n",
    "What is the first frequency your device reaches twice?"
   ]
  },
  {
   "cell_type": "code",
   "execution_count": 3,
   "metadata": {
    "scrolled": true
   },
   "outputs": [
    {
     "name": "stdout",
     "output_type": "stream",
     "text": [
      "First frequency reached twice is: 80598"
     ]
    }
   ],
   "source": [
    "using Base.Iterators\n",
    "\n",
    "visited = Set{Int64}()\n",
    "pos = 0\n",
    "push!(visited, pos)\n",
    "\n",
    "for input in cycle(d1inputs)\n",
    "    pos += input\n",
    "    if in(pos, visited)\n",
    "        break\n",
    "    end\n",
    "    push!(visited, pos)\n",
    "end\n",
    "\n",
    "print(\"First frequency reached twice is: $pos\")"
   ]
  },
  {
   "cell_type": "markdown",
   "metadata": {},
   "source": [
    "# Day 2: Inventory Management System\n",
    "\n",
    "You stop falling through time, catch your breath, and check the screen on the device. \"Destination reached. Current Year: 1518. Current Location: North Pole Utility Closet 83N10.\" You made it! Now, to find those anomalies.\n",
    "\n",
    "Outside the utility closet, you hear footsteps and a voice. \"...I'm not sure either. But now that so many people have chimneys, maybe he could sneak in that way?\" Another voice responds, \"Actually, we've been working on a new kind of suit that would let him fit through tight spaces like that. But, I heard that a few days ago, they lost the prototype fabric, the design plans, everything! Nobody on the team can even seem to remember important details of the project!\"\n",
    "\n",
    "\"Wouldn't they have had enough fabric to fill several boxes in the warehouse? They'd be stored together, so the box IDs should be similar. Too bad it would take forever to search the warehouse for two similar box IDs...\" They walk too far away to hear any more.\n",
    "\n",
    "Late at night, you sneak to the warehouse - who knows what kinds of paradoxes you could cause if you were discovered - and use your fancy wrist device to quickly scan every box and produce a list of the likely candidates (your puzzle input).\n",
    "\n",
    "To make sure you didn't miss any, you scan the likely candidate boxes again, counting the number that have an ID containing exactly two of any letter and then separately counting those with exactly three of any letter. You can multiply those two counts together to get a rudimentary checksum and compare it to what your device predicts.\n",
    "\n",
    "For example, if you see the following box IDs:\n",
    "\n",
    "- `abcdef` contains no letters that appear exactly two or three times.\n",
    "- `bababc` contains two a and three b, so it counts for both.\n",
    "- `abbcde` contains two b, but no letter appears exactly three times.\n",
    "- `abcccd` contains three c, but no letter appears exactly two times.\n",
    "- `aabcdd` contains two a and two d, but it only counts once.\n",
    "- `abcdee` contains two e.\n",
    "- `ababab` contains three a and three b, but it only counts once.\n",
    "\n",
    "Of these box IDs, four of them contain a letter which appears exactly twice, and three of them contain a letter which appears exactly three times. Multiplying these together produces a checksum of 4 * 3 = 12.\n",
    "\n",
    "What is the checksum for your list of box IDs?"
   ]
  },
  {
   "cell_type": "code",
   "execution_count": 4,
   "metadata": {},
   "outputs": [],
   "source": [
    "function getLetterCounts(s)\n",
    "    counts = Dict()\n",
    "    for c in s\n",
    "        counts[c] = get(counts, c, 0) + 1\n",
    "    end\n",
    "    return counts\n",
    "end\n",
    "\n",
    "# Example function input (remove ';' to show output)\n",
    "getLetterCounts(\"bababc\");"
   ]
  },
  {
   "cell_type": "code",
   "execution_count": 5,
   "metadata": {},
   "outputs": [],
   "source": [
    "function numCodesWithNRepeats(n, inputs)\n",
    "    letters = Char[]\n",
    "    num = 0\n",
    "    for code in inputs\n",
    "        counts = getLetterCounts(code)\n",
    "        if n in values(counts)\n",
    "            num +=1\n",
    "        end\n",
    "    end\n",
    "    return num\n",
    "end\n",
    "\n",
    "# Example function input (remove ';' to show output)\n",
    "numCodesWithNRepeats(2, [\"abbcde\", \"bababc\", \"abcdef\"]);"
   ]
  },
  {
   "cell_type": "code",
   "execution_count": 6,
   "metadata": {},
   "outputs": [
    {
     "data": {
      "text/plain": [
       "6370"
      ]
     },
     "execution_count": 6,
     "metadata": {},
     "output_type": "execute_result"
    }
   ],
   "source": [
    "open(\"day2input.txt\") do f\n",
    "    global d2inputs = readdlm(f, String)\n",
    "end\n",
    "\n",
    "function checksum(inputs)\n",
    "    repeat2 = numCodesWithNRepeats(2, inputs)\n",
    "    repeat3 = numCodesWithNRepeats(3, inputs)\n",
    "    return repeat2 * repeat3\n",
    "end\n",
    "\n",
    "checksum(d2inputs)"
   ]
  },
  {
   "cell_type": "markdown",
   "metadata": {},
   "source": [
    "## Part Two\n",
    "\n",
    "Confident that your list of box IDs is complete, you're ready to find the boxes full of prototype fabric.\n",
    "\n",
    "The boxes will have IDs which differ by exactly one character at the same position in both strings. For example, given the following box IDs:\n",
    "\n",
    "abcde\n",
    "fghij\n",
    "klmno\n",
    "pqrst\n",
    "fguij\n",
    "axcye\n",
    "wvxyz\n",
    "The IDs abcde and axcye are close, but they differ by two characters (the second and fourth). However, the IDs fghij and fguij differ by exactly one character, the third (h and u). Those must be the correct boxes.\n",
    "\n",
    "What letters are common between the two correct box IDs? (In the example above, this is found by removing the differing character from either ID, producing fgij.)"
   ]
  },
  {
   "cell_type": "code",
   "execution_count": 7,
   "metadata": {},
   "outputs": [],
   "source": [
    "function numChanges(a, b)\n",
    "    n = 0\n",
    "    for (c1, c2) in zip(a, b)\n",
    "        if c1 != c2\n",
    "            n +=1\n",
    "        end\n",
    "    end\n",
    "    return n\n",
    "end\n",
    "\n",
    "numChanges(\"fghij\", \"fguij\");"
   ]
  },
  {
   "cell_type": "code",
   "execution_count": 8,
   "metadata": {},
   "outputs": [],
   "source": [
    "function pairsWithOneChange(inputs)\n",
    "    pairs = []\n",
    "    for (s1, s2) in combinations(inputs, 2)\n",
    "        if numChanges(s1, s2) == 1\n",
    "            push!(pairs, (s1, s2))\n",
    "        end\n",
    "    end\n",
    "    return pairs\n",
    "end\n",
    "\n",
    "pairsWithOneChange([\"abc\", \"acd\", \"adc\", \"aec\"]);"
   ]
  },
  {
   "cell_type": "code",
   "execution_count": 9,
   "metadata": {},
   "outputs": [],
   "source": [
    "function commonLetters(s1, s2)\n",
    "    output = []\n",
    "    for (c1, c2) in zip(s1, s2)\n",
    "        if c1 == c2\n",
    "            push!(output, c1)\n",
    "        end\n",
    "    end\n",
    "    return join(output)\n",
    "end\n",
    "\n",
    "commonLetters(\"123456789\", \"123356789\");"
   ]
  },
  {
   "cell_type": "code",
   "execution_count": 10,
   "metadata": {},
   "outputs": [
    {
     "data": {
      "text/plain": [
       "\"rmyxgdlihczskunpfijqcebtv\""
      ]
     },
     "execution_count": 10,
     "metadata": {},
     "output_type": "execute_result"
    }
   ],
   "source": [
    "function commonOfCorrect(inputs)\n",
    "    oneChange = pairsWithOneChange(inputs)\n",
    "    commonLetters(oneChange[1]...)\n",
    "end\n",
    "\n",
    "commonOfCorrect(d2inputs)"
   ]
  },
  {
   "cell_type": "markdown",
   "metadata": {},
   "source": [
    "# Day 3: No Matter How You Slice It\n",
    "\n",
    "The Elves managed to locate the chimney-squeeze prototype fabric for Santa's suit (thanks to someone who helpfully wrote its box IDs on the wall of the warehouse in the middle of the night). Unfortunately, anomalies are still affecting them - nobody can even agree on how to cut the fabric.\n",
    "\n",
    "The whole piece of fabric they're working on is a very large square - at least 1000 inches on each side.\n",
    "\n",
    "Each Elf has made a claim about which area of fabric would be ideal for Santa's suit. All claims have an ID and consist of a single rectangle with edges parallel to the edges of the fabric. Each claim's rectangle is defined as follows:\n",
    "\n",
    "The number of inches between the left edge of the fabric and the left edge of the rectangle.\n",
    "The number of inches between the top edge of the fabric and the top edge of the rectangle.\n",
    "The width of the rectangle in inches.\n",
    "The height of the rectangle in inches.\n",
    "A claim like `#123 @ 3,2: 5x4` means that claim ID 123 specifies a rectangle 3 inches from the left edge, 2 inches from the top edge, 5 inches wide, and 4 inches tall. Visually, it claims the square inches of fabric represented by # (and ignores the square inches of fabric represented by .) in the diagram below:\n",
    "\n",
    "```...........\n",
    "...........\n",
    "...#####...\n",
    "...#####...\n",
    "...#####...\n",
    "...#####...\n",
    "...........\n",
    "...........\n",
    "...........```\n",
    "\n",
    "The problem is that many of the claims overlap, causing two or more claims to cover part of the same areas. For example, consider the following claims:\n",
    "\n",
    "`#1 @ 1,3: 4x4`\n",
    "\n",
    "`#2 @ 3,1: 4x4`\n",
    "\n",
    "`#3 @ 5,5: 2x2`\n",
    "\n",
    "Visually, these claim the following areas:\n",
    "\n",
    "```........\n",
    "...2222.\n",
    "...2222.\n",
    ".11XX22.\n",
    ".11XX22.\n",
    ".111133.\n",
    ".111133.\n",
    "........```\n",
    "\n",
    "The four square inches marked with X are claimed by both 1 and 2. (Claim 3, while adjacent to the others, does not overlap either of them.)\n",
    "\n",
    "If the Elves all proceed with their own plans, none of them will have enough fabric. How many square inches of fabric are within two or more claims?"
   ]
  },
  {
   "cell_type": "code",
   "execution_count": 64,
   "metadata": {},
   "outputs": [],
   "source": [
    "function parseClaim(s)\n",
    "    parts = filter(c -> c != \"\", split(s, r\"#|@|,|:| |x\"))\n",
    "    (id, xstart, ystart, width, height) = map(x->parse(Int64, x), parts)\n",
    "    return (id, xstart, ystart, width, height)\n",
    "end\n",
    "parseClaim(\"#1 @ 1,3: 4x4\");"
   ]
  },
  {
   "cell_type": "code",
   "execution_count": 65,
   "metadata": {},
   "outputs": [],
   "source": [
    "function getAffectedSquares(xstart, ystart, w, h)\n",
    "    squares = []\n",
    "    for x in xstart:xstart+w - 1\n",
    "        for y in ystart:ystart+h - 1\n",
    "            push!(squares, (Int(x), Int(y)))\n",
    "        end\n",
    "    end\n",
    "    return squares\n",
    "end\n",
    "\n",
    "(id, xstart, ystart, width, height) = parseClaim(\"#1 @ 1,3: 4x4\")\n",
    "getAffectedSquares(xstart, ystart, width, height);"
   ]
  },
  {
   "cell_type": "code",
   "execution_count": 66,
   "metadata": {},
   "outputs": [],
   "source": [
    "function getInput()\n",
    "    inputs = []\n",
    "    open(\"day3input.txt\") do f\n",
    "        for line in eachline(f)\n",
    "            push!(inputs, parseClaim(line))\n",
    "        end\n",
    "    end\n",
    "    return inputs\n",
    "end\n",
    "getInput();"
   ]
  },
  {
   "cell_type": "code",
   "execution_count": 67,
   "metadata": {},
   "outputs": [],
   "source": [
    "function addClaimToSquareCount!(dict, claim)\n",
    "    affectedSquares = getAffectedSquares(claim[2:end]...)\n",
    "    for (x, y) in affectedSquares\n",
    "        dict[(x, y)] = get(dict, (x, y), 0) + 1\n",
    "    end\n",
    "end\n",
    "\n",
    "dict = Dict()\n",
    "claims = [(1, 1, 3, 4, 4), (2, 3, 1, 4, 4), (3, 5, 5, 2, 2)]\n",
    "addClaimToSquareCount!(dict, claims[1])\n",
    "addClaimToSquareCount!(dict, claims[2])\n",
    "dict;"
   ]
  },
  {
   "cell_type": "code",
   "execution_count": 68,
   "metadata": {},
   "outputs": [
    {
     "data": {
      "text/plain": [
       "101469"
      ]
     },
     "execution_count": 68,
     "metadata": {},
     "output_type": "execute_result"
    }
   ],
   "source": [
    "function part1()\n",
    "    claims = getInput()\n",
    "    overlappingSquareDict = Dict()\n",
    "    for claim in claims\n",
    "        addClaimToSquareCount!(overlappingSquareDict, claim)\n",
    "    end\n",
    "    overlappingSquares = 0\n",
    "    for (k, v) in overlappingSquareDict\n",
    "        if v > 1\n",
    "            overlappingSquares += 1\n",
    "        end\n",
    "    end\n",
    "    return overlappingSquares\n",
    "end\n",
    "part1()"
   ]
  },
  {
   "cell_type": "code",
   "execution_count": 69,
   "metadata": {},
   "outputs": [
    {
     "data": {
      "text/plain": [
       "1067"
      ]
     },
     "execution_count": 69,
     "metadata": {},
     "output_type": "execute_result"
    }
   ],
   "source": [
    "function noOverlappingSquares(dict, claim)\n",
    "    affectedSquares = getAffectedSquares(claim[2:end]...)\n",
    "    for square in affectedSquares\n",
    "        if dict[square] > 1\n",
    "            return false\n",
    "        end\n",
    "    end\n",
    "    return true\n",
    "end\n",
    "        \n",
    "function part2()\n",
    "    claims = getInput()\n",
    "    overlappingSquareDict = Dict()\n",
    "    for claim in claims\n",
    "        addClaimToSquareCount!(overlappingSquareDict, claim)\n",
    "    end\n",
    "    \n",
    "    filter(claim -> noOverlappingSquares(overlappingSquareDict, claim), claims)[1][1]\n",
    "end\n",
    "part2()"
   ]
  },
  {
   "cell_type": "code",
   "execution_count": null,
   "metadata": {},
   "outputs": [],
   "source": []
  }
 ],
 "metadata": {
  "kernelspec": {
   "display_name": "Julia 1.0.2",
   "language": "julia",
   "name": "julia-1.0"
  },
  "language_info": {
   "file_extension": ".jl",
   "mimetype": "application/julia",
   "name": "julia",
   "version": "1.0.2"
  }
 },
 "nbformat": 4,
 "nbformat_minor": 2
}
